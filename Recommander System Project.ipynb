{
 "cells": [
  {
   "cell_type": "markdown",
   "id": "1e362d8c",
   "metadata": {},
   "source": [
    "<table class=\"tfo-notebook-buttons\" align=\"left\">\n",
    "  <td>\n",
    "    <a target=\"_blank\" href=\"https://drive.google.com/file/d/1KB2VMK54HxbRoqaN0cEPlW--bZwWOpLy/view?usp=sharing\"><img src=\"https://www.tensorflow.org/images/colab_logo_32px.png\" />Run in Google Colab</a>\n",
    "  </td>"
   ]
  },
  {
   "cell_type": "markdown",
   "id": "2f439cb2",
   "metadata": {},
   "source": [
    "# <p style=\"text-align:center\" color=\"red\"><span style=\"color:red\">Recommender System Project</span></p>\n",
    "## <p style=\"text-align:center\" color=\"red\"><span style=\"color:green\">`Recommender System `Project `Movie Recommendation System`</span></p>\n",
    "\n",
    "- Abir Oumghar - `AMSD`\n"
   ]
  },
  {
   "cell_type": "markdown",
   "id": "3890eb86",
   "metadata": {},
   "source": [
    "## Movie Recommendation System using AutoRec in Cornac"
   ]
  },
  {
   "cell_type": "markdown",
   "id": "00a79b9f",
   "metadata": {},
   "source": [
    "\n",
    "### 1. Introduction:\n",
    "Recommendation systems play a crucial role in personalized online experiences by suggesting relevant items to users. One popular approach to building recommendation systems is collaborative filtering, which leverages user-item interactions to make recommendations. In this project, our objective is to build a movie recommendation system using the AutoRec model implemented with the Cornac library.\n",
    "\n",
    "AutoRec is an autoencoder-based model that captures the latent representations of users and items to learn their interactions. It has shown promising results in various recommendation tasks by exploiting the inherent structure and patterns in user-item interaction data.\n",
    "\n",
    "The main goal of our project is to leverage the capabilities of the Cornac library and the AutoRec model to create a movie recommendation system that suggests relevant movies to users based on their historical preferences.\n"
   ]
  },
  {
   "cell_type": "code",
   "execution_count": 1,
   "id": "7cc31e9e",
   "metadata": {},
   "outputs": [
    {
     "name": "stdout",
     "output_type": "stream",
     "text": [
      "Links dataset shape: (62423, 3)\n",
      "Ratings dataset shape: (25000095, 4)\n",
      "Movies dataset shape: (62423, 3)\n",
      "Genome Tags dataset shape: (1128, 2)\n",
      "Genome Scores dataset shape: (15584448, 3)\n"
     ]
    }
   ],
   "source": [
    "import pandas as pd\n",
    "\n",
    "# Set the paths to the dataset files\n",
    "links_path = 'C:\\\\Users\\\\ABIR°S ELITEBOOK\\\\Downloads\\\\ml-25m\\\\ml-25m\\\\links.csv'\n",
    "ratings_path = 'C:\\\\Users\\\\ABIR°S ELITEBOOK\\\\Downloads\\\\ml-25m\\\\ml-25m\\\\ratings.csv'\n",
    "movies_path = 'C:\\\\Users\\\\ABIR°S ELITEBOOK\\\\Downloads\\\\ml-25m\\\\ml-25m\\\\movies.csv'\n",
    "genome_tags_path = 'C:\\\\Users\\\\ABIR°S ELITEBOOK\\\\Downloads\\\\ml-25m\\\\ml-25m\\\\genome-tags.csv'\n",
    "genome_scores_path = 'C:\\\\Users\\\\ABIR°S ELITEBOOK\\\\Downloads\\\\ml-25m\\\\ml-25m\\\\genome-scores.csv'\n",
    "\n",
    "# Load the datasets\n",
    "links_df = pd.read_csv(links_path)\n",
    "ratings_df = pd.read_csv(ratings_path)\n",
    "movies_df = pd.read_csv(movies_path)\n",
    "genome_tags_df = pd.read_csv(genome_tags_path)\n",
    "genome_scores_df = pd.read_csv(genome_scores_path)\n",
    "\n",
    "# Display the shapes of the datasets\n",
    "print(\"Links dataset shape:\", links_df.shape)\n",
    "print(\"Ratings dataset shape:\", ratings_df.shape)\n",
    "print(\"Movies dataset shape:\", movies_df.shape)\n",
    "print(\"Genome Tags dataset shape:\", genome_tags_df.shape)\n",
    "print(\"Genome Scores dataset shape:\", genome_scores_df.shape)\n"
   ]
  },
  {
   "cell_type": "code",
   "execution_count": 2,
   "id": "3328115e",
   "metadata": {},
   "outputs": [
    {
     "name": "stdout",
     "output_type": "stream",
     "text": [
      "Links dataset description:\n",
      "              movieId        imdbId         tmdbId\n",
      "count   62423.000000  6.242300e+04   62316.000000\n",
      "mean   122220.387646  1.456706e+06  155186.689999\n",
      "std     63264.744844  2.098007e+06  153362.694700\n",
      "min         1.000000  1.000000e+00       2.000000\n",
      "25%     82146.500000  8.168650e+04   36768.750000\n",
      "50%    138022.000000  3.258050e+05   86750.500000\n",
      "75%    173222.000000  2.063724e+06  255255.250000\n",
      "max    209171.000000  1.117094e+07  646282.000000\n",
      "\n",
      "Ratings dataset description:\n",
      "              userId       movieId        rating     timestamp\n",
      "count  2.500010e+07  2.500010e+07  2.500010e+07  2.500010e+07\n",
      "mean   8.118928e+04  2.138798e+04  3.533854e+00  1.215601e+09\n",
      "std    4.679172e+04  3.919886e+04  1.060744e+00  2.268758e+08\n",
      "min    1.000000e+00  1.000000e+00  5.000000e-01  7.896520e+08\n",
      "25%    4.051000e+04  1.196000e+03  3.000000e+00  1.011747e+09\n",
      "50%    8.091400e+04  2.947000e+03  3.500000e+00  1.198868e+09\n",
      "75%    1.215570e+05  8.623000e+03  4.000000e+00  1.447205e+09\n",
      "max    1.625410e+05  2.091710e+05  5.000000e+00  1.574328e+09\n",
      "\n",
      "Movies dataset description:\n",
      "              movieId\n",
      "count   62423.000000\n",
      "mean   122220.387646\n",
      "std     63264.744844\n",
      "min         1.000000\n",
      "25%     82146.500000\n",
      "50%    138022.000000\n",
      "75%    173222.000000\n",
      "max    209171.000000\n",
      "\n",
      "Genome Tags dataset description:\n",
      "              tagId\n",
      "count  1128.000000\n",
      "mean    564.500000\n",
      "std     325.769857\n",
      "min       1.000000\n",
      "25%     282.750000\n",
      "50%     564.500000\n",
      "75%     846.250000\n",
      "max    1128.000000\n",
      "\n",
      "Genome Scores dataset description:\n",
      "             movieId         tagId     relevance\n",
      "count  1.558445e+07  1.558445e+07  1.558445e+07\n",
      "mean   4.602249e+04  5.645000e+02  1.163679e-01\n",
      "std    5.535221e+04  3.256254e+02  1.544722e-01\n",
      "min    1.000000e+00  1.000000e+00  2.500000e-04\n",
      "25%    3.853750e+03  2.827500e+02  2.400000e-02\n",
      "50%    8.575500e+03  5.645000e+02  5.650000e-02\n",
      "75%    8.018650e+04  8.462500e+02  1.407500e-01\n",
      "max    2.064990e+05  1.128000e+03  1.000000e+00\n"
     ]
    }
   ],
   "source": [
    "# Describe the Links dataset\n",
    "links_description = links_df.describe()\n",
    "\n",
    "# Describe the Ratings dataset\n",
    "ratings_description = ratings_df.describe()\n",
    "\n",
    "# Describe the Movies dataset\n",
    "movies_description = movies_df.describe()\n",
    "\n",
    "# Describe the Genome Tags dataset\n",
    "genome_tags_description = genome_tags_df.describe()\n",
    "\n",
    "# Describe the Genome Scores dataset\n",
    "genome_scores_description = genome_scores_df.describe()\n",
    "\n",
    "# Display the descriptions\n",
    "print(\"Links dataset description:\\n\", links_description)\n",
    "print(\"\\nRatings dataset description:\\n\", ratings_description)\n",
    "print(\"\\nMovies dataset description:\\n\", movies_description)\n",
    "print(\"\\nGenome Tags dataset description:\\n\", genome_tags_description)\n",
    "print(\"\\nGenome Scores dataset description:\\n\", genome_scores_description)\n"
   ]
  },
  {
   "cell_type": "markdown",
   "id": "601d3a37",
   "metadata": {},
   "source": [
    "2. Setup"
   ]
  },
  {
   "cell_type": "code",
   "execution_count": 3,
   "id": "eddadf0b",
   "metadata": {},
   "outputs": [
    {
     "name": "stderr",
     "output_type": "stream",
     "text": [
      "c:\\users\\abir°s elitebook\\appdata\\local\\programs\\python\\python36\\lib\\site-packages\\tqdm\\auto.py:22: TqdmWarning: IProgress not found. Please update jupyter and ipywidgets. See https://ipywidgets.readthedocs.io/en/stable/user_install.html\n",
      "  from .autonotebook import tqdm as notebook_tqdm\n"
     ]
    },
    {
     "name": "stdout",
     "output_type": "stream",
     "text": [
      "FM model is only supported on Linux.\n",
      "Windows executable can be found at http://www.libfm.org.\n",
      "System version: 3.6.4 (v3.6.4:d48eceb, Dec 19 2017, 06:54:40) [MSC v.1900 64 bit (AMD64)]\n",
      "Cornac version: 1.15.4\n"
     ]
    }
   ],
   "source": [
    "import os\n",
    "import sys\n",
    "\n",
    "import cornac\n",
    "import numpy as np\n",
    "import pandas as pd\n",
    "import matplotlib.pyplot as plt\n",
    "import seaborn as sns\n",
    "from scipy import stats, sparse\n",
    "\n",
    "%matplotlib inline\n",
    "\n",
    "# Print system version\n",
    "print(f\"System version: {sys.version}\")\n",
    "\n",
    "# Print Cornac version\n",
    "print(f\"Cornac version: {cornac.__version__}\")"
   ]
  },
  {
   "cell_type": "markdown",
   "id": "eb321057",
   "metadata": {},
   "source": [
    "3. Data Exploration"
   ]
  },
  {
   "cell_type": "code",
   "execution_count": 4,
   "id": "a001e88b",
   "metadata": {},
   "outputs": [
    {
     "data": {
      "text/html": [
       "<div>\n",
       "<style scoped>\n",
       "    .dataframe tbody tr th:only-of-type {\n",
       "        vertical-align: middle;\n",
       "    }\n",
       "\n",
       "    .dataframe tbody tr th {\n",
       "        vertical-align: top;\n",
       "    }\n",
       "\n",
       "    .dataframe thead th {\n",
       "        text-align: right;\n",
       "    }\n",
       "</style>\n",
       "<table border=\"1\" class=\"dataframe\">\n",
       "  <thead>\n",
       "    <tr style=\"text-align: right;\">\n",
       "      <th></th>\n",
       "      <th>userId</th>\n",
       "      <th>item_id</th>\n",
       "      <th>rating</th>\n",
       "    </tr>\n",
       "  </thead>\n",
       "  <tbody>\n",
       "    <tr>\n",
       "      <th>0</th>\n",
       "      <td>196</td>\n",
       "      <td>242</td>\n",
       "      <td>3.0</td>\n",
       "    </tr>\n",
       "    <tr>\n",
       "      <th>1</th>\n",
       "      <td>186</td>\n",
       "      <td>302</td>\n",
       "      <td>3.0</td>\n",
       "    </tr>\n",
       "    <tr>\n",
       "      <th>2</th>\n",
       "      <td>22</td>\n",
       "      <td>377</td>\n",
       "      <td>1.0</td>\n",
       "    </tr>\n",
       "    <tr>\n",
       "      <th>3</th>\n",
       "      <td>244</td>\n",
       "      <td>51</td>\n",
       "      <td>2.0</td>\n",
       "    </tr>\n",
       "    <tr>\n",
       "      <th>4</th>\n",
       "      <td>166</td>\n",
       "      <td>346</td>\n",
       "      <td>1.0</td>\n",
       "    </tr>\n",
       "  </tbody>\n",
       "</table>\n",
       "</div>"
      ],
      "text/plain": [
       "  userId item_id  rating\n",
       "0    196     242     3.0\n",
       "1    186     302     3.0\n",
       "2     22     377     1.0\n",
       "3    244      51     2.0\n",
       "4    166     346     1.0"
      ]
     },
     "execution_count": 4,
     "metadata": {},
     "output_type": "execute_result"
    }
   ],
   "source": [
    "# Load the MovieLens 100K dataset from the Cornac library\n",
    "data = cornac.datasets.movielens.load_feedback(variant=\"100K\")\n",
    "\n",
    "# Convert the data into a pandas DataFrame\n",
    "df = pd.DataFrame(data, columns=[\"userId\", \"item_id\", \"rating\"])\n",
    "\n",
    "# Display the first few rows of the DataFrame\n",
    "df.head()"
   ]
  },
  {
   "cell_type": "code",
   "execution_count": 5,
   "id": "5fa4202b",
   "metadata": {},
   "outputs": [
    {
     "data": {
      "text/html": [
       "<div>\n",
       "<style scoped>\n",
       "    .dataframe tbody tr th:only-of-type {\n",
       "        vertical-align: middle;\n",
       "    }\n",
       "\n",
       "    .dataframe tbody tr th {\n",
       "        vertical-align: top;\n",
       "    }\n",
       "\n",
       "    .dataframe thead th {\n",
       "        text-align: right;\n",
       "    }\n",
       "</style>\n",
       "<table border=\"1\" class=\"dataframe\">\n",
       "  <thead>\n",
       "    <tr style=\"text-align: right;\">\n",
       "      <th></th>\n",
       "      <th>userId</th>\n",
       "      <th>movieId</th>\n",
       "      <th>rating</th>\n",
       "    </tr>\n",
       "  </thead>\n",
       "  <tbody>\n",
       "    <tr>\n",
       "      <th>0</th>\n",
       "      <td>1</td>\n",
       "      <td>296</td>\n",
       "      <td>5.0</td>\n",
       "    </tr>\n",
       "    <tr>\n",
       "      <th>1</th>\n",
       "      <td>1</td>\n",
       "      <td>306</td>\n",
       "      <td>3.5</td>\n",
       "    </tr>\n",
       "    <tr>\n",
       "      <th>2</th>\n",
       "      <td>1</td>\n",
       "      <td>307</td>\n",
       "      <td>5.0</td>\n",
       "    </tr>\n",
       "    <tr>\n",
       "      <th>3</th>\n",
       "      <td>1</td>\n",
       "      <td>665</td>\n",
       "      <td>5.0</td>\n",
       "    </tr>\n",
       "    <tr>\n",
       "      <th>4</th>\n",
       "      <td>1</td>\n",
       "      <td>899</td>\n",
       "      <td>3.5</td>\n",
       "    </tr>\n",
       "  </tbody>\n",
       "</table>\n",
       "</div>"
      ],
      "text/plain": [
       "   userId  movieId  rating\n",
       "0       1      296     5.0\n",
       "1       1      306     3.5\n",
       "2       1      307     5.0\n",
       "3       1      665     5.0\n",
       "4       1      899     3.5"
      ]
     },
     "execution_count": 5,
     "metadata": {},
     "output_type": "execute_result"
    }
   ],
   "source": [
    "\n",
    "# Set the paths to the dataset files\n",
    "links_path = 'C:\\\\Users\\\\ABIR°S ELITEBOOK\\\\Downloads\\\\ml-25m\\\\ml-25m\\\\links.csv'\n",
    "ratings_path = 'C:\\\\Users\\\\ABIR°S ELITEBOOK\\\\Downloads\\\\ml-25m\\\\ml-25m\\\\ratings.csv'\n",
    "movies_path = 'C:\\\\Users\\\\ABIR°S ELITEBOOK\\\\Downloads\\\\ml-25m\\\\ml-25m\\\\movies.csv'\n",
    "genome_tags_path = 'C:\\\\Users\\\\ABIR°S ELITEBOOK\\\\Downloads\\\\ml-25m\\\\ml-25m\\\\genome-tags.csv'\n",
    "genome_scores_path = 'C:\\\\Users\\\\ABIR°S ELITEBOOK\\\\Downloads\\\\ml-25m\\\\ml-25m\\\\genome-scores.csv'\n",
    "\n",
    "# Load the datasets\n",
    "links_df = pd.read_csv(links_path)\n",
    "ratings_df = pd.read_csv(ratings_path)\n",
    "movies_df = pd.read_csv(movies_path)\n",
    "genome_tags_df = pd.read_csv(genome_tags_path)\n",
    "genome_scores_df = pd.read_csv(genome_scores_path)\n",
    "\n",
    "# Adapt the loading of the dataset\n",
    "data = ratings_df[['userId', 'movieId', 'rating']]\n",
    "df = pd.DataFrame(data, columns=[\"userId\", \"movieId\", \"rating\"])\n",
    "df.head()\n"
   ]
  },
  {
   "cell_type": "code",
   "execution_count": 6,
   "id": "fa4e43e5",
   "metadata": {},
   "outputs": [
    {
     "name": "stdout",
     "output_type": "stream",
     "text": [
      "Number of ratings: 25000095\n",
      "Number of users: 162541\n",
      "Number of items: 59047\n"
     ]
    }
   ],
   "source": [
    "print(f\"Number of ratings: {len(df)}\")\n",
    "print(f\"Number of users: {df.userId.nunique()}\")\n",
    "print(f\"Number of items: {df.movieId.nunique()}\")"
   ]
  },
  {
   "cell_type": "markdown",
   "id": "3696f372",
   "metadata": {},
   "source": [
    "4. Rating Statistics"
   ]
  },
  {
   "cell_type": "code",
   "execution_count": 7,
   "id": "dd8d2d20",
   "metadata": {},
   "outputs": [
    {
     "data": {
      "text/plain": [
       "count    2.500010e+07\n",
       "mean     3.533854e+00\n",
       "std      1.060744e+00\n",
       "min      5.000000e-01\n",
       "25%      3.000000e+00\n",
       "50%      3.500000e+00\n",
       "75%      4.000000e+00\n",
       "max      5.000000e+00\n",
       "Name: rating, dtype: float64"
      ]
     },
     "execution_count": 7,
     "metadata": {},
     "output_type": "execute_result"
    }
   ],
   "source": [
    "df.rating.describe()"
   ]
  },
  {
   "cell_type": "code",
   "execution_count": 8,
   "id": "acd38bff",
   "metadata": {},
   "outputs": [
    {
     "data": {
      "text/plain": [
       "<AxesSubplot:xlabel='rating'>"
      ]
     },
     "execution_count": 8,
     "metadata": {},
     "output_type": "execute_result"
    },
    {
     "data": {
      "image/png": "[encoded data removed]",
      "text/plain": [
       "<Figure size 1008x360 with 2 Axes>"
      ]
     },
     "metadata": {
      "needs_background": "light"
     },
     "output_type": "display_data"
    }
   ],
   "source": [
    "fig, axes = plt.subplots(nrows=1, ncols=2, figsize=(14, 5))\n",
    "sns.countplot(x=\"rating\", data=df, palette=\"ch:.25\", ax=axes[0])\n",
    "sns.boxplo# Create a figure with subplots\n",
    "fig, axes = plt.subplots(nrows=1, ncols=2, figsize=(14, 5))\n",
    "\n",
    "# Plot a countplot of the \"rating\" column on the first subplot\n",
    "sns.countplot(x=\"rating\", data=df, palette=\"ch:.25\", ax=axes[0])\n",
    "\n",
    "# Plot a boxplot of the \"rating\" column on the second subplot\n",
    "sns.boxplot(x=\"rating\", data=df, palette=\"ch:.25\", ax=axes[1])t(x=\"rating\", data=df, palette=\"ch:.25\", ax=axes[1])"
   ]
  },
  {
   "cell_type": "markdown",
   "id": "6c85971a",
   "metadata": {},
   "source": [
    "5. Data Sparsity"
   ]
  },
  {
   "cell_type": "code",
   "execution_count": 9,
   "id": "3850ce84",
   "metadata": {},
   "outputs": [
    {
     "name": "stdout",
     "output_type": "stream",
     "text": [
      "Number of users: 162541\n",
      "Number of items: 59047\n",
      "Number of available ratings: 25000095\n",
      "Number of all possible ratings: 9597558427\n",
      "----------------------------------------\n",
      "SPARSITY: 99.74%\n"
     ]
    }
   ],
   "source": [
    "# Calculate the number of unique users in the DataFrame\n",
    "n_users = df.userId.nunique()\n",
    "\n",
    "# Calculate the number of unique items in the DataFrame\n",
    "n_items = df.movieId.nunique()\n",
    "\n",
    "# Calculate the total number of ratings in the DataFrame\n",
    "n_ratings = len(df)\n",
    "\n",
    "# Calculate the size of the rating matrix (all possible ratings)\n",
    "rating_matrix_size = n_users * n_items\n",
    "\n",
    "# Calculate the sparsity of the rating matrix\n",
    "sparsity = 1 - n_ratings / rating_matrix_size\n",
    "\n",
    "# Print the calculated values and sparsity percentage\n",
    "print(f\"Number of users: {n_users}\")\n",
    "print(f\"Number of items: {n_items}\")\n",
    "print(f\"Number of available ratings: {n_ratings}\")\n",
    "print(f\"Number of all possible ratings: {rating_matrix_size}\")\n",
    "print(\"-\" * 40)\n",
    "print(f\"SPARSITY: {sparsity * 100.0:.2f}%\")"
   ]
  },
  {
   "cell_type": "code",
   "execution_count": 10,
   "id": "53cac94a",
   "metadata": {},
   "outputs": [
    {
     "data": {
      "text/plain": [
       "movieId\n",
       "356     81491\n",
       "318     81482\n",
       "296     79672\n",
       "593     74127\n",
       "2571    72674\n",
       "260     68717\n",
       "480     64144\n",
       "527     60411\n",
       "110     59184\n",
       "2959    58773\n",
       "Name: userId, dtype: int64"
      ]
     },
     "execution_count": 10,
     "metadata": {},
     "output_type": "execute_result"
    }
   ],
   "source": [
    "item_rate_count = df.groupby(\"movieId\")[\"userId\"].nunique().sort_values(ascending=False)\n",
    "item_rate_count.head(10)"
   ]
  },
  {
   "cell_type": "code",
   "execution_count": 11,
   "id": "86bebab6",
   "metadata": {},
   "outputs": [
    {
     "data": {
      "text/plain": [
       "movieId\n",
       "150914    1\n",
       "151021    1\n",
       "150918    1\n",
       "150933    1\n",
       "150941    1\n",
       "150950    1\n",
       "150962    1\n",
       "151001    1\n",
       "151011    1\n",
       "136782    1\n",
       "Name: userId, dtype: int64"
      ]
     },
     "execution_count": 11,
     "metadata": {},
     "output_type": "execute_result"
    }
   ],
   "source": [
    "item_rate_count.tail(10)"
   ]
  },
  {
   "cell_type": "code",
   "execution_count": 12,
   "id": "c1ccabbd",
   "metadata": {},
   "outputs": [
    {
     "data": {
      "text/plain": [
       "[Text(0.5, 1.0, 'log-log plot'),\n",
       " Text(0.5, 0, '#ratings (log scale)'),\n",
       " Text(0, 0.5, '#frequency (log scale)')]"
      ]
     },
     "execution_count": 12,
     "metadata": {},
     "output_type": "execute_result"
    },
    {
     "data": {
      "image/png": "[encoded data removed]",
      "text/plain": [
       "<Figure size 1008x360 with 2 Axes>"
      ]
     },
     "metadata": {
      "needs_background": "light"
     },
     "output_type": "display_data"
    }
   ],
   "source": [
    "# Create a figure with subplots\n",
    "fig, axes = plt.subplots(nrows=1, ncols=2, figsize=(14, 5))\n",
    "\n",
    "# Plot a bar plot on the first subplot\n",
    "axes[0].bar(x=item_rate_count.index, height=item_rate_count.values, width=1.0, align=\"edge\")\n",
    "\n",
    "# Customize the first subplot\n",
    "axes[0].set_xticks([])\n",
    "axes[0].set(title=\"long tail of rating frequency\", xlabel=\"item ordered by decreasing frequency\", ylabel=\"#ratings\")\n",
    "\n",
    "# Compute the value counts of item_rate_count and plot a scatter plot on the second subplot\n",
    "count = item_rate_count.value_counts()\n",
    "sns.scatterplot(x=np.log(count.index), y=np.log(count.values), ax=axes[1])\n",
    "\n",
    "# Customize the second subplot\n",
    "axes[1].set(title=\"log-log plot\", xlabel=\"#ratings (log scale)\", ylabel=\"#frequency (log scale)\")"
   ]
  },
  {
   "cell_type": "code",
   "execution_count": 13,
   "id": "5afa2136",
   "metadata": {},
   "outputs": [
    {
     "data": {
      "text/plain": [
       "4.0    6639798\n",
       "3.0    4896928\n",
       "5.0    3612474\n",
       "3.5    3177318\n",
       "4.5    2200539\n",
       "2.0    1640868\n",
       "2.5    1262797\n",
       "1.0     776815\n",
       "1.5     399490\n",
       "0.5     393068\n",
       "Name: rating, dtype: int64"
      ]
     },
     "execution_count": 13,
     "metadata": {},
     "output_type": "execute_result"
    }
   ],
   "source": [
    "   ratings_df['rating'].value_counts()\n"
   ]
  },
  {
   "cell_type": "code",
   "execution_count": 14,
   "id": "9e19fcdc",
   "metadata": {},
   "outputs": [],
   "source": [
    "   ratings_df['rating'] = pd.to_numeric(ratings_df['rating'], errors='coerce')\n"
   ]
  },
  {
   "cell_type": "code",
   "execution_count": 15,
   "id": "0a90bd76",
   "metadata": {},
   "outputs": [
    {
     "name": "stdout",
     "output_type": "stream",
     "text": [
      "System version: 3.6.4 (v3.6.4:d48eceb, Dec 19 2017, 06:54:40) [MSC v.1900 64 bit (AMD64)]\n",
      "Cornac version: 1.15.4\n"
     ]
    }
   ],
   "source": [
    "import os\n",
    "import sys\n",
    "import textwrap\n",
    "from collections import defaultdict\n",
    "\n",
    "import numpy as np\n",
    "import pandas as pd\n",
    "import seaborn as sns\n",
    "import matplotlib.pyplot as plt\n",
    "%matplotlib inline\n",
    "\n",
    "import cornac\n",
    "from cornac.utils import cache\n",
    "from cornac.datasets import movielens\n",
    "from cornac.eval_methods import RatioSplit\n",
    "from cornac.models import UserKNN, ItemKNN\n",
    "\n",
    "print(f\"System version: {sys.version}\")\n",
    "print(f\"Cornac version: {cornac.__version__}\")\n",
    "\n",
    "SEED = 42\n",
    "VERBOSE = False"
   ]
  },
  {
   "cell_type": "markdown",
   "id": "f0e31a28",
   "metadata": {},
   "source": [
    "## 2.Neighborhood"
   ]
  },
  {
   "cell_type": "markdown",
   "id": "074c367d",
   "metadata": {},
   "source": [
    "1. Original Rating Matrix"
   ]
  },
  {
   "cell_type": "code",
   "execution_count": 16,
   "id": "c046bdf1",
   "metadata": {},
   "outputs": [
    {
     "data": {
      "text/html": [
       "<div>\n",
       "<style scoped>\n",
       "    .dataframe tbody tr th:only-of-type {\n",
       "        vertical-align: middle;\n",
       "    }\n",
       "\n",
       "    .dataframe tbody tr th {\n",
       "        vertical-align: top;\n",
       "    }\n",
       "\n",
       "    .dataframe thead th {\n",
       "        text-align: right;\n",
       "    }\n",
       "</style>\n",
       "<table border=\"1\" class=\"dataframe\">\n",
       "  <thead>\n",
       "    <tr style=\"text-align: right;\">\n",
       "      <th></th>\n",
       "      <th>Item 1</th>\n",
       "      <th>Item 2</th>\n",
       "      <th>Item 3</th>\n",
       "      <th>Item 4</th>\n",
       "      <th>Item 5</th>\n",
       "      <th>Item 6</th>\n",
       "      <th>Item 7</th>\n",
       "      <th>Item 8</th>\n",
       "      <th>Item 9</th>\n",
       "      <th>Item 10</th>\n",
       "      <th>...</th>\n",
       "      <th>Item 797</th>\n",
       "      <th>Item 798</th>\n",
       "      <th>Item 799</th>\n",
       "      <th>Item 800</th>\n",
       "      <th>Item 801</th>\n",
       "      <th>Item 802</th>\n",
       "      <th>Item 803</th>\n",
       "      <th>Item 804</th>\n",
       "      <th>Item 805</th>\n",
       "      <th>Mean Rating</th>\n",
       "    </tr>\n",
       "  </thead>\n",
       "  <tbody>\n",
       "    <tr>\n",
       "      <th>User 1</th>\n",
       "      <td>5.0</td>\n",
       "      <td>NaN</td>\n",
       "      <td>NaN</td>\n",
       "      <td>NaN</td>\n",
       "      <td>NaN</td>\n",
       "      <td>NaN</td>\n",
       "      <td>NaN</td>\n",
       "      <td>NaN</td>\n",
       "      <td>NaN</td>\n",
       "      <td>NaN</td>\n",
       "      <td>...</td>\n",
       "      <td>NaN</td>\n",
       "      <td>NaN</td>\n",
       "      <td>NaN</td>\n",
       "      <td>NaN</td>\n",
       "      <td>NaN</td>\n",
       "      <td>NaN</td>\n",
       "      <td>NaN</td>\n",
       "      <td>NaN</td>\n",
       "      <td>NaN</td>\n",
       "      <td>5.0</td>\n",
       "    </tr>\n",
       "    <tr>\n",
       "      <th>User 2</th>\n",
       "      <td>NaN</td>\n",
       "      <td>5.0</td>\n",
       "      <td>NaN</td>\n",
       "      <td>NaN</td>\n",
       "      <td>NaN</td>\n",
       "      <td>NaN</td>\n",
       "      <td>NaN</td>\n",
       "      <td>NaN</td>\n",
       "      <td>NaN</td>\n",
       "      <td>NaN</td>\n",
       "      <td>...</td>\n",
       "      <td>NaN</td>\n",
       "      <td>NaN</td>\n",
       "      <td>NaN</td>\n",
       "      <td>NaN</td>\n",
       "      <td>NaN</td>\n",
       "      <td>NaN</td>\n",
       "      <td>NaN</td>\n",
       "      <td>NaN</td>\n",
       "      <td>NaN</td>\n",
       "      <td>5.0</td>\n",
       "    </tr>\n",
       "    <tr>\n",
       "      <th>User 3</th>\n",
       "      <td>NaN</td>\n",
       "      <td>NaN</td>\n",
       "      <td>3.5</td>\n",
       "      <td>NaN</td>\n",
       "      <td>NaN</td>\n",
       "      <td>NaN</td>\n",
       "      <td>NaN</td>\n",
       "      <td>NaN</td>\n",
       "      <td>NaN</td>\n",
       "      <td>NaN</td>\n",
       "      <td>...</td>\n",
       "      <td>NaN</td>\n",
       "      <td>NaN</td>\n",
       "      <td>NaN</td>\n",
       "      <td>NaN</td>\n",
       "      <td>NaN</td>\n",
       "      <td>NaN</td>\n",
       "      <td>NaN</td>\n",
       "      <td>NaN</td>\n",
       "      <td>NaN</td>\n",
       "      <td>3.5</td>\n",
       "    </tr>\n",
       "    <tr>\n",
       "      <th>User 4</th>\n",
       "      <td>NaN</td>\n",
       "      <td>NaN</td>\n",
       "      <td>NaN</td>\n",
       "      <td>1.0</td>\n",
       "      <td>NaN</td>\n",
       "      <td>NaN</td>\n",
       "      <td>NaN</td>\n",
       "      <td>NaN</td>\n",
       "      <td>NaN</td>\n",
       "      <td>NaN</td>\n",
       "      <td>...</td>\n",
       "      <td>NaN</td>\n",
       "      <td>NaN</td>\n",
       "      <td>NaN</td>\n",
       "      <td>NaN</td>\n",
       "      <td>NaN</td>\n",
       "      <td>NaN</td>\n",
       "      <td>NaN</td>\n",
       "      <td>NaN</td>\n",
       "      <td>NaN</td>\n",
       "      <td>1.0</td>\n",
       "    </tr>\n",
       "    <tr>\n",
       "      <th>User 5</th>\n",
       "      <td>NaN</td>\n",
       "      <td>NaN</td>\n",
       "      <td>NaN</td>\n",
       "      <td>NaN</td>\n",
       "      <td>4.0</td>\n",
       "      <td>NaN</td>\n",
       "      <td>NaN</td>\n",
       "      <td>NaN</td>\n",
       "      <td>NaN</td>\n",
       "      <td>NaN</td>\n",
       "      <td>...</td>\n",
       "      <td>NaN</td>\n",
       "      <td>NaN</td>\n",
       "      <td>NaN</td>\n",
       "      <td>NaN</td>\n",
       "      <td>NaN</td>\n",
       "      <td>NaN</td>\n",
       "      <td>NaN</td>\n",
       "      <td>NaN</td>\n",
       "      <td>NaN</td>\n",
       "      <td>4.5</td>\n",
       "    </tr>\n",
       "    <tr>\n",
       "      <th>...</th>\n",
       "      <td>...</td>\n",
       "      <td>...</td>\n",
       "      <td>...</td>\n",
       "      <td>...</td>\n",
       "      <td>...</td>\n",
       "      <td>...</td>\n",
       "      <td>...</td>\n",
       "      <td>...</td>\n",
       "      <td>...</td>\n",
       "      <td>...</td>\n",
       "      <td>...</td>\n",
       "      <td>...</td>\n",
       "      <td>...</td>\n",
       "      <td>...</td>\n",
       "      <td>...</td>\n",
       "      <td>...</td>\n",
       "      <td>...</td>\n",
       "      <td>...</td>\n",
       "      <td>...</td>\n",
       "      <td>...</td>\n",
       "      <td>...</td>\n",
       "    </tr>\n",
       "    <tr>\n",
       "      <th>User 982</th>\n",
       "      <td>NaN</td>\n",
       "      <td>NaN</td>\n",
       "      <td>NaN</td>\n",
       "      <td>NaN</td>\n",
       "      <td>NaN</td>\n",
       "      <td>NaN</td>\n",
       "      <td>NaN</td>\n",
       "      <td>NaN</td>\n",
       "      <td>NaN</td>\n",
       "      <td>NaN</td>\n",
       "      <td>...</td>\n",
       "      <td>NaN</td>\n",
       "      <td>NaN</td>\n",
       "      <td>NaN</td>\n",
       "      <td>NaN</td>\n",
       "      <td>NaN</td>\n",
       "      <td>NaN</td>\n",
       "      <td>NaN</td>\n",
       "      <td>NaN</td>\n",
       "      <td>NaN</td>\n",
       "      <td>4.0</td>\n",
       "    </tr>\n",
       "    <tr>\n",
       "      <th>User 983</th>\n",
       "      <td>NaN</td>\n",
       "      <td>NaN</td>\n",
       "      <td>NaN</td>\n",
       "      <td>NaN</td>\n",
       "      <td>NaN</td>\n",
       "      <td>NaN</td>\n",
       "      <td>NaN</td>\n",
       "      <td>NaN</td>\n",
       "      <td>NaN</td>\n",
       "      <td>NaN</td>\n",
       "      <td>...</td>\n",
       "      <td>NaN</td>\n",
       "      <td>NaN</td>\n",
       "      <td>NaN</td>\n",
       "      <td>NaN</td>\n",
       "      <td>3.0</td>\n",
       "      <td>NaN</td>\n",
       "      <td>NaN</td>\n",
       "      <td>NaN</td>\n",
       "      <td>NaN</td>\n",
       "      <td>3.0</td>\n",
       "    </tr>\n",
       "    <tr>\n",
       "      <th>User 984</th>\n",
       "      <td>NaN</td>\n",
       "      <td>NaN</td>\n",
       "      <td>NaN</td>\n",
       "      <td>NaN</td>\n",
       "      <td>NaN</td>\n",
       "      <td>NaN</td>\n",
       "      <td>NaN</td>\n",
       "      <td>NaN</td>\n",
       "      <td>NaN</td>\n",
       "      <td>NaN</td>\n",
       "      <td>...</td>\n",
       "      <td>NaN</td>\n",
       "      <td>NaN</td>\n",
       "      <td>NaN</td>\n",
       "      <td>NaN</td>\n",
       "      <td>NaN</td>\n",
       "      <td>NaN</td>\n",
       "      <td>3.0</td>\n",
       "      <td>NaN</td>\n",
       "      <td>NaN</td>\n",
       "      <td>3.0</td>\n",
       "    </tr>\n",
       "    <tr>\n",
       "      <th>User 985</th>\n",
       "      <td>NaN</td>\n",
       "      <td>NaN</td>\n",
       "      <td>NaN</td>\n",
       "      <td>NaN</td>\n",
       "      <td>NaN</td>\n",
       "      <td>NaN</td>\n",
       "      <td>NaN</td>\n",
       "      <td>NaN</td>\n",
       "      <td>NaN</td>\n",
       "      <td>NaN</td>\n",
       "      <td>...</td>\n",
       "      <td>NaN</td>\n",
       "      <td>NaN</td>\n",
       "      <td>NaN</td>\n",
       "      <td>NaN</td>\n",
       "      <td>NaN</td>\n",
       "      <td>NaN</td>\n",
       "      <td>NaN</td>\n",
       "      <td>2.0</td>\n",
       "      <td>NaN</td>\n",
       "      <td>2.0</td>\n",
       "    </tr>\n",
       "    <tr>\n",
       "      <th>User 986</th>\n",
       "      <td>NaN</td>\n",
       "      <td>NaN</td>\n",
       "      <td>NaN</td>\n",
       "      <td>NaN</td>\n",
       "      <td>NaN</td>\n",
       "      <td>NaN</td>\n",
       "      <td>NaN</td>\n",
       "      <td>NaN</td>\n",
       "      <td>NaN</td>\n",
       "      <td>NaN</td>\n",
       "      <td>...</td>\n",
       "      <td>NaN</td>\n",
       "      <td>NaN</td>\n",
       "      <td>NaN</td>\n",
       "      <td>NaN</td>\n",
       "      <td>NaN</td>\n",
       "      <td>NaN</td>\n",
       "      <td>NaN</td>\n",
       "      <td>NaN</td>\n",
       "      <td>5.0</td>\n",
       "      <td>5.0</td>\n",
       "    </tr>\n",
       "  </tbody>\n",
       "</table>\n",
       "<p>986 rows × 806 columns</p>\n",
       "</div>"
      ],
      "text/plain": [
       "          Item 1  Item 2  Item 3  Item 4  Item 5  Item 6  Item 7  Item 8  \\\n",
       "User 1       5.0     NaN     NaN     NaN     NaN     NaN     NaN     NaN   \n",
       "User 2       NaN     5.0     NaN     NaN     NaN     NaN     NaN     NaN   \n",
       "User 3       NaN     NaN     3.5     NaN     NaN     NaN     NaN     NaN   \n",
       "User 4       NaN     NaN     NaN     1.0     NaN     NaN     NaN     NaN   \n",
       "User 5       NaN     NaN     NaN     NaN     4.0     NaN     NaN     NaN   \n",
       "...          ...     ...     ...     ...     ...     ...     ...     ...   \n",
       "User 982     NaN     NaN     NaN     NaN     NaN     NaN     NaN     NaN   \n",
       "User 983     NaN     NaN     NaN     NaN     NaN     NaN     NaN     NaN   \n",
       "User 984     NaN     NaN     NaN     NaN     NaN     NaN     NaN     NaN   \n",
       "User 985     NaN     NaN     NaN     NaN     NaN     NaN     NaN     NaN   \n",
       "User 986     NaN     NaN     NaN     NaN     NaN     NaN     NaN     NaN   \n",
       "\n",
       "          Item 9  Item 10  ...  Item 797  Item 798  Item 799  Item 800  \\\n",
       "User 1       NaN      NaN  ...       NaN       NaN       NaN       NaN   \n",
       "User 2       NaN      NaN  ...       NaN       NaN       NaN       NaN   \n",
       "User 3       NaN      NaN  ...       NaN       NaN       NaN       NaN   \n",
       "User 4       NaN      NaN  ...       NaN       NaN       NaN       NaN   \n",
       "User 5       NaN      NaN  ...       NaN       NaN       NaN       NaN   \n",
       "...          ...      ...  ...       ...       ...       ...       ...   \n",
       "User 982     NaN      NaN  ...       NaN       NaN       NaN       NaN   \n",
       "User 983     NaN      NaN  ...       NaN       NaN       NaN       NaN   \n",
       "User 984     NaN      NaN  ...       NaN       NaN       NaN       NaN   \n",
       "User 985     NaN      NaN  ...       NaN       NaN       NaN       NaN   \n",
       "User 986     NaN      NaN  ...       NaN       NaN       NaN       NaN   \n",
       "\n",
       "          Item 801  Item 802  Item 803  Item 804  Item 805  Mean Rating  \n",
       "User 1         NaN       NaN       NaN       NaN       NaN          5.0  \n",
       "User 2         NaN       NaN       NaN       NaN       NaN          5.0  \n",
       "User 3         NaN       NaN       NaN       NaN       NaN          3.5  \n",
       "User 4         NaN       NaN       NaN       NaN       NaN          1.0  \n",
       "User 5         NaN       NaN       NaN       NaN       NaN          4.5  \n",
       "...            ...       ...       ...       ...       ...          ...  \n",
       "User 982       NaN       NaN       NaN       NaN       NaN          4.0  \n",
       "User 983       3.0       NaN       NaN       NaN       NaN          3.0  \n",
       "User 984       NaN       NaN       3.0       NaN       NaN          3.0  \n",
       "User 985       NaN       NaN       NaN       2.0       NaN          2.0  \n",
       "User 986       NaN       NaN       NaN       NaN       5.0          5.0  \n",
       "\n",
       "[986 rows x 806 columns]"
      ]
     },
     "execution_count": 16,
     "metadata": {},
     "output_type": "execute_result"
    }
   ],
   "source": [
    "# Create a sample DataFrame by randomly sampling 1000 rows from the `ratings_df` DataFrame\n",
    "sample_df = ratings_df.sample(n=1000)\n",
    "\n",
    "# Create a Cornac Dataset object from the sample DataFrame\n",
    "dataset = cornac.data.Dataset.from_uir(sample_df.itertuples(index=False))\n",
    "\n",
    "# Convert the Cornac Dataset object to a Pandas DataFrame\n",
    "df = pd.DataFrame(dataset.matrix.A, index=[f\"User {u + 1}\" for u in np.arange(dataset.num_users)], columns=[f\"Item {i + 1}\" for i in np.arange(dataset.num_items)])\n",
    "\n",
    "# Replace all 0 ratings in the DataFrame with NaN\n",
    "df.replace(0, np.nan, inplace=True)\n",
    "\n",
    "# Calculate the mean rating for each user and add it as a new column named \"Mean Rating\"\n",
    "df[\"Mean Rating\"] = df.mean(axis=1)"
   ]
  },
  {
   "cell_type": "markdown",
   "id": "33115cb2",
   "metadata": {},
   "source": [
    "2. Mean-Centered Rating Matrix"
   ]
  },
  {
   "cell_type": "code",
   "execution_count": 17,
   "id": "97a8dee2",
   "metadata": {},
   "outputs": [
    {
     "data": {
      "text/html": [
       "<div>\n",
       "<style scoped>\n",
       "    .dataframe tbody tr th:only-of-type {\n",
       "        vertical-align: middle;\n",
       "    }\n",
       "\n",
       "    .dataframe tbody tr th {\n",
       "        vertical-align: top;\n",
       "    }\n",
       "\n",
       "    .dataframe thead th {\n",
       "        text-align: right;\n",
       "    }\n",
       "</style>\n",
       "<table border=\"1\" class=\"dataframe\">\n",
       "  <thead>\n",
       "    <tr style=\"text-align: right;\">\n",
       "      <th></th>\n",
       "      <th>Item 1</th>\n",
       "      <th>Item 2</th>\n",
       "      <th>Item 3</th>\n",
       "      <th>Item 4</th>\n",
       "      <th>Item 5</th>\n",
       "      <th>Item 6</th>\n",
       "      <th>Item 7</th>\n",
       "      <th>Item 8</th>\n",
       "      <th>Item 9</th>\n",
       "      <th>Item 10</th>\n",
       "      <th>...</th>\n",
       "      <th>Item 796</th>\n",
       "      <th>Item 797</th>\n",
       "      <th>Item 798</th>\n",
       "      <th>Item 799</th>\n",
       "      <th>Item 800</th>\n",
       "      <th>Item 801</th>\n",
       "      <th>Item 802</th>\n",
       "      <th>Item 803</th>\n",
       "      <th>Item 804</th>\n",
       "      <th>Item 805</th>\n",
       "    </tr>\n",
       "  </thead>\n",
       "  <tbody>\n",
       "    <tr>\n",
       "      <th>User 1</th>\n",
       "      <td>0.0</td>\n",
       "      <td>NaN</td>\n",
       "      <td>NaN</td>\n",
       "      <td>NaN</td>\n",
       "      <td>NaN</td>\n",
       "      <td>NaN</td>\n",
       "      <td>NaN</td>\n",
       "      <td>NaN</td>\n",
       "      <td>NaN</td>\n",
       "      <td>NaN</td>\n",
       "      <td>...</td>\n",
       "      <td>NaN</td>\n",
       "      <td>NaN</td>\n",
       "      <td>NaN</td>\n",
       "      <td>NaN</td>\n",
       "      <td>NaN</td>\n",
       "      <td>NaN</td>\n",
       "      <td>NaN</td>\n",
       "      <td>NaN</td>\n",
       "      <td>NaN</td>\n",
       "      <td>NaN</td>\n",
       "    </tr>\n",
       "    <tr>\n",
       "      <th>User 2</th>\n",
       "      <td>NaN</td>\n",
       "      <td>0.0</td>\n",
       "      <td>NaN</td>\n",
       "      <td>NaN</td>\n",
       "      <td>NaN</td>\n",
       "      <td>NaN</td>\n",
       "      <td>NaN</td>\n",
       "      <td>NaN</td>\n",
       "      <td>NaN</td>\n",
       "      <td>NaN</td>\n",
       "      <td>...</td>\n",
       "      <td>NaN</td>\n",
       "      <td>NaN</td>\n",
       "      <td>NaN</td>\n",
       "      <td>NaN</td>\n",
       "      <td>NaN</td>\n",
       "      <td>NaN</td>\n",
       "      <td>NaN</td>\n",
       "      <td>NaN</td>\n",
       "      <td>NaN</td>\n",
       "      <td>NaN</td>\n",
       "    </tr>\n",
       "    <tr>\n",
       "      <th>User 3</th>\n",
       "      <td>NaN</td>\n",
       "      <td>NaN</td>\n",
       "      <td>0.0</td>\n",
       "      <td>NaN</td>\n",
       "      <td>NaN</td>\n",
       "      <td>NaN</td>\n",
       "      <td>NaN</td>\n",
       "      <td>NaN</td>\n",
       "      <td>NaN</td>\n",
       "      <td>NaN</td>\n",
       "      <td>...</td>\n",
       "      <td>NaN</td>\n",
       "      <td>NaN</td>\n",
       "      <td>NaN</td>\n",
       "      <td>NaN</td>\n",
       "      <td>NaN</td>\n",
       "      <td>NaN</td>\n",
       "      <td>NaN</td>\n",
       "      <td>NaN</td>\n",
       "      <td>NaN</td>\n",
       "      <td>NaN</td>\n",
       "    </tr>\n",
       "    <tr>\n",
       "      <th>User 4</th>\n",
       "      <td>NaN</td>\n",
       "      <td>NaN</td>\n",
       "      <td>NaN</td>\n",
       "      <td>0.0</td>\n",
       "      <td>NaN</td>\n",
       "      <td>NaN</td>\n",
       "      <td>NaN</td>\n",
       "      <td>NaN</td>\n",
       "      <td>NaN</td>\n",
       "      <td>NaN</td>\n",
       "      <td>...</td>\n",
       "      <td>NaN</td>\n",
       "      <td>NaN</td>\n",
       "      <td>NaN</td>\n",
       "      <td>NaN</td>\n",
       "      <td>NaN</td>\n",
       "      <td>NaN</td>\n",
       "      <td>NaN</td>\n",
       "      <td>NaN</td>\n",
       "      <td>NaN</td>\n",
       "      <td>NaN</td>\n",
       "    </tr>\n",
       "    <tr>\n",
       "      <th>User 5</th>\n",
       "      <td>NaN</td>\n",
       "      <td>NaN</td>\n",
       "      <td>NaN</td>\n",
       "      <td>NaN</td>\n",
       "      <td>-0.5</td>\n",
       "      <td>NaN</td>\n",
       "      <td>NaN</td>\n",
       "      <td>NaN</td>\n",
       "      <td>NaN</td>\n",
       "      <td>NaN</td>\n",
       "      <td>...</td>\n",
       "      <td>NaN</td>\n",
       "      <td>NaN</td>\n",
       "      <td>NaN</td>\n",
       "      <td>NaN</td>\n",
       "      <td>NaN</td>\n",
       "      <td>NaN</td>\n",
       "      <td>NaN</td>\n",
       "      <td>NaN</td>\n",
       "      <td>NaN</td>\n",
       "      <td>NaN</td>\n",
       "    </tr>\n",
       "    <tr>\n",
       "      <th>...</th>\n",
       "      <td>...</td>\n",
       "      <td>...</td>\n",
       "      <td>...</td>\n",
       "      <td>...</td>\n",
       "      <td>...</td>\n",
       "      <td>...</td>\n",
       "      <td>...</td>\n",
       "      <td>...</td>\n",
       "      <td>...</td>\n",
       "      <td>...</td>\n",
       "      <td>...</td>\n",
       "      <td>...</td>\n",
       "      <td>...</td>\n",
       "      <td>...</td>\n",
       "      <td>...</td>\n",
       "      <td>...</td>\n",
       "      <td>...</td>\n",
       "      <td>...</td>\n",
       "      <td>...</td>\n",
       "      <td>...</td>\n",
       "      <td>...</td>\n",
       "    </tr>\n",
       "    <tr>\n",
       "      <th>User 982</th>\n",
       "      <td>NaN</td>\n",
       "      <td>NaN</td>\n",
       "      <td>NaN</td>\n",
       "      <td>NaN</td>\n",
       "      <td>NaN</td>\n",
       "      <td>NaN</td>\n",
       "      <td>NaN</td>\n",
       "      <td>NaN</td>\n",
       "      <td>NaN</td>\n",
       "      <td>NaN</td>\n",
       "      <td>...</td>\n",
       "      <td>NaN</td>\n",
       "      <td>NaN</td>\n",
       "      <td>NaN</td>\n",
       "      <td>NaN</td>\n",
       "      <td>NaN</td>\n",
       "      <td>NaN</td>\n",
       "      <td>NaN</td>\n",
       "      <td>NaN</td>\n",
       "      <td>NaN</td>\n",
       "      <td>NaN</td>\n",
       "    </tr>\n",
       "    <tr>\n",
       "      <th>User 983</th>\n",
       "      <td>NaN</td>\n",
       "      <td>NaN</td>\n",
       "      <td>NaN</td>\n",
       "      <td>NaN</td>\n",
       "      <td>NaN</td>\n",
       "      <td>NaN</td>\n",
       "      <td>NaN</td>\n",
       "      <td>NaN</td>\n",
       "      <td>NaN</td>\n",
       "      <td>NaN</td>\n",
       "      <td>...</td>\n",
       "      <td>NaN</td>\n",
       "      <td>NaN</td>\n",
       "      <td>NaN</td>\n",
       "      <td>NaN</td>\n",
       "      <td>NaN</td>\n",
       "      <td>0.0</td>\n",
       "      <td>NaN</td>\n",
       "      <td>NaN</td>\n",
       "      <td>NaN</td>\n",
       "      <td>NaN</td>\n",
       "    </tr>\n",
       "    <tr>\n",
       "      <th>User 984</th>\n",
       "      <td>NaN</td>\n",
       "      <td>NaN</td>\n",
       "      <td>NaN</td>\n",
       "      <td>NaN</td>\n",
       "      <td>NaN</td>\n",
       "      <td>NaN</td>\n",
       "      <td>NaN</td>\n",
       "      <td>NaN</td>\n",
       "      <td>NaN</td>\n",
       "      <td>NaN</td>\n",
       "      <td>...</td>\n",
       "      <td>NaN</td>\n",
       "      <td>NaN</td>\n",
       "      <td>NaN</td>\n",
       "      <td>NaN</td>\n",
       "      <td>NaN</td>\n",
       "      <td>NaN</td>\n",
       "      <td>NaN</td>\n",
       "      <td>0.0</td>\n",
       "      <td>NaN</td>\n",
       "      <td>NaN</td>\n",
       "    </tr>\n",
       "    <tr>\n",
       "      <th>User 985</th>\n",
       "      <td>NaN</td>\n",
       "      <td>NaN</td>\n",
       "      <td>NaN</td>\n",
       "      <td>NaN</td>\n",
       "      <td>NaN</td>\n",
       "      <td>NaN</td>\n",
       "      <td>NaN</td>\n",
       "      <td>NaN</td>\n",
       "      <td>NaN</td>\n",
       "      <td>NaN</td>\n",
       "      <td>...</td>\n",
       "      <td>NaN</td>\n",
       "      <td>NaN</td>\n",
       "      <td>NaN</td>\n",
       "      <td>NaN</td>\n",
       "      <td>NaN</td>\n",
       "      <td>NaN</td>\n",
       "      <td>NaN</td>\n",
       "      <td>NaN</td>\n",
       "      <td>0.0</td>\n",
       "      <td>NaN</td>\n",
       "    </tr>\n",
       "    <tr>\n",
       "      <th>User 986</th>\n",
       "      <td>NaN</td>\n",
       "      <td>NaN</td>\n",
       "      <td>NaN</td>\n",
       "      <td>NaN</td>\n",
       "      <td>NaN</td>\n",
       "      <td>NaN</td>\n",
       "      <td>NaN</td>\n",
       "      <td>NaN</td>\n",
       "      <td>NaN</td>\n",
       "      <td>NaN</td>\n",
       "      <td>...</td>\n",
       "      <td>NaN</td>\n",
       "      <td>NaN</td>\n",
       "      <td>NaN</td>\n",
       "      <td>NaN</td>\n",
       "      <td>NaN</td>\n",
       "      <td>NaN</td>\n",
       "      <td>NaN</td>\n",
       "      <td>NaN</td>\n",
       "      <td>NaN</td>\n",
       "      <td>0.0</td>\n",
       "    </tr>\n",
       "  </tbody>\n",
       "</table>\n",
       "<p>986 rows × 805 columns</p>\n",
       "</div>"
      ],
      "text/plain": [
       "          Item 1  Item 2  Item 3  Item 4  Item 5  Item 6  Item 7  Item 8  \\\n",
       "User 1       0.0     NaN     NaN     NaN     NaN     NaN     NaN     NaN   \n",
       "User 2       NaN     0.0     NaN     NaN     NaN     NaN     NaN     NaN   \n",
       "User 3       NaN     NaN     0.0     NaN     NaN     NaN     NaN     NaN   \n",
       "User 4       NaN     NaN     NaN     0.0     NaN     NaN     NaN     NaN   \n",
       "User 5       NaN     NaN     NaN     NaN    -0.5     NaN     NaN     NaN   \n",
       "...          ...     ...     ...     ...     ...     ...     ...     ...   \n",
       "User 982     NaN     NaN     NaN     NaN     NaN     NaN     NaN     NaN   \n",
       "User 983     NaN     NaN     NaN     NaN     NaN     NaN     NaN     NaN   \n",
       "User 984     NaN     NaN     NaN     NaN     NaN     NaN     NaN     NaN   \n",
       "User 985     NaN     NaN     NaN     NaN     NaN     NaN     NaN     NaN   \n",
       "User 986     NaN     NaN     NaN     NaN     NaN     NaN     NaN     NaN   \n",
       "\n",
       "          Item 9  Item 10  ...  Item 796  Item 797  Item 798  Item 799  \\\n",
       "User 1       NaN      NaN  ...       NaN       NaN       NaN       NaN   \n",
       "User 2       NaN      NaN  ...       NaN       NaN       NaN       NaN   \n",
       "User 3       NaN      NaN  ...       NaN       NaN       NaN       NaN   \n",
       "User 4       NaN      NaN  ...       NaN       NaN       NaN       NaN   \n",
       "User 5       NaN      NaN  ...       NaN       NaN       NaN       NaN   \n",
       "...          ...      ...  ...       ...       ...       ...       ...   \n",
       "User 982     NaN      NaN  ...       NaN       NaN       NaN       NaN   \n",
       "User 983     NaN      NaN  ...       NaN       NaN       NaN       NaN   \n",
       "User 984     NaN      NaN  ...       NaN       NaN       NaN       NaN   \n",
       "User 985     NaN      NaN  ...       NaN       NaN       NaN       NaN   \n",
       "User 986     NaN      NaN  ...       NaN       NaN       NaN       NaN   \n",
       "\n",
       "          Item 800  Item 801  Item 802  Item 803  Item 804  Item 805  \n",
       "User 1         NaN       NaN       NaN       NaN       NaN       NaN  \n",
       "User 2         NaN       NaN       NaN       NaN       NaN       NaN  \n",
       "User 3         NaN       NaN       NaN       NaN       NaN       NaN  \n",
       "User 4         NaN       NaN       NaN       NaN       NaN       NaN  \n",
       "User 5         NaN       NaN       NaN       NaN       NaN       NaN  \n",
       "...            ...       ...       ...       ...       ...       ...  \n",
       "User 982       NaN       NaN       NaN       NaN       NaN       NaN  \n",
       "User 983       NaN       0.0       NaN       NaN       NaN       NaN  \n",
       "User 984       NaN       NaN       NaN       0.0       NaN       NaN  \n",
       "User 985       NaN       NaN       NaN       NaN       0.0       NaN  \n",
       "User 986       NaN       NaN       NaN       NaN       NaN       0.0  \n",
       "\n",
       "[986 rows x 805 columns]"
      ]
     },
     "execution_count": 17,
     "metadata": {},
     "output_type": "execute_result"
    }
   ],
   "source": [
    "# Get the ratings from the DataFrame, excluding the \"Mean Rating\" column, as a NumPy array\n",
    "ratings = df[df.columns.difference([\"Mean Rating\"])].values\n",
    "\n",
    "# Get the mean ratings as a column vector using the \"Mean Rating\" column values\n",
    "means = df[\"Mean Rating\"].values[:, np.newaxis]\n",
    "\n",
    "# Subtract the mean ratings from the ratings array\n",
    "df[df.columns.difference([\"Mean Rating\"])] = (ratings - means)\n",
    "\n",
    "# Drop the \"Mean Rating\" column from the DataFrame\n",
    "df.drop(columns=\"Mean Rating\")"
   ]
  },
  {
   "cell_type": "markdown",
   "id": "01e6c4cc",
   "metadata": {},
   "source": [
    "3. User-Based Methods"
   ]
  },
  {
   "cell_type": "code",
   "execution_count": 18,
   "id": "1c74ad8e",
   "metadata": {},
   "outputs": [
    {
     "name": "stdout",
     "output_type": "stream",
     "text": [
      "Cosine(1,3) = 0.000\n",
      "Pearson(1,3) = 0.000\n"
     ]
    }
   ],
   "source": [
    "# User-Based Methods\n",
    "\n",
    "# UserKNN with Cosine Similarity\n",
    "# Create an instance of UserKNN with k=2 and similarity measure as cosine\n",
    "# Fit the UserKNN model to the dataset\n",
    "uknn_cosine = UserKNN(k=2, similarity=\"cosine\", verbose=VERBOSE).fit(dataset)\n",
    "\n",
    "# Print the cosine similarity between users 1 and 3\n",
    "# Access the similarity matrix of the UserKNN model using the sim_mat attribute\n",
    "# Extract the similarity score between users 1 and 3 using indexing (0-based indexing)\n",
    "print(f\"Cosine(1,3) = {uknn_cosine.sim_mat[0, 2]:.3f}\")\n",
    "\n",
    "# UserKNN with Pearson Similarity\n",
    "# Create an instance of UserKNN with k=2 and similarity measure as pearson\n",
    "# Fit the UserKNN model to the dataset\n",
    "uknn_pearson = UserKNN(k=2, similarity=\"pearson\", verbose=VERBOSE).fit(dataset)\n",
    "\n",
    "# Print the pearson similarity between users 1 and 3\n",
    "# Access the similarity matrix of the UserKNN model using the sim_mat attribute\n",
    "# Extract the similarity score between users 1 and 3 using indexing (0-based indexing)\n",
    "print(f\"Pearson(1,3) = {uknn_pearson.sim_mat[0, 2]:.3f}\")"
   ]
  },
  {
   "cell_type": "code",
   "execution_count": 19,
   "id": "2f93ceb2",
   "metadata": {},
   "outputs": [
    {
     "name": "stdout",
     "output_type": "stream",
     "text": [
      "R(3,1) = 3.50\n",
      "R(3,6) = 3.50\n"
     ]
    }
   ],
   "source": [
    "print(f\"R(3,1) = {uknn_pearson.score(user_idx=2, item_idx=0):.2f}\")\n",
    "print(f\"R(3,6) = {uknn_pearson.score(user_idx=2, item_idx=5):.2f}\")"
   ]
  },
  {
   "cell_type": "markdown",
   "id": "680ccf0b",
   "metadata": {},
   "source": [
    "Let's Try It on a Real Dataset"
   ]
  },
  {
   "cell_type": "code",
   "execution_count": 20,
   "id": "9bc3c11e",
   "metadata": {},
   "outputs": [
    {
     "name": "stdout",
     "output_type": "stream",
     "text": [
      "\n",
      "TEST:\n",
      "...\n",
      "                   |   RMSE | Train (s) | Test (s)\n",
      "------------------ + ------ + --------- + --------\n",
      "UserKNN-Cosine     | 0.9099 |    0.1531 |   1.6793\n",
      "UserKNN-Cosine-MC  | 0.8947 |    0.1546 |   1.6951\n",
      "UserKNN-Pearson    | 0.8947 |    0.1332 |   1.9404\n",
      "UserKNN-Pearson-MC | 0.8947 |    0.1799 |   1.8828\n",
      "\n"
     ]
    }
   ],
   "source": [
    "# UserKNN methods\n",
    "K = 50  # number of nearest neighbors\n",
    "\n",
    "# UserKNN with Cosine Similarity, without mean centering\n",
    "uknn_cosine = UserKNN(\n",
    "  k=K, similarity=\"cosine\", name=\"UserKNN-Cosine\", verbose=VERBOSE\n",
    ")\n",
    "\n",
    "# UserKNN with Cosine Similarity, with mean centering\n",
    "uknn_cosine_mc = UserKNN(\n",
    "  k=K, similarity=\"cosine\", mean_centered=True, name=\"UserKNN-Cosine-MC\", verbose=VERBOSE\n",
    ")\n",
    "\n",
    "# UserKNN with Pearson Similarity, without mean centering\n",
    "uknn_pearson = UserKNN(\n",
    "  k=K, similarity=\"pearson\", name=\"UserKNN-Pearson\", verbose=VERBOSE\n",
    ")\n",
    "\n",
    "# UserKNN with Pearson Similarity, with mean centering\n",
    "uknn_pearson_mc = UserKNN(\n",
    "  k=K, similarity=\"pearson\", mean_centered=True, name=\"UserKNN-Pearson-MC\", verbose=VERBOSE\n",
    ")\n",
    "\n",
    "# Load the dataset using movielens variant \"100K\"\n",
    "feedback = movielens.load_feedback(variant=\"100K\")\n",
    "\n",
    "# Split the dataset into train and test sets using a ratio-based split\n",
    "# Specify the test set size as 0.1 (10%)\n",
    "# Set a seed for reproducibility\n",
    "ratio_split = RatioSplit(feedback, test_size=0.1, seed=SEED, verbose=VERBOSE)\n",
    "\n",
    "# Run an experiment to evaluate the models\n",
    "cornac.Experiment(\n",
    "  eval_method=ratio_split,\n",
    "  models=[uknn_cosine, uknn_cosine_mc, uknn_pearson, uknn_pearson_mc],\n",
    "  metrics=[cornac.metrics.RMSE()],\n",
    ").run()"
   ]
  },
  {
   "cell_type": "markdown",
   "id": "d79aaf8d",
   "metadata": {},
   "source": [
    "4. Item-Based Methods"
   ]
  },
  {
   "cell_type": "code",
   "execution_count": 21,
   "id": "245efc85",
   "metadata": {},
   "outputs": [
    {
     "name": "stdout",
     "output_type": "stream",
     "text": [
      "AdjustedCosine(1,3) = 0.000\n"
     ]
    }
   ],
   "source": [
    "# Item-Based Methods\n",
    "\n",
    "# ItemKNN with Adjusted Cosine Similarity, with mean centering\n",
    "# Create an instance of ItemKNN with k=2, similarity measure as cosine, and mean centering enabled\n",
    "# Fit the ItemKNN model to the dataset\n",
    "iknn_adj = ItemKNN(k=2, similarity=\"cosine\", mean_centered=True, verbose=VERBOSE).fit(dataset)\n",
    "\n",
    "# Print the adjusted cosine similarity between items 1 and 3\n",
    "# Access the similarity matrix of the ItemKNN model using the sim_mat attribute\n",
    "# Extract the similarity score between items 1 and 3 using indexing (0-based indexing)\n",
    "print(f\"AdjustedCosine(1,3) = {iknn_adj.sim_mat[0, 2]:.3f}\")"
   ]
  },
  {
   "cell_type": "code",
   "execution_count": 22,
   "id": "fb720e80",
   "metadata": {},
   "outputs": [
    {
     "name": "stdout",
     "output_type": "stream",
     "text": [
      "R(3,1) = 3.5\n",
      "R(3,6) = 3.5\n"
     ]
    }
   ],
   "source": [
    "print(f\"R(3,1) = {iknn_adj.score(user_idx=2, item_idx=0):.1f}\")\n",
    "print(f\"R(3,6) = {iknn_adj.score(user_idx=2, item_idx=5):.1f}\")"
   ]
  },
  {
   "cell_type": "markdown",
   "id": "d0a4e1d7",
   "metadata": {},
   "source": [
    "Let's Try it on a Real Dataset"
   ]
  },
  {
   "cell_type": "code",
   "execution_count": 23,
   "id": "fc19e72d",
   "metadata": {},
   "outputs": [
    {
     "name": "stdout",
     "output_type": "stream",
     "text": [
      "\n",
      "TEST:\n",
      "...\n",
      "                       |   RMSE | Train (s) | Test (s)\n",
      "---------------------- + ------ + --------- + --------\n",
      "ItemKNN-Cosine         | 0.9689 |    0.3049 |   1.8291\n",
      "ItemKNN-Pearson        | 0.9624 |    0.3222 |   2.0256\n",
      "ItemKNN-Pearson-MC     | 0.9572 |    0.3092 |   1.8365\n",
      "ItemKNN-AdjustedCosine | 0.9098 |    0.2792 |   1.8434\n",
      "\n"
     ]
    }
   ],
   "source": [
    "# ItemKNN methods\n",
    "K = 50  # number of nearest neighbors\n",
    "iknn_cosine = ItemKNN(\n",
    "  k=K, similarity=\"cosine\", name=\"ItemKNN-Cosine\", verbose=VERBOSE\n",
    ")\n",
    "iknn_pearson = ItemKNN(\n",
    "  k=K, similarity=\"pearson\", name=\"ItemKNN-Pearson\", verbose=VERBOSE\n",
    ")\n",
    "iknn_pearson_mc = ItemKNN(\n",
    "  k=K, similarity=\"pearson\", mean_centered=True, name=\"ItemKNN-Pearson-MC\", verbose=VERBOSE\n",
    ")\n",
    "iknn_adjusted = ItemKNN(\n",
    "  k=K, similarity=\"cosine\", mean_centered=True, name=\"ItemKNN-AdjustedCosine\", verbose=VERBOSE\n",
    ")\n",
    "\n",
    "feedback = movielens.load_feedback(variant=\"100K\")\n",
    "ratio_split = RatioSplit(feedback, test_size=0.1, seed=SEED, verbose=VERBOSE)\n",
    "cornac.Experiment(\n",
    "  eval_method=ratio_split, \n",
    "  models=[iknn_cosine, iknn_pearson, iknn_pearson_mc, iknn_adjusted],\n",
    "  metrics=[cornac.metrics.RMSE()],\n",
    ").run()"
   ]
  },
  {
   "cell_type": "markdown",
   "id": "e0b5139c",
   "metadata": {},
   "source": [
    "5. Similarity Reweighting"
   ]
  },
  {
   "cell_type": "code",
   "execution_count": 24,
   "id": "c5f09b6a",
   "metadata": {},
   "outputs": [
    {
     "name": "stdout",
     "output_type": "stream",
     "text": [
      "\n",
      "TEST:\n",
      "...\n",
      "               |   RMSE | Train (s) | Test (s)\n",
      "-------------- + ------ + --------- + --------\n",
      "UserKNN-Base   | 0.8947 |    0.1669 |   1.7703\n",
      "UserKNN-Amp0.5 | 0.8934 |    1.0488 |   1.9690\n",
      "UserKNN-Amp3.0 | 0.9135 |    0.8978 |   1.9153\n",
      "UserKNN-IDF    | 0.8956 |    0.1705 |   1.8257\n",
      "UserKNN-BM25   | 0.8955 |    0.1611 |   2.0016\n",
      "\n"
     ]
    }
   ],
   "source": [
    "# Similarity Reweighting\n",
    "\n",
    "# UserKNN methods\n",
    "K = 50  # number of nearest neighbors\n",
    "\n",
    "# UserKNN base model with Pearson similarity (no reweighting)\n",
    "uknn_base = UserKNN(\n",
    "  k=K, similarity=\"pearson\", name=\"UserKNN-Base\", verbose=VERBOSE\n",
    ")\n",
    "\n",
    "# UserKNN model with Pearson similarity and similarity amplification (amplify=0.5)\n",
    "uknn_amp1 = UserKNN(\n",
    "  k=K, similarity=\"pearson\", amplify=0.5, name=\"UserKNN-Amp0.5\", verbose=VERBOSE\n",
    ")\n",
    "\n",
    "# UserKNN model with Pearson similarity and similarity amplification (amplify=3.0)\n",
    "uknn_amp2 = UserKNN(\n",
    "  k=K, similarity=\"pearson\", amplify=3.0, name=\"UserKNN-Amp3.0\", verbose=VERBOSE\n",
    ")\n",
    "\n",
    "# UserKNN model with Pearson similarity and IDF weighting\n",
    "uknn_idf = UserKNN(\n",
    "  k=K, similarity=\"pearson\", weighting=\"idf\", name=\"UserKNN-IDF\", verbose=VERBOSE\n",
    ")\n",
    "\n",
    "# UserKNN model with Pearson similarity and BM25 weighting\n",
    "uknn_bm25 = UserKNN(\n",
    "  k=K, similarity=\"pearson\", weighting=\"bm25\", name=\"UserKNN-BM25\", verbose=VERBOSE\n",
    ")\n",
    "\n",
    "# Load the dataset using movielens variant \"100K\"\n",
    "feedback = movielens.load_feedback(variant=\"100K\")\n",
    "\n",
    "# Split the dataset into train and test sets using a ratio-based split\n",
    "# Specify the test set size as 0.1 (10%)\n",
    "# Set a seed for reproducibility\n",
    "ratio_split = RatioSplit(feedback, test_size=0.1, seed=SEED, verbose=VERBOSE)\n",
    "\n",
    "# Run an experiment to evaluate the models\n",
    "cornac.Experiment(\n",
    "  eval_method=ratio_split,\n",
    "  models=[uknn_base, uknn_amp1, uknn_amp2, uknn_idf, uknn_bm25],\n",
    "  metrics=[cornac.metrics.RMSE()],\n",
    ").run()"
   ]
  },
  {
   "cell_type": "markdown",
   "id": "eb1908b1",
   "metadata": {},
   "source": [
    "\n",
    "This code snippet demonstrates the use of similarity reweighting techniques with the UserKNN collaborative filtering method using the Cornac library.\n",
    "\n",
    "1. UserKNN Setup:\n",
    "- Set the parameter `K` to 50, specifying the number of nearest neighbors to consider for the UserKNN models.\n",
    "- Create five instances of the UserKNN class with different configurations:\n",
    "  - `uknn_base`: UserKNN model with Pearson similarity and no reweighting. This serves as the base model.\n",
    "  - `uknn_amp1`: UserKNN model with Pearson similarity and similarity amplification (amplify=0.5).\n",
    "  - `uknn_amp2`: UserKNN model with Pearson similarity and similarity amplification (amplify=3.0).\n",
    "  - `uknn_idf`: UserKNN model with Pearson similarity and IDF (Inverse Document Frequency) weighting.\n",
    "  - `uknn_bm25`: UserKNN model with Pearson similarity and BM25 (Best Match 25) weighting.\n",
    "\n",
    "2. Load Data:\n",
    "- Load the \"100K\" variant of the MovieLens dataset using `movielens.load_feedback(variant=\"100K\")`. The resulting `feedback` object represents the user-item ratings.\n",
    "\n",
    "3. Split Data:\n",
    "- Create a `RatioSplit` object to split the dataset into train and test sets using a ratio-based split. Here, the test set size is set to 0.1 or 10% of the dataset. The `seed` parameter is used to set a random seed for reproducibility. `verbose=VERBOSE` controls the verbosity level of the output during the split.\n",
    "\n",
    "4. Run the Experiment:\n",
    "- Use the `cornac.Experiment` class to set up and run the experiment.\n",
    "- Pass the `ratio_split` object as the evaluation method for the experiment.\n",
    "- Specify the models to evaluate by providing a list of the UserKNN models created earlier.\n",
    "- Specify the evaluation metric as `cornac.metrics.RMSE()`, which calculates the root mean square error."
   ]
  },
  {
   "cell_type": "markdown",
   "id": "0ce05b6c",
   "metadata": {},
   "source": [
    "6. Interpreting Recommendations"
   ]
  },
  {
   "cell_type": "code",
   "execution_count": 25,
   "id": "63eaeaed",
   "metadata": {},
   "outputs": [],
   "source": [
    "# Download some information of MovieLens 100K dataset\n",
    "user_df = pd.read_csv(\n",
    "  cache(\"http://files.grouplens.org/datasets/movielens/ml-100k/u.user\"), \n",
    "  sep=\"|\", names=[\"UserID\", \"Age\", \"Gender\", \"Occupation\", \"Zip Code\"]\n",
    ").set_index(\"UserID\")\n",
    "\n",
    "item_df = pd.read_csv(\n",
    "  cache(\"http://files.grouplens.org/datasets/movielens/ml-100k/u.item\"), \n",
    "  sep=\"|\", encoding=\"ISO-8859-1\",\n",
    "  names=[\"ItemID\", \"Title\", \"Release Date\", \"Video Release Date\", \"IMDb URL\", \n",
    "         \"unknown\", \"Action\", \"Adventure\", \"Animation\", \"Children's\", \"Comedy\", \n",
    "         \"Crime\", \"Documentary\", \"Drama\", \"Fantasy\", \"Film-Noir\", \"Horror\", \n",
    "         \"Musical\", \"Mystery\", \"Romance\", \"Sci-Fi\", \"Thriller\", \"War\", \"Western\"]\n",
    ").set_index(\"ItemID\").drop(columns=[\"Video Release Date\", \"IMDb URL\", \"unknown\"])\n",
    "     "
   ]
  },
  {
   "cell_type": "markdown",
   "id": "835652ff",
   "metadata": {},
   "source": [
    "UserKNN (Pearson)"
   ]
  },
  {
   "cell_type": "code",
   "execution_count": 26,
   "id": "007586bc",
   "metadata": {},
   "outputs": [
    {
     "name": "stdout",
     "output_type": "stream",
     "text": [
      "UserID = 1\n",
      "-------------------------\n",
      "Age                   24\n",
      "Gender                 M\n",
      "Occupation    technician\n",
      "Zip Code           85711\n",
      "Name: 1, dtype: object\n",
      "\n",
      "TOP 5 RATED ITEMS BY USER 1:\n"
     ]
    },
    {
     "data": {
      "text/html": [
       "<div>\n",
       "<style scoped>\n",
       "    .dataframe tbody tr th:only-of-type {\n",
       "        vertical-align: middle;\n",
       "    }\n",
       "\n",
       "    .dataframe tbody tr th {\n",
       "        vertical-align: top;\n",
       "    }\n",
       "\n",
       "    .dataframe thead th {\n",
       "        text-align: right;\n",
       "    }\n",
       "</style>\n",
       "<table border=\"1\" class=\"dataframe\">\n",
       "  <thead>\n",
       "    <tr style=\"text-align: right;\">\n",
       "      <th></th>\n",
       "      <th>Title</th>\n",
       "      <th>Release Date</th>\n",
       "      <th>Action</th>\n",
       "      <th>Adventure</th>\n",
       "      <th>Animation</th>\n",
       "      <th>Children's</th>\n",
       "      <th>Comedy</th>\n",
       "      <th>Crime</th>\n",
       "      <th>Documentary</th>\n",
       "      <th>Drama</th>\n",
       "      <th>Fantasy</th>\n",
       "      <th>Film-Noir</th>\n",
       "      <th>Horror</th>\n",
       "      <th>Musical</th>\n",
       "      <th>Mystery</th>\n",
       "      <th>Romance</th>\n",
       "      <th>Sci-Fi</th>\n",
       "      <th>Thriller</th>\n",
       "      <th>War</th>\n",
       "      <th>Western</th>\n",
       "    </tr>\n",
       "    <tr>\n",
       "      <th>ItemID</th>\n",
       "      <th></th>\n",
       "      <th></th>\n",
       "      <th></th>\n",
       "      <th></th>\n",
       "      <th></th>\n",
       "      <th></th>\n",
       "      <th></th>\n",
       "      <th></th>\n",
       "      <th></th>\n",
       "      <th></th>\n",
       "      <th></th>\n",
       "      <th></th>\n",
       "      <th></th>\n",
       "      <th></th>\n",
       "      <th></th>\n",
       "      <th></th>\n",
       "      <th></th>\n",
       "      <th></th>\n",
       "      <th></th>\n",
       "      <th></th>\n",
       "    </tr>\n",
       "  </thead>\n",
       "  <tbody>\n",
       "    <tr>\n",
       "      <th>96</th>\n",
       "      <td>Terminator 2: Judgment Day (1991)</td>\n",
       "      <td>01-Jan-1991</td>\n",
       "      <td>1</td>\n",
       "      <td>0</td>\n",
       "      <td>0</td>\n",
       "      <td>0</td>\n",
       "      <td>0</td>\n",
       "      <td>0</td>\n",
       "      <td>0</td>\n",
       "      <td>0</td>\n",
       "      <td>0</td>\n",
       "      <td>0</td>\n",
       "      <td>0</td>\n",
       "      <td>0</td>\n",
       "      <td>0</td>\n",
       "      <td>0</td>\n",
       "      <td>1</td>\n",
       "      <td>1</td>\n",
       "      <td>0</td>\n",
       "      <td>0</td>\n",
       "    </tr>\n",
       "    <tr>\n",
       "      <th>48</th>\n",
       "      <td>Hoop Dreams (1994)</td>\n",
       "      <td>01-Jan-1994</td>\n",
       "      <td>0</td>\n",
       "      <td>0</td>\n",
       "      <td>0</td>\n",
       "      <td>0</td>\n",
       "      <td>0</td>\n",
       "      <td>0</td>\n",
       "      <td>1</td>\n",
       "      <td>0</td>\n",
       "      <td>0</td>\n",
       "      <td>0</td>\n",
       "      <td>0</td>\n",
       "      <td>0</td>\n",
       "      <td>0</td>\n",
       "      <td>0</td>\n",
       "      <td>0</td>\n",
       "      <td>0</td>\n",
       "      <td>0</td>\n",
       "      <td>0</td>\n",
       "    </tr>\n",
       "    <tr>\n",
       "      <th>127</th>\n",
       "      <td>Godfather, The (1972)</td>\n",
       "      <td>01-Jan-1972</td>\n",
       "      <td>1</td>\n",
       "      <td>0</td>\n",
       "      <td>0</td>\n",
       "      <td>0</td>\n",
       "      <td>0</td>\n",
       "      <td>1</td>\n",
       "      <td>0</td>\n",
       "      <td>1</td>\n",
       "      <td>0</td>\n",
       "      <td>0</td>\n",
       "      <td>0</td>\n",
       "      <td>0</td>\n",
       "      <td>0</td>\n",
       "      <td>0</td>\n",
       "      <td>0</td>\n",
       "      <td>0</td>\n",
       "      <td>0</td>\n",
       "      <td>0</td>\n",
       "    </tr>\n",
       "    <tr>\n",
       "      <th>150</th>\n",
       "      <td>Swingers (1996)</td>\n",
       "      <td>18-Oct-1996</td>\n",
       "      <td>0</td>\n",
       "      <td>0</td>\n",
       "      <td>0</td>\n",
       "      <td>0</td>\n",
       "      <td>1</td>\n",
       "      <td>0</td>\n",
       "      <td>0</td>\n",
       "      <td>1</td>\n",
       "      <td>0</td>\n",
       "      <td>0</td>\n",
       "      <td>0</td>\n",
       "      <td>0</td>\n",
       "      <td>0</td>\n",
       "      <td>0</td>\n",
       "      <td>0</td>\n",
       "      <td>0</td>\n",
       "      <td>0</td>\n",
       "      <td>0</td>\n",
       "    </tr>\n",
       "    <tr>\n",
       "      <th>16</th>\n",
       "      <td>French Twist (Gazon maudit) (1995)</td>\n",
       "      <td>01-Jan-1995</td>\n",
       "      <td>0</td>\n",
       "      <td>0</td>\n",
       "      <td>0</td>\n",
       "      <td>0</td>\n",
       "      <td>1</td>\n",
       "      <td>0</td>\n",
       "      <td>0</td>\n",
       "      <td>0</td>\n",
       "      <td>0</td>\n",
       "      <td>0</td>\n",
       "      <td>0</td>\n",
       "      <td>0</td>\n",
       "      <td>0</td>\n",
       "      <td>1</td>\n",
       "      <td>0</td>\n",
       "      <td>0</td>\n",
       "      <td>0</td>\n",
       "      <td>0</td>\n",
       "    </tr>\n",
       "  </tbody>\n",
       "</table>\n",
       "</div>"
      ],
      "text/plain": [
       "                                     Title Release Date  Action  Adventure  \\\n",
       "ItemID                                                                       \n",
       "96       Terminator 2: Judgment Day (1991)  01-Jan-1991       1          0   \n",
       "48                      Hoop Dreams (1994)  01-Jan-1994       0          0   \n",
       "127                  Godfather, The (1972)  01-Jan-1972       1          0   \n",
       "150                        Swingers (1996)  18-Oct-1996       0          0   \n",
       "16      French Twist (Gazon maudit) (1995)  01-Jan-1995       0          0   \n",
       "\n",
       "        Animation  Children's  Comedy  Crime  Documentary  Drama  Fantasy  \\\n",
       "ItemID                                                                      \n",
       "96              0           0       0      0            0      0        0   \n",
       "48              0           0       0      0            1      0        0   \n",
       "127             0           0       0      1            0      1        0   \n",
       "150             0           0       1      0            0      1        0   \n",
       "16              0           0       1      0            0      0        0   \n",
       "\n",
       "        Film-Noir  Horror  Musical  Mystery  Romance  Sci-Fi  Thriller  War  \\\n",
       "ItemID                                                                        \n",
       "96              0       0        0        0        0       1         1    0   \n",
       "48              0       0        0        0        0       0         0    0   \n",
       "127             0       0        0        0        0       0         0    0   \n",
       "150             0       0        0        0        0       0         0    0   \n",
       "16              0       0        0        0        1       0         0    0   \n",
       "\n",
       "        Western  \n",
       "ItemID           \n",
       "96            0  \n",
       "48            0  \n",
       "127           0  \n",
       "150           0  \n",
       "16            0  "
      ]
     },
     "execution_count": 26,
     "metadata": {},
     "output_type": "execute_result"
    }
   ],
   "source": [
    "rating_mat = uknn_pearson.train_set.matrix\n",
    "user_id2idx = uknn_pearson.train_set.uid_map\n",
    "user_idx2id = list(uknn_pearson.train_set.user_ids)\n",
    "item_id2idx = uknn_pearson.train_set.iid_map\n",
    "item_idx2id = list(uknn_pearson.train_set.item_ids)\n",
    "\n",
    "TOPK = 5\n",
    "UID = 1\n",
    "UIDX = uknn_pearson.train_set.uid_map[str(UID)]\n",
    "\n",
    "print(f\"UserID = {UID}\")\n",
    "print(\"-\" * 25)\n",
    "print(user_df.loc[UID])\n",
    "\n",
    "rating_arr = rating_mat[UIDX].A.ravel()\n",
    "top_rated_items = np.argsort(rating_arr)[-TOPK:]\n",
    "print(f\"\\nTOP {TOPK} RATED ITEMS BY USER {UID}:\")\n",
    "item_df.loc[[int(item_idx2id[i]) for i in top_rated_items]]"
   ]
  },
  {
   "cell_type": "code",
   "execution_count": 27,
   "id": "c1f432b2",
   "metadata": {},
   "outputs": [
    {
     "name": "stdout",
     "output_type": "stream",
     "text": [
      "\n",
      "TOP 5 RECOMMENDATIONS FOR USER 1:\n",
      "Scores: [4.65533227 4.64790324 4.64234397 4.61749142 4.61334104]\n"
     ]
    },
    {
     "data": {
      "text/html": [
       "<div>\n",
       "<style scoped>\n",
       "    .dataframe tbody tr th:only-of-type {\n",
       "        vertical-align: middle;\n",
       "    }\n",
       "\n",
       "    .dataframe tbody tr th {\n",
       "        vertical-align: top;\n",
       "    }\n",
       "\n",
       "    .dataframe thead th {\n",
       "        text-align: right;\n",
       "    }\n",
       "</style>\n",
       "<table border=\"1\" class=\"dataframe\">\n",
       "  <thead>\n",
       "    <tr style=\"text-align: right;\">\n",
       "      <th></th>\n",
       "      <th>Title</th>\n",
       "      <th>Release Date</th>\n",
       "      <th>Action</th>\n",
       "      <th>Adventure</th>\n",
       "      <th>Animation</th>\n",
       "      <th>Children's</th>\n",
       "      <th>Comedy</th>\n",
       "      <th>Crime</th>\n",
       "      <th>Documentary</th>\n",
       "      <th>Drama</th>\n",
       "      <th>Fantasy</th>\n",
       "      <th>Film-Noir</th>\n",
       "      <th>Horror</th>\n",
       "      <th>Musical</th>\n",
       "      <th>Mystery</th>\n",
       "      <th>Romance</th>\n",
       "      <th>Sci-Fi</th>\n",
       "      <th>Thriller</th>\n",
       "      <th>War</th>\n",
       "      <th>Western</th>\n",
       "    </tr>\n",
       "    <tr>\n",
       "      <th>ItemID</th>\n",
       "      <th></th>\n",
       "      <th></th>\n",
       "      <th></th>\n",
       "      <th></th>\n",
       "      <th></th>\n",
       "      <th></th>\n",
       "      <th></th>\n",
       "      <th></th>\n",
       "      <th></th>\n",
       "      <th></th>\n",
       "      <th></th>\n",
       "      <th></th>\n",
       "      <th></th>\n",
       "      <th></th>\n",
       "      <th></th>\n",
       "      <th></th>\n",
       "      <th></th>\n",
       "      <th></th>\n",
       "      <th></th>\n",
       "      <th></th>\n",
       "    </tr>\n",
       "  </thead>\n",
       "  <tbody>\n",
       "    <tr>\n",
       "      <th>115</th>\n",
       "      <td>Haunted World of Edward D. Wood Jr., The (1995)</td>\n",
       "      <td>26-Apr-1996</td>\n",
       "      <td>0</td>\n",
       "      <td>0</td>\n",
       "      <td>0</td>\n",
       "      <td>0</td>\n",
       "      <td>0</td>\n",
       "      <td>0</td>\n",
       "      <td>1</td>\n",
       "      <td>0</td>\n",
       "      <td>0</td>\n",
       "      <td>0</td>\n",
       "      <td>0</td>\n",
       "      <td>0</td>\n",
       "      <td>0</td>\n",
       "      <td>0</td>\n",
       "      <td>0</td>\n",
       "      <td>0</td>\n",
       "      <td>0</td>\n",
       "      <td>0</td>\n",
       "    </tr>\n",
       "    <tr>\n",
       "      <th>113</th>\n",
       "      <td>Horseman on the Roof, The (Hussard sur le toit...</td>\n",
       "      <td>19-Apr-1996</td>\n",
       "      <td>0</td>\n",
       "      <td>0</td>\n",
       "      <td>0</td>\n",
       "      <td>0</td>\n",
       "      <td>0</td>\n",
       "      <td>0</td>\n",
       "      <td>0</td>\n",
       "      <td>1</td>\n",
       "      <td>0</td>\n",
       "      <td>0</td>\n",
       "      <td>0</td>\n",
       "      <td>0</td>\n",
       "      <td>0</td>\n",
       "      <td>0</td>\n",
       "      <td>0</td>\n",
       "      <td>0</td>\n",
       "      <td>0</td>\n",
       "      <td>0</td>\n",
       "    </tr>\n",
       "    <tr>\n",
       "      <th>181</th>\n",
       "      <td>Return of the Jedi (1983)</td>\n",
       "      <td>14-Mar-1997</td>\n",
       "      <td>1</td>\n",
       "      <td>1</td>\n",
       "      <td>0</td>\n",
       "      <td>0</td>\n",
       "      <td>0</td>\n",
       "      <td>0</td>\n",
       "      <td>0</td>\n",
       "      <td>0</td>\n",
       "      <td>0</td>\n",
       "      <td>0</td>\n",
       "      <td>0</td>\n",
       "      <td>0</td>\n",
       "      <td>0</td>\n",
       "      <td>1</td>\n",
       "      <td>1</td>\n",
       "      <td>0</td>\n",
       "      <td>1</td>\n",
       "      <td>0</td>\n",
       "    </tr>\n",
       "    <tr>\n",
       "      <th>165</th>\n",
       "      <td>Jean de Florette (1986)</td>\n",
       "      <td>01-Jan-1986</td>\n",
       "      <td>0</td>\n",
       "      <td>0</td>\n",
       "      <td>0</td>\n",
       "      <td>0</td>\n",
       "      <td>0</td>\n",
       "      <td>0</td>\n",
       "      <td>0</td>\n",
       "      <td>1</td>\n",
       "      <td>0</td>\n",
       "      <td>0</td>\n",
       "      <td>0</td>\n",
       "      <td>0</td>\n",
       "      <td>0</td>\n",
       "      <td>0</td>\n",
       "      <td>0</td>\n",
       "      <td>0</td>\n",
       "      <td>0</td>\n",
       "      <td>0</td>\n",
       "    </tr>\n",
       "    <tr>\n",
       "      <th>198</th>\n",
       "      <td>Nikita (La Femme Nikita) (1990)</td>\n",
       "      <td>01-Jan-1990</td>\n",
       "      <td>0</td>\n",
       "      <td>0</td>\n",
       "      <td>0</td>\n",
       "      <td>0</td>\n",
       "      <td>0</td>\n",
       "      <td>0</td>\n",
       "      <td>0</td>\n",
       "      <td>0</td>\n",
       "      <td>0</td>\n",
       "      <td>0</td>\n",
       "      <td>0</td>\n",
       "      <td>0</td>\n",
       "      <td>0</td>\n",
       "      <td>0</td>\n",
       "      <td>0</td>\n",
       "      <td>1</td>\n",
       "      <td>0</td>\n",
       "      <td>0</td>\n",
       "    </tr>\n",
       "  </tbody>\n",
       "</table>\n",
       "</div>"
      ],
      "text/plain": [
       "                                                    Title Release Date  \\\n",
       "ItemID                                                                   \n",
       "115       Haunted World of Edward D. Wood Jr., The (1995)  26-Apr-1996   \n",
       "113     Horseman on the Roof, The (Hussard sur le toit...  19-Apr-1996   \n",
       "181                             Return of the Jedi (1983)  14-Mar-1997   \n",
       "165                               Jean de Florette (1986)  01-Jan-1986   \n",
       "198                       Nikita (La Femme Nikita) (1990)  01-Jan-1990   \n",
       "\n",
       "        Action  Adventure  Animation  Children's  Comedy  Crime  Documentary  \\\n",
       "ItemID                                                                         \n",
       "115          0          0          0           0       0      0            1   \n",
       "113          0          0          0           0       0      0            0   \n",
       "181          1          1          0           0       0      0            0   \n",
       "165          0          0          0           0       0      0            0   \n",
       "198          0          0          0           0       0      0            0   \n",
       "\n",
       "        Drama  Fantasy  Film-Noir  Horror  Musical  Mystery  Romance  Sci-Fi  \\\n",
       "ItemID                                                                         \n",
       "115         0        0          0       0        0        0        0       0   \n",
       "113         1        0          0       0        0        0        0       0   \n",
       "181         0        0          0       0        0        0        1       1   \n",
       "165         1        0          0       0        0        0        0       0   \n",
       "198         0        0          0       0        0        0        0       0   \n",
       "\n",
       "        Thriller  War  Western  \n",
       "ItemID                          \n",
       "115            0    0        0  \n",
       "113            0    0        0  \n",
       "181            0    1        0  \n",
       "165            0    0        0  \n",
       "198            1    0        0  "
      ]
     },
     "execution_count": 27,
     "metadata": {},
     "output_type": "execute_result"
    }
   ],
   "source": [
    "recommendations, scores = iknn_adjusted.rank(UIDX)\n",
    "print(f\"\\nTOP {TOPK} RECOMMENDATIONS FOR USER {UID}:\")\n",
    "print(\"Scores:\", scores[recommendations[:TOPK]])\n",
    "item_df.loc[[int(item_idx2id[i]) for i in recommendations[:TOPK]]]"
   ]
  },
  {
   "cell_type": "code",
   "execution_count": 28,
   "id": "00c044f0",
   "metadata": {},
   "outputs": [
    {
     "data": {
      "text/html": [
       "<div>\n",
       "<style scoped>\n",
       "    .dataframe tbody tr th:only-of-type {\n",
       "        vertical-align: middle;\n",
       "    }\n",
       "\n",
       "    .dataframe tbody tr th {\n",
       "        vertical-align: top;\n",
       "    }\n",
       "\n",
       "    .dataframe thead th {\n",
       "        text-align: right;\n",
       "    }\n",
       "</style>\n",
       "<table border=\"1\" class=\"dataframe\">\n",
       "  <thead>\n",
       "    <tr style=\"text-align: right;\">\n",
       "      <th></th>\n",
       "      <th>Recommendation</th>\n",
       "      <th>Item NN</th>\n",
       "      <th>Similarity</th>\n",
       "      <th>Score of the NN</th>\n",
       "      <th>Contribution</th>\n",
       "    </tr>\n",
       "  </thead>\n",
       "  <tbody>\n",
       "    <tr>\n",
       "      <th>0</th>\n",
       "      <td>Haunted World of Edward D. Wood Jr., The (1995)</td>\n",
       "      <td>1565</td>\n",
       "      <td>1.0</td>\n",
       "      <td>0.410256</td>\n",
       "      <td>0.410256</td>\n",
       "    </tr>\n",
       "    <tr>\n",
       "      <th>1</th>\n",
       "      <td>Horseman on the Roof, The (Hussard sur le toit...</td>\n",
       "      <td>100</td>\n",
       "      <td>1.0</td>\n",
       "      <td>1.410256</td>\n",
       "      <td>1.410256</td>\n",
       "    </tr>\n",
       "    <tr>\n",
       "      <th>2</th>\n",
       "      <td>Return of the Jedi (1983)</td>\n",
       "      <td>305</td>\n",
       "      <td>1.0</td>\n",
       "      <td>1.410256</td>\n",
       "      <td>1.410256</td>\n",
       "    </tr>\n",
       "    <tr>\n",
       "      <th>3</th>\n",
       "      <td>Jean de Florette (1986)</td>\n",
       "      <td>1278</td>\n",
       "      <td>1.0</td>\n",
       "      <td>0.410256</td>\n",
       "      <td>0.410256</td>\n",
       "    </tr>\n",
       "    <tr>\n",
       "      <th>4</th>\n",
       "      <td>Nikita (La Femme Nikita) (1990)</td>\n",
       "      <td>364</td>\n",
       "      <td>1.0</td>\n",
       "      <td>1.410256</td>\n",
       "      <td>1.410256</td>\n",
       "    </tr>\n",
       "  </tbody>\n",
       "</table>\n",
       "</div>"
      ],
      "text/plain": [
       "                                      Recommendation  Item NN  Similarity  \\\n",
       "0    Haunted World of Edward D. Wood Jr., The (1995)     1565         1.0   \n",
       "1  Horseman on the Roof, The (Hussard sur le toit...      100         1.0   \n",
       "2                          Return of the Jedi (1983)      305         1.0   \n",
       "3                            Jean de Florette (1986)     1278         1.0   \n",
       "4                    Nikita (La Femme Nikita) (1990)      364         1.0   \n",
       "\n",
       "   Score of the NN  Contribution  \n",
       "0         0.410256      0.410256  \n",
       "1         1.410256      1.410256  \n",
       "2         1.410256      1.410256  \n",
       "3         0.410256      0.410256  \n",
       "4         1.410256      1.410256  "
      ]
     },
     "execution_count": 28,
     "metadata": {},
     "output_type": "execute_result"
    }
   ],
   "source": [
    "\n",
    "df = defaultdict(list)\n",
    "score_arr = iknn_adjusted.ui_mat[UIDX].A.ravel()\n",
    "rated_items = np.nonzero(rating_mat[UIDX])[1]\n",
    "for rec in recommendations[:TOPK]:\n",
    "  sim_arr = iknn_adjusted.sim_mat[rec].A.ravel()\n",
    "  nearest_neighbor = rated_items[np.argsort(sim_arr[rated_items])[-1]]\n",
    "  sim = sim_arr[nearest_neighbor]\n",
    "  score = score_arr[nearest_neighbor]\n",
    "  df[\"Recommendation\"].append(item_df.loc[[int(item_idx2id[rec])]][\"Title\"].values[0])\n",
    "  df[\"Item NN\"].append(nearest_neighbor)\n",
    "  df[\"Similarity\"].append(sim)\n",
    "  df[\"Score of the NN\"].append(score)\n",
    "  df[\"Contribution\"].append((score * sim) / np.abs(sim))\n",
    "rec_df = pd.DataFrame.from_dict(df)\n",
    "rec_df"
   ]
  },
  {
   "cell_type": "code",
   "execution_count": 29,
   "id": "01921749",
   "metadata": {},
   "outputs": [
    {
     "data": {
      "image/png": "[encoded data removed]",
      "text/plain": [
       "<Figure size 1008x360 with 1 Axes>"
      ]
     },
     "metadata": {
      "needs_background": "light"
     },
     "output_type": "display_data"
    }
   ],
   "source": [
    "rated_items = np.nonzero(rating_mat[UIDX])[1]\n",
    "n_nearest_neighbors = []\n",
    "for rec in recommendations[:TOPK]:\n",
    "  nearest_neighbors = np.argsort(iknn_adjusted.sim_mat[rec].A.ravel())[-K:]\n",
    "  n_nearest_neighbors.append(len(np.intersect1d(nearest_neighbors, rated_items)))\n",
    "rec_df[\"Number of rated NN\"] = n_nearest_neighbors\n",
    "\n",
    "fig, ax = plt.subplots(figsize=(14, 5))\n",
    "sns.barplot(x=\"Recommendation\", y=\"Number of rated NN\", data=rec_df, palette=\"ch:.25\", ax=ax);\n",
    "ax.set_xticklabels(textwrap.fill(x.get_text(), 25) for x in ax.get_xticklabels());"
   ]
  },
  {
   "cell_type": "markdown",
   "id": "25212777",
   "metadata": {},
   "source": [
    "## 3. Matrix Factorization"
   ]
  },
  {
   "cell_type": "code",
   "execution_count": 30,
   "id": "e591dea7",
   "metadata": {},
   "outputs": [
    {
     "name": "stdout",
     "output_type": "stream",
     "text": [
      "System version: 3.6.4 (v3.6.4:d48eceb, Dec 19 2017, 06:54:40) [MSC v.1900 64 bit (AMD64)]\n",
      "Cornac version: 1.15.4\n"
     ]
    }
   ],
   "source": [
    "import os\n",
    "import sys\n",
    "import itertools\n",
    "\n",
    "import scipy.sparse as sp\n",
    "import numpy as np\n",
    "import pandas as pd\n",
    "import seaborn as sns\n",
    "import matplotlib.pyplot as plt\n",
    "%matplotlib inline\n",
    "\n",
    "import cornac\n",
    "from cornac.utils import cache\n",
    "from cornac.eval_methods import RatioSplit\n",
    "from cornac.models import MF, NMF, BaselineOnly\n",
    "\n",
    "print(f\"System version: {sys.version}\")\n",
    "print(f\"Cornac version: {cornac.__version__}\")\n",
    "\n",
    "SEED = 42\n",
    "VERBOSE = False"
   ]
  },
  {
   "cell_type": "code",
   "execution_count": 31,
   "id": "edc155d1",
   "metadata": {},
   "outputs": [
    {
     "data": {
      "text/html": [
       "<div>\n",
       "<style scoped>\n",
       "    .dataframe tbody tr th:only-of-type {\n",
       "        vertical-align: middle;\n",
       "    }\n",
       "\n",
       "    .dataframe tbody tr th {\n",
       "        vertical-align: top;\n",
       "    }\n",
       "\n",
       "    .dataframe thead th {\n",
       "        text-align: right;\n",
       "    }\n",
       "</style>\n",
       "<table border=\"1\" class=\"dataframe\">\n",
       "  <thead>\n",
       "    <tr style=\"text-align: right;\">\n",
       "      <th></th>\n",
       "      <th>Item 1</th>\n",
       "      <th>Item 2</th>\n",
       "      <th>Item 3</th>\n",
       "      <th>Item 4</th>\n",
       "      <th>Item 5</th>\n",
       "      <th>Item 6</th>\n",
       "    </tr>\n",
       "  </thead>\n",
       "  <tbody>\n",
       "    <tr>\n",
       "      <th>User 1</th>\n",
       "      <td>7.0</td>\n",
       "      <td>6.0</td>\n",
       "      <td>7.0</td>\n",
       "      <td>4.0</td>\n",
       "      <td>5.0</td>\n",
       "      <td>4.0</td>\n",
       "    </tr>\n",
       "    <tr>\n",
       "      <th>User 2</th>\n",
       "      <td>6.0</td>\n",
       "      <td>7.0</td>\n",
       "      <td>NaN</td>\n",
       "      <td>4.0</td>\n",
       "      <td>3.0</td>\n",
       "      <td>4.0</td>\n",
       "    </tr>\n",
       "    <tr>\n",
       "      <th>User 3</th>\n",
       "      <td>NaN</td>\n",
       "      <td>3.0</td>\n",
       "      <td>3.0</td>\n",
       "      <td>1.0</td>\n",
       "      <td>1.0</td>\n",
       "      <td>NaN</td>\n",
       "    </tr>\n",
       "    <tr>\n",
       "      <th>User 4</th>\n",
       "      <td>1.0</td>\n",
       "      <td>2.0</td>\n",
       "      <td>2.0</td>\n",
       "      <td>3.0</td>\n",
       "      <td>3.0</td>\n",
       "      <td>4.0</td>\n",
       "    </tr>\n",
       "    <tr>\n",
       "      <th>User 5</th>\n",
       "      <td>1.0</td>\n",
       "      <td>NaN</td>\n",
       "      <td>1.0</td>\n",
       "      <td>2.0</td>\n",
       "      <td>3.0</td>\n",
       "      <td>3.0</td>\n",
       "    </tr>\n",
       "  </tbody>\n",
       "</table>\n",
       "</div>"
      ],
      "text/plain": [
       "        Item 1  Item 2  Item 3  Item 4  Item 5  Item 6\n",
       "User 1     7.0     6.0     7.0     4.0     5.0     4.0\n",
       "User 2     6.0     7.0     NaN     4.0     3.0     4.0\n",
       "User 3     NaN     3.0     3.0     1.0     1.0     NaN\n",
       "User 4     1.0     2.0     2.0     3.0     3.0     4.0\n",
       "User 5     1.0     NaN     1.0     2.0     3.0     3.0"
      ]
     },
     "execution_count": 31,
     "metadata": {},
     "output_type": "execute_result"
    }
   ],
   "source": [
    "sample_df = pd.read_csv(\n",
    "  cache(\"https://static.preferred.ai/tutorials/recommender-systems/sample_data.csv\"), \n",
    "  sep=\",\", names=[\"UserID\", \"ItemID\", \"Rating\"]\n",
    ")\n",
    "dataset = cornac.data.Dataset.from_uir(sample_df.itertuples(index=False))\n",
    "R = dataset.matrix.A\n",
    "R_mask = (R > 0).astype(float)\n",
    "pd.DataFrame(\n",
    "  data=R,\n",
    "  index=[f\"User {u + 1}\" for u in np.arange(dataset.num_users)],\n",
    "  columns=[f\"Item {i + 1}\" for i in np.arange(dataset.num_items)]\n",
    ").replace(0, np.nan)"
   ]
  },
  {
   "cell_type": "code",
   "execution_count": 32,
   "id": "e92ed8ed",
   "metadata": {},
   "outputs": [
    {
     "name": "stdout",
     "output_type": "stream",
     "text": [
      "Singular values:  [18.703  5.187  4.537  2.526  0.561]\n",
      "\n",
      "RMSE = 1.065\n",
      "Reconstructed matrix:\n"
     ]
    },
    {
     "data": {
      "text/html": [
       "<div>\n",
       "<style scoped>\n",
       "    .dataframe tbody tr th:only-of-type {\n",
       "        vertical-align: middle;\n",
       "    }\n",
       "\n",
       "    .dataframe tbody tr th {\n",
       "        vertical-align: top;\n",
       "    }\n",
       "\n",
       "    .dataframe thead th {\n",
       "        text-align: right;\n",
       "    }\n",
       "</style>\n",
       "<table border=\"1\" class=\"dataframe\">\n",
       "  <thead>\n",
       "    <tr style=\"text-align: right;\">\n",
       "      <th></th>\n",
       "      <th>Item 1</th>\n",
       "      <th>Item 2</th>\n",
       "      <th>Item 3</th>\n",
       "      <th>Item 4</th>\n",
       "      <th>Item 5</th>\n",
       "      <th>Item 6</th>\n",
       "    </tr>\n",
       "  </thead>\n",
       "  <tbody>\n",
       "    <tr>\n",
       "      <th>User 1</th>\n",
       "      <td>6.44</td>\n",
       "      <td>6.78</td>\n",
       "      <td>4.63</td>\n",
       "      <td>4.79</td>\n",
       "      <td>5.06</td>\n",
       "      <td>5.04</td>\n",
       "    </tr>\n",
       "    <tr>\n",
       "      <th>User 2</th>\n",
       "      <td>4.95</td>\n",
       "      <td>5.21</td>\n",
       "      <td>3.56</td>\n",
       "      <td>3.69</td>\n",
       "      <td>3.89</td>\n",
       "      <td>3.87</td>\n",
       "    </tr>\n",
       "    <tr>\n",
       "      <th>User 3</th>\n",
       "      <td>1.55</td>\n",
       "      <td>1.63</td>\n",
       "      <td>1.12</td>\n",
       "      <td>1.16</td>\n",
       "      <td>1.22</td>\n",
       "      <td>1.21</td>\n",
       "    </tr>\n",
       "    <tr>\n",
       "      <th>User 4</th>\n",
       "      <td>2.78</td>\n",
       "      <td>2.93</td>\n",
       "      <td>2.00</td>\n",
       "      <td>2.07</td>\n",
       "      <td>2.18</td>\n",
       "      <td>2.18</td>\n",
       "    </tr>\n",
       "    <tr>\n",
       "      <th>User 5</th>\n",
       "      <td>1.79</td>\n",
       "      <td>1.89</td>\n",
       "      <td>1.29</td>\n",
       "      <td>1.34</td>\n",
       "      <td>1.41</td>\n",
       "      <td>1.40</td>\n",
       "    </tr>\n",
       "  </tbody>\n",
       "</table>\n",
       "</div>"
      ],
      "text/plain": [
       "        Item 1  Item 2  Item 3  Item 4  Item 5  Item 6\n",
       "User 1    6.44    6.78    4.63    4.79    5.06    5.04\n",
       "User 2    4.95    5.21    3.56    3.69    3.89    3.87\n",
       "User 3    1.55    1.63    1.12    1.16    1.22    1.21\n",
       "User 4    2.78    2.93    2.00    2.07    2.18    2.18\n",
       "User 5    1.79    1.89    1.29    1.34    1.41    1.40"
      ]
     },
     "execution_count": 32,
     "metadata": {},
     "output_type": "execute_result"
    }
   ],
   "source": [
    "U, s, Vt = np.linalg.svd(R, full_matrices=True)\n",
    "print(\"Singular values: \", s.round(3))\n",
    "Sigma = np.zeros((R.shape[0], R.shape[1]))\n",
    "Sigma[:R.shape[0], :R.shape[0]] = np.diag(s)\n",
    "\n",
    "N = 1\n",
    "Sigma = Sigma[:, :N]\n",
    "Vt = Vt[:N, :]\n",
    "recon_R = U.dot(Sigma.dot(Vt))\n",
    "\n",
    "rmse = np.sqrt((((R - recon_R) ** 2) * R_mask).mean())\n",
    "print(f\"\\nRMSE = {rmse:.3f}\")\n",
    "print(\"Reconstructed matrix:\")\n",
    "pd.DataFrame(recon_R.round(2),\n",
    "             index=[f\"User {u + 1}\" for u in np.arange(dataset.num_users)],\n",
    "             columns=[f\"Item {i + 1}\" for i in np.arange(dataset.num_items)])"
   ]
  },
  {
   "cell_type": "markdown",
   "id": "fe6e6aa1",
   "metadata": {},
   "source": [
    "1. Matrix Factorization (MF)"
   ]
  },
  {
   "cell_type": "code",
   "execution_count": 35,
   "id": "8928c738",
   "metadata": {},
   "outputs": [
    {
     "name": "stdout",
     "output_type": "stream",
     "text": [
      "User factors:\n",
      " [[-2.9957786]\n",
      " [-2.7526639]\n",
      " [-1.1497971]\n",
      " [-1.2485691]\n",
      " [-1.038218 ]]\n",
      "Item factors:\n",
      " [[-2.0673497]\n",
      " [-2.231073 ]\n",
      " [-2.1589453]\n",
      " [-1.4565188]\n",
      " [-1.5209622]\n",
      " [-1.612744 ]]\n",
      "\n",
      "RMSE = 0.882\n",
      "Reconstructed matrix:\n"
     ]
    },
    {
     "data": {
      "text/html": [
       "<div>\n",
       "<style scoped>\n",
       "    .dataframe tbody tr th:only-of-type {\n",
       "        vertical-align: middle;\n",
       "    }\n",
       "\n",
       "    .dataframe tbody tr th {\n",
       "        vertical-align: top;\n",
       "    }\n",
       "\n",
       "    .dataframe thead th {\n",
       "        text-align: right;\n",
       "    }\n",
       "</style>\n",
       "<table border=\"1\" class=\"dataframe\">\n",
       "  <thead>\n",
       "    <tr style=\"text-align: right;\">\n",
       "      <th></th>\n",
       "      <th>Item 1</th>\n",
       "      <th>Item 2</th>\n",
       "      <th>Item 3</th>\n",
       "      <th>Item 4</th>\n",
       "      <th>Item 5</th>\n",
       "      <th>Item 6</th>\n",
       "    </tr>\n",
       "  </thead>\n",
       "  <tbody>\n",
       "    <tr>\n",
       "      <th>User 1</th>\n",
       "      <td>6.19</td>\n",
       "      <td>6.68</td>\n",
       "      <td>6.47</td>\n",
       "      <td>4.36</td>\n",
       "      <td>4.56</td>\n",
       "      <td>4.83</td>\n",
       "    </tr>\n",
       "    <tr>\n",
       "      <th>User 2</th>\n",
       "      <td>5.69</td>\n",
       "      <td>6.14</td>\n",
       "      <td>5.94</td>\n",
       "      <td>4.01</td>\n",
       "      <td>4.19</td>\n",
       "      <td>4.44</td>\n",
       "    </tr>\n",
       "    <tr>\n",
       "      <th>User 3</th>\n",
       "      <td>2.38</td>\n",
       "      <td>2.57</td>\n",
       "      <td>2.48</td>\n",
       "      <td>1.67</td>\n",
       "      <td>1.75</td>\n",
       "      <td>1.85</td>\n",
       "    </tr>\n",
       "    <tr>\n",
       "      <th>User 4</th>\n",
       "      <td>2.58</td>\n",
       "      <td>2.79</td>\n",
       "      <td>2.70</td>\n",
       "      <td>1.82</td>\n",
       "      <td>1.90</td>\n",
       "      <td>2.01</td>\n",
       "    </tr>\n",
       "    <tr>\n",
       "      <th>User 5</th>\n",
       "      <td>2.15</td>\n",
       "      <td>2.32</td>\n",
       "      <td>2.24</td>\n",
       "      <td>1.51</td>\n",
       "      <td>1.58</td>\n",
       "      <td>1.67</td>\n",
       "    </tr>\n",
       "  </tbody>\n",
       "</table>\n",
       "</div>"
      ],
      "text/plain": [
       "        Item 1  Item 2  Item 3  Item 4  Item 5  Item 6\n",
       "User 1    6.19    6.68    6.47    4.36    4.56    4.83\n",
       "User 2    5.69    6.14    5.94    4.01    4.19    4.44\n",
       "User 3    2.38    2.57    2.48    1.67    1.75    1.85\n",
       "User 4    2.58    2.79    2.70    1.82    1.90    2.01\n",
       "User 5    2.15    2.32    2.24    1.51    1.58    1.67"
      ]
     },
     "execution_count": 35,
     "metadata": {},
     "output_type": "execute_result"
    }
   ],
   "source": [
    "mf = MF(\n",
    "  k=1, max_iter=100, learning_rate=0.01, lambda_reg=0.0, use_bias=False, verbose=VERBOSE\n",
    ").fit(dataset)\n",
    "print(\"User factors:\\n\", mf.u_factors)\n",
    "print(\"Item factors:\\n\", mf.i_factors)\n",
    "\n",
    "recon_R = np.empty(dataset.matrix.shape)\n",
    "for u, i in itertools.product(range(recon_R.shape[0]), range(recon_R.shape[1])):\n",
    "  recon_R[u, i] = mf.score(u, i)\n",
    "\n",
    "rmse = np.sqrt((((R - recon_R) ** 2) * R_mask).mean())\n",
    "print(f\"\\nRMSE = {rmse:.3f}\")\n",
    "print(\"Reconstructed matrix:\")\n",
    "pd.DataFrame(recon_R.round(2),\n",
    "             index=[f\"User {u + 1}\" for u in np.arange(dataset.num_users)],\n",
    "             columns=[f\"Item {i + 1}\" for i in np.arange(dataset.num_items)])"
   ]
  },
  {
   "cell_type": "markdown",
   "id": "6a8223e2",
   "metadata": {},
   "source": [
    "Let's Try MF on a Real Dataset"
   ]
  },
  {
   "cell_type": "code",
   "execution_count": 36,
   "id": "2f692c0a",
   "metadata": {},
   "outputs": [
    {
     "name": "stdout",
     "output_type": "stream",
     "text": [
      "\n",
      "TEST:\n",
      "...\n",
      "          |   RMSE | Train (s) | Test (s)\n",
      "--------- + ------ + --------- + --------\n",
      "MF(K=100) | 0.8957 |    0.4961 |   0.4154\n",
      "\n"
     ]
    }
   ],
   "source": [
    "K = 100\n",
    "mf = MF(k=K, max_iter=20, learning_rate=0.01, lambda_reg=0.0, use_bias=False,\n",
    "        verbose=VERBOSE, seed=SEED, name=f\"MF(K={K})\")\n",
    "  \n",
    "data = movielens.load_feedback(variant=\"100K\")\n",
    "rs = RatioSplit(data, test_size=0.2, seed=SEED, verbose=VERBOSE)\n",
    "rmse = cornac.metrics.RMSE()\n",
    "cornac.Experiment(eval_method=rs, models=[mf], metrics=[rmse]).run()"
   ]
  },
  {
   "cell_type": "markdown",
   "id": "914ba165",
   "metadata": {},
   "source": [
    "2. Regularization"
   ]
  },
  {
   "cell_type": "code",
   "execution_count": 37,
   "id": "03808f17",
   "metadata": {},
   "outputs": [
    {
     "name": "stdout",
     "output_type": "stream",
     "text": [
      "\n",
      "TEST:\n",
      "...\n",
      "                        |   RMSE | Train (s) | Test (s)\n",
      "----------------------- + ------ + --------- + --------\n",
      "MF(K=100,lambda=0.0100) | 0.8943 |    0.6085 |   0.5893\n",
      "\n"
     ]
    }
   ],
   "source": [
    "K = 100\n",
    "lbd = 0.01\n",
    "mf = MF(k=K, max_iter=20, learning_rate=0.01, lambda_reg=lbd, use_bias=False,\n",
    "        verbose=VERBOSE, seed=SEED, name=f\"MF(K={K},lambda={lbd:.4f})\")\n",
    "\n",
    "data = movielens.load_feedback(variant=\"100K\")\n",
    "rs = RatioSplit(data, test_size=0.2, seed=SEED, verbose=VERBOSE)\n",
    "rmse = cornac.metrics.RMSE()\n",
    "cornac.Experiment(eval_method=rs, models=[mf], metrics=[rmse]).run()"
   ]
  },
  {
   "cell_type": "markdown",
   "id": "476d6fb9",
   "metadata": {},
   "source": [
    "3. Effect of Bias"
   ]
  },
  {
   "cell_type": "code",
   "execution_count": 38,
   "id": "86a3f813",
   "metadata": {},
   "outputs": [
    {
     "name": "stdout",
     "output_type": "stream",
     "text": [
      "\n",
      "TEST:\n",
      "...\n",
      "               |   RMSE | Train (s) | Test (s)\n",
      "-------------- + ------ + --------- + --------\n",
      "BaselineOnly   | 0.9108 |    0.0147 |   0.3526\n",
      "MF(K=100)      | 0.8943 |    0.6082 |   0.5320\n",
      "MF(K=100,bias) | 0.8878 |    0.5428 |   0.4209\n",
      "\n"
     ]
    }
   ],
   "source": [
    "K = 100\n",
    "models = [\n",
    "  BaselineOnly(max_iter=20, learning_rate=0.01, lambda_reg=0.01, verbose=VERBOSE),\n",
    "  MF(k=K, max_iter=20, learning_rate=0.01, lambda_reg=0.01, use_bias=False, \n",
    "     verbose=VERBOSE, seed=SEED, name=f\"MF(K={K})\"),\n",
    "  MF(k=K, max_iter=20, learning_rate=0.01, lambda_reg=0.01, use_bias=True, \n",
    "     verbose=VERBOSE, seed=SEED, name=f\"MF(K={K},bias)\"),\n",
    "]\n",
    "\n",
    "data = movielens.load_feedback(variant=\"100K\")\n",
    "rs = RatioSplit(data, test_size=0.2, seed=SEED, verbose=VERBOSE)\n",
    "rmse = cornac.metrics.RMSE()\n",
    "cornac.Experiment(eval_method=rs, models=models, metrics=[rmse]).run()"
   ]
  },
  {
   "cell_type": "markdown",
   "id": "a4637240",
   "metadata": {},
   "source": [
    "4. Non-Negative Matrix Factorization (NMF)"
   ]
  },
  {
   "cell_type": "code",
   "execution_count": 39,
   "id": "ca4c725d",
   "metadata": {},
   "outputs": [
    {
     "name": "stdout",
     "output_type": "stream",
     "text": [
      "User factors:\n",
      " [[2.7347803]\n",
      " [2.5037546]\n",
      " [1.0476946]\n",
      " [1.1425741]\n",
      " [0.9433611]]\n",
      "Item factors:\n",
      " [[2.1196423]\n",
      " [2.2722871]\n",
      " [2.1941228]\n",
      " [1.4909296]\n",
      " [1.5550097]\n",
      " [1.6578312]]\n",
      "\n",
      "RMSE = 0.916\n",
      "Reconstructed matrix:\n"
     ]
    },
    {
     "data": {
      "text/html": [
       "<div>\n",
       "<style scoped>\n",
       "    .dataframe tbody tr th:only-of-type {\n",
       "        vertical-align: middle;\n",
       "    }\n",
       "\n",
       "    .dataframe tbody tr th {\n",
       "        vertical-align: top;\n",
       "    }\n",
       "\n",
       "    .dataframe thead th {\n",
       "        text-align: right;\n",
       "    }\n",
       "</style>\n",
       "<table border=\"1\" class=\"dataframe\">\n",
       "  <thead>\n",
       "    <tr style=\"text-align: right;\">\n",
       "      <th></th>\n",
       "      <th>Item 1</th>\n",
       "      <th>Item 2</th>\n",
       "      <th>Item 3</th>\n",
       "      <th>Item 4</th>\n",
       "      <th>Item 5</th>\n",
       "      <th>Item 6</th>\n",
       "    </tr>\n",
       "  </thead>\n",
       "  <tbody>\n",
       "    <tr>\n",
       "      <th>User 1</th>\n",
       "      <td>5.80</td>\n",
       "      <td>6.21</td>\n",
       "      <td>6.00</td>\n",
       "      <td>4.08</td>\n",
       "      <td>4.25</td>\n",
       "      <td>4.53</td>\n",
       "    </tr>\n",
       "    <tr>\n",
       "      <th>User 2</th>\n",
       "      <td>5.31</td>\n",
       "      <td>5.69</td>\n",
       "      <td>5.49</td>\n",
       "      <td>3.73</td>\n",
       "      <td>3.89</td>\n",
       "      <td>4.15</td>\n",
       "    </tr>\n",
       "    <tr>\n",
       "      <th>User 3</th>\n",
       "      <td>2.22</td>\n",
       "      <td>2.38</td>\n",
       "      <td>2.30</td>\n",
       "      <td>1.56</td>\n",
       "      <td>1.63</td>\n",
       "      <td>1.74</td>\n",
       "    </tr>\n",
       "    <tr>\n",
       "      <th>User 4</th>\n",
       "      <td>2.42</td>\n",
       "      <td>2.60</td>\n",
       "      <td>2.51</td>\n",
       "      <td>1.70</td>\n",
       "      <td>1.78</td>\n",
       "      <td>1.89</td>\n",
       "    </tr>\n",
       "    <tr>\n",
       "      <th>User 5</th>\n",
       "      <td>2.00</td>\n",
       "      <td>2.14</td>\n",
       "      <td>2.07</td>\n",
       "      <td>1.41</td>\n",
       "      <td>1.47</td>\n",
       "      <td>1.56</td>\n",
       "    </tr>\n",
       "  </tbody>\n",
       "</table>\n",
       "</div>"
      ],
      "text/plain": [
       "        Item 1  Item 2  Item 3  Item 4  Item 5  Item 6\n",
       "User 1    5.80    6.21    6.00    4.08    4.25    4.53\n",
       "User 2    5.31    5.69    5.49    3.73    3.89    4.15\n",
       "User 3    2.22    2.38    2.30    1.56    1.63    1.74\n",
       "User 4    2.42    2.60    2.51    1.70    1.78    1.89\n",
       "User 5    2.00    2.14    2.07    1.41    1.47    1.56"
      ]
     },
     "execution_count": 39,
     "metadata": {},
     "output_type": "execute_result"
    }
   ],
   "source": [
    "nmf = NMF(\n",
    "  k=1, max_iter=100, learning_rate=0.01, lambda_reg=0.0, verbose=VERBOSE\n",
    ").fit(dataset)\n",
    "print(\"User factors:\\n\", nmf.u_factors)\n",
    "print(\"Item factors:\\n\", nmf.i_factors)\n",
    "\n",
    "recon_R = np.empty(dataset.matrix.shape)\n",
    "for u, i in itertools.product(range(recon_R.shape[0]), range(recon_R.shape[1])):\n",
    "  recon_R[u, i] = nmf.score(u, i)\n",
    "\n",
    "rmse = np.sqrt((((R - recon_R) ** 2) * R_mask).mean())\n",
    "print(f\"\\nRMSE = {rmse:.3f}\")\n",
    "print(\"Reconstructed matrix:\")\n",
    "pd.DataFrame(recon_R.round(2),\n",
    "             index=[f\"User {u + 1}\" for u in np.arange(dataset.num_users)],\n",
    "             columns=[f\"Item {i + 1}\" for i in np.arange(dataset.num_items)])"
   ]
  },
  {
   "cell_type": "markdown",
   "id": "a991e79b",
   "metadata": {},
   "source": [
    "5. NMF on MovieLens 100K"
   ]
  },
  {
   "cell_type": "code",
   "execution_count": 40,
   "id": "4e51e425",
   "metadata": {},
   "outputs": [
    {
     "name": "stdout",
     "output_type": "stream",
     "text": [
      "\n",
      "TEST:\n",
      "...\n",
      "          |   RMSE | Train (s) | Test (s)\n",
      "--------- + ------ + --------- + --------\n",
      "NMF(K=10) | 1.0196 |    1.1266 |   0.3629\n",
      "\n"
     ]
    }
   ],
   "source": [
    "K = 10\n",
    "nmf = NMF(k=K, max_iter=200, learning_rate=0.01, lambda_reg=0.01, use_bias=False,\n",
    "          verbose=VERBOSE, seed=SEED, name=f\"NMF(K={K})\")\n",
    "          \n",
    "data = movielens.load_feedback(variant=\"100K\")\n",
    "rs = RatioSplit(data, test_size=0.2, seed=SEED, verbose=VERBOSE)\n",
    "rmse = cornac.metrics.RMSE()\n",
    "cornac.Experiment(eval_method=rs, models=[nmf], metrics=[rmse]).run()"
   ]
  },
  {
   "cell_type": "markdown",
   "id": "c33abd7f",
   "metadata": {},
   "source": [
    "6. Interpreting Latent Factors"
   ]
  },
  {
   "cell_type": "code",
   "execution_count": 41,
   "id": "9367c213",
   "metadata": {},
   "outputs": [],
   "source": [
    "# Download some information of MovieLens 100K dataset\n",
    "item_df = pd.read_csv(\n",
    "  cache(\"http://files.grouplens.org/datasets/movielens/ml-100k/u.item\"), \n",
    "  sep=\"|\", encoding=\"ISO-8859-1\",\n",
    "  names=[\"ItemID\", \"Title\", \"Release Date\", \"Video Release Date\", \"IMDb URL\", \n",
    "         \"unknown\", \"Action\", \"Adventure\", \"Animation\", \"Children's\", \"Comedy\", \n",
    "         \"Crime\", \"Documentary\", \"Drama\", \"Fantasy\", \"Film-Noir\", \"Horror\", \n",
    "         \"Musical\", \"Mystery\", \"Romance\", \"Sci-Fi\", \"Thriller\", \"War\", \"Western\"]\n",
    ").set_index(\"ItemID\").drop(columns=[\"Video Release Date\", \"IMDb URL\", \"unknown\"])"
   ]
  },
  {
   "cell_type": "code",
   "execution_count": 42,
   "id": "6af8f81f",
   "metadata": {},
   "outputs": [
    {
     "name": "stdout",
     "output_type": "stream",
     "text": [
      "\n",
      "TEST:\n",
      "...\n",
      "          |   RMSE | Train (s) | Test (s)\n",
      "--------- + ------ + --------- + --------\n",
      "MF(K=10)  | 0.9027 |    0.0554 |   0.3866\n",
      "NMF(K=10) | 1.0196 |    1.1267 |   0.4079\n",
      "\n"
     ]
    }
   ],
   "source": [
    "K = 10\n",
    "mf = MF(k=K, max_iter=20, learning_rate=0.01, lambda_reg=0.01, use_bias=False, \n",
    "        verbose=VERBOSE, seed=SEED, name=f\"MF(K={K})\")\n",
    "nmf = NMF(k=K, max_iter=200, learning_rate=0.01, lambda_reg=0.01, use_bias=False, \n",
    "          verbose=VERBOSE, seed=SEED, name=f\"NMF(K={K})\")\n",
    "  \n",
    "data = movielens.load_feedback(variant=\"100K\")\n",
    "rs = RatioSplit(data, test_size=0.2, seed=SEED, verbose=VERBOSE)\n",
    "rmse = cornac.metrics.RMSE()\n",
    "cornac.Experiment(eval_method=rs, models=[mf, nmf], metrics=[rmse]).run()"
   ]
  },
  {
   "cell_type": "markdown",
   "id": "73201e88",
   "metadata": {},
   "source": [
    "MF"
   ]
  },
  {
   "cell_type": "code",
   "execution_count": 43,
   "id": "f2f17acf",
   "metadata": {},
   "outputs": [
    {
     "data": {
      "image/png": "[encoded data removed]",
      "text/plain": [
       "<Figure size 864x360 with 1 Axes>"
      ]
     },
     "metadata": {
      "needs_background": "light"
     },
     "output_type": "display_data"
    }
   ],
   "source": [
    "var_df = pd.DataFrame({\"Factor\": np.arange(K), \"Variance\": np.var(mf.i_factors, axis=0)})\n",
    "fig, ax = plt.subplots(figsize=(12, 5))\n",
    "sns.barplot(x=\"Factor\", y=\"Variance\", data=var_df, palette=\"ch:.25\", ax=ax);"
   ]
  },
  {
   "cell_type": "code",
   "execution_count": 47,
   "id": "0eb10310",
   "metadata": {},
   "outputs": [
    {
     "ename": "NameError",
     "evalue": "name 'adjust_text' is not defined",
     "output_type": "error",
     "traceback": [
      "\u001b[1;31m---------------------------------------------------------------------------\u001b[0m",
      "\u001b[1;31mNameError\u001b[0m                                 Traceback (most recent call last)",
      "\u001b[1;32m<ipython-input-47-9231cd5a9b78>\u001b[0m in \u001b[0;36m<module>\u001b[1;34m\u001b[0m\n\u001b[0;32m      9\u001b[0m \u001b[0mitem_idx2id\u001b[0m \u001b[1;33m=\u001b[0m \u001b[0mlist\u001b[0m\u001b[1;33m(\u001b[0m\u001b[0mmf\u001b[0m\u001b[1;33m.\u001b[0m\u001b[0mtrain_set\u001b[0m\u001b[1;33m.\u001b[0m\u001b[0mitem_ids\u001b[0m\u001b[1;33m)\u001b[0m\u001b[1;33m\u001b[0m\u001b[0m\n\u001b[0;32m     10\u001b[0m \u001b[0mtitles\u001b[0m \u001b[1;33m=\u001b[0m \u001b[0mitem_df\u001b[0m\u001b[1;33m.\u001b[0m\u001b[0mloc\u001b[0m\u001b[1;33m[\u001b[0m\u001b[1;33m[\u001b[0m\u001b[0mint\u001b[0m\u001b[1;33m(\u001b[0m\u001b[0mitem_idx2id\u001b[0m\u001b[1;33m[\u001b[0m\u001b[0mi\u001b[0m\u001b[1;33m]\u001b[0m\u001b[1;33m)\u001b[0m \u001b[1;32mfor\u001b[0m \u001b[0mi\u001b[0m \u001b[1;32min\u001b[0m \u001b[0msample_inds\u001b[0m\u001b[1;33m]\u001b[0m\u001b[1;33m]\u001b[0m\u001b[1;33m[\u001b[0m\u001b[1;34m\"Title\"\u001b[0m\u001b[1;33m]\u001b[0m\u001b[1;33m.\u001b[0m\u001b[0mvalues\u001b[0m\u001b[1;33m\u001b[0m\u001b[0m\n\u001b[1;32m---> 11\u001b[1;33m adjust_text(\n\u001b[0m\u001b[0;32m     12\u001b[0m   \u001b[1;33m[\u001b[0m\u001b[0mplt\u001b[0m\u001b[1;33m.\u001b[0m\u001b[0mtext\u001b[0m\u001b[1;33m(\u001b[0m\u001b[1;33m*\u001b[0m\u001b[0msample_df\u001b[0m\u001b[1;33m.\u001b[0m\u001b[0mloc\u001b[0m\u001b[1;33m[\u001b[0m\u001b[0mi\u001b[0m\u001b[1;33m]\u001b[0m\u001b[1;33m.\u001b[0m\u001b[0mvalues\u001b[0m\u001b[1;33m,\u001b[0m \u001b[0mtitles\u001b[0m\u001b[1;33m[\u001b[0m\u001b[0mi\u001b[0m\u001b[1;33m]\u001b[0m\u001b[1;33m,\u001b[0m \u001b[0msize\u001b[0m\u001b[1;33m=\u001b[0m\u001b[1;36m10\u001b[0m\u001b[1;33m)\u001b[0m \u001b[1;32mfor\u001b[0m \u001b[0mi\u001b[0m \u001b[1;32min\u001b[0m \u001b[0mrange\u001b[0m\u001b[1;33m(\u001b[0m\u001b[0mlen\u001b[0m\u001b[1;33m(\u001b[0m\u001b[0mtitles\u001b[0m\u001b[1;33m)\u001b[0m\u001b[1;33m)\u001b[0m\u001b[1;33m]\u001b[0m\u001b[1;33m\u001b[0m\u001b[0m\n\u001b[0;32m     13\u001b[0m );\n",
      "\u001b[1;31mNameError\u001b[0m: name 'adjust_text' is not defined"
     ]
    },
    {
     "data": {
      "image/png": "[encoded data removed]",
      "text/plain": [
       "<Figure size 792x792 with 1 Axes>"
      ]
     },
     "metadata": {
      "needs_background": "light"
     },
     "output_type": "display_data"
    }
   ],
   "source": [
    "TOP2F = (0, 2)\n",
    "SAMPLE_SIZE = 20\n",
    "\n",
    "rng = np.random.RandomState(SEED)\n",
    "sample_inds = rng.choice(np.arange(mf.i_factors.shape[0]), size=SAMPLE_SIZE, replace=False)\n",
    "sample_df = pd.DataFrame(data=mf.i_factors[sample_inds][:, TOP2F], columns=[\"x\", \"y\"])\n",
    "\n",
    "sns.lmplot(x=\"x\", y=\"y\", data=sample_df, height=11.0, fit_reg=False)\n",
    "item_idx2id = list(mf.train_set.item_ids)\n",
    "titles = item_df.loc[[int(item_idx2id[i]) for i in sample_inds]][\"Title\"].values\n",
    "adjust_text(\n",
    "  [plt.text(*sample_df.loc[i].values, titles[i], size=10) for i in range(len(titles))]\n",
    ");"
   ]
  },
  {
   "cell_type": "markdown",
   "id": "356c7b61",
   "metadata": {},
   "source": [
    "NMF"
   ]
  },
  {
   "cell_type": "code",
   "execution_count": 45,
   "id": "ad71d465",
   "metadata": {},
   "outputs": [
    {
     "data": {
      "image/png": "[encoded data removed]",
      "text/plain": [
       "<Figure size 864x360 with 1 Axes>"
      ]
     },
     "metadata": {
      "needs_background": "light"
     },
     "output_type": "display_data"
    }
   ],
   "source": [
    "var_df = pd.DataFrame({\"Factor\": np.arange(K), \"Variance\": np.var(nmf.i_factors, axis=0)})\n",
    "fig, ax = plt.subplots(figsize=(12, 5))\n",
    "sns.barplot(x=\"Factor\", y=\"Variance\", data=var_df, palette=\"ch:.25\", ax=ax);"
   ]
  },
  {
   "cell_type": "code",
   "execution_count": 46,
   "id": "715c567b",
   "metadata": {},
   "outputs": [
    {
     "ename": "NameError",
     "evalue": "name 'adjust_text' is not defined",
     "output_type": "error",
     "traceback": [
      "\u001b[1;31m---------------------------------------------------------------------------\u001b[0m",
      "\u001b[1;31mNameError\u001b[0m                                 Traceback (most recent call last)",
      "\u001b[1;32m<ipython-input-46-f40cdc66962f>\u001b[0m in \u001b[0;36m<module>\u001b[1;34m\u001b[0m\n\u001b[0;32m      9\u001b[0m \u001b[0mitem_idx2id\u001b[0m \u001b[1;33m=\u001b[0m \u001b[0mlist\u001b[0m\u001b[1;33m(\u001b[0m\u001b[0mnmf\u001b[0m\u001b[1;33m.\u001b[0m\u001b[0mtrain_set\u001b[0m\u001b[1;33m.\u001b[0m\u001b[0mitem_ids\u001b[0m\u001b[1;33m)\u001b[0m\u001b[1;33m\u001b[0m\u001b[0m\n\u001b[0;32m     10\u001b[0m \u001b[0mtitles\u001b[0m \u001b[1;33m=\u001b[0m \u001b[0mitem_df\u001b[0m\u001b[1;33m.\u001b[0m\u001b[0mloc\u001b[0m\u001b[1;33m[\u001b[0m\u001b[1;33m[\u001b[0m\u001b[0mint\u001b[0m\u001b[1;33m(\u001b[0m\u001b[0mitem_idx2id\u001b[0m\u001b[1;33m[\u001b[0m\u001b[0mi\u001b[0m\u001b[1;33m]\u001b[0m\u001b[1;33m)\u001b[0m \u001b[1;32mfor\u001b[0m \u001b[0mi\u001b[0m \u001b[1;32min\u001b[0m \u001b[0msample_inds\u001b[0m\u001b[1;33m]\u001b[0m\u001b[1;33m]\u001b[0m\u001b[1;33m[\u001b[0m\u001b[1;34m\"Title\"\u001b[0m\u001b[1;33m]\u001b[0m\u001b[1;33m.\u001b[0m\u001b[0mvalues\u001b[0m\u001b[1;33m\u001b[0m\u001b[0m\n\u001b[1;32m---> 11\u001b[1;33m adjust_text(\n\u001b[0m\u001b[0;32m     12\u001b[0m   \u001b[1;33m[\u001b[0m\u001b[0mplt\u001b[0m\u001b[1;33m.\u001b[0m\u001b[0mtext\u001b[0m\u001b[1;33m(\u001b[0m\u001b[1;33m*\u001b[0m\u001b[0msample_df\u001b[0m\u001b[1;33m.\u001b[0m\u001b[0mloc\u001b[0m\u001b[1;33m[\u001b[0m\u001b[0mi\u001b[0m\u001b[1;33m]\u001b[0m\u001b[1;33m.\u001b[0m\u001b[0mvalues\u001b[0m\u001b[1;33m,\u001b[0m \u001b[0mtitles\u001b[0m\u001b[1;33m[\u001b[0m\u001b[0mi\u001b[0m\u001b[1;33m]\u001b[0m\u001b[1;33m,\u001b[0m \u001b[0msize\u001b[0m\u001b[1;33m=\u001b[0m\u001b[1;36m10\u001b[0m\u001b[1;33m)\u001b[0m \u001b[1;32mfor\u001b[0m \u001b[0mi\u001b[0m \u001b[1;32min\u001b[0m \u001b[0mrange\u001b[0m\u001b[1;33m(\u001b[0m\u001b[0mlen\u001b[0m\u001b[1;33m(\u001b[0m\u001b[0mtitles\u001b[0m\u001b[1;33m)\u001b[0m\u001b[1;33m)\u001b[0m\u001b[1;33m]\u001b[0m\u001b[1;33m\u001b[0m\u001b[0m\n\u001b[0;32m     13\u001b[0m );\n",
      "\u001b[1;31mNameError\u001b[0m: name 'adjust_text' is not defined"
     ]
    },
    {
     "data": {
      "image/png": "[encoded data removed]",
      "text/plain": [
       "<Figure size 792x792 with 1 Axes>"
      ]
     },
     "metadata": {
      "needs_background": "light"
     },
     "output_type": "display_data"
    }
   ],
   "source": [
    "TOP2F = (5, 6)\n",
    "SAMPLE_SIZE = 20\n",
    "\n",
    "rng = np.random.RandomState(SEED)\n",
    "sample_inds = rng.choice(np.arange(nmf.i_factors.shape[0]), size=SAMPLE_SIZE, replace=False)\n",
    "sample_df = pd.DataFrame(data=nmf.i_factors[sample_inds][:, TOP2F], columns=[\"x\", \"y\"])\n",
    "\n",
    "sns.lmplot(x=\"x\", y=\"y\", data=sample_df, height=11.0, fit_reg=False)\n",
    "item_idx2id = list(nmf.train_set.item_ids)\n",
    "titles = item_df.loc[[int(item_idx2id[i]) for i in sample_inds]][\"Title\"].values\n",
    "adjust_text(\n",
    "  [plt.text(*sample_df.loc[i].values, titles[i], size=10) for i in range(len(titles))]\n",
    ");"
   ]
  },
  {
   "cell_type": "code",
   "execution_count": 48,
   "id": "1ef03d52",
   "metadata": {},
   "outputs": [
    {
     "data": {
      "text/html": [
       "<div>\n",
       "<style scoped>\n",
       "    .dataframe tbody tr th:only-of-type {\n",
       "        vertical-align: middle;\n",
       "    }\n",
       "\n",
       "    .dataframe tbody tr th {\n",
       "        vertical-align: top;\n",
       "    }\n",
       "\n",
       "    .dataframe thead th {\n",
       "        text-align: right;\n",
       "    }\n",
       "</style>\n",
       "<table border=\"1\" class=\"dataframe\">\n",
       "  <thead>\n",
       "    <tr style=\"text-align: right;\">\n",
       "      <th></th>\n",
       "      <th>Factor 0</th>\n",
       "      <th>Factor 1</th>\n",
       "      <th>Factor 2</th>\n",
       "      <th>Factor 3</th>\n",
       "      <th>Factor 4</th>\n",
       "      <th>Factor 5</th>\n",
       "      <th>Factor 6</th>\n",
       "      <th>Factor 7</th>\n",
       "      <th>Factor 8</th>\n",
       "      <th>Factor 9</th>\n",
       "    </tr>\n",
       "  </thead>\n",
       "  <tbody>\n",
       "    <tr>\n",
       "      <th>0</th>\n",
       "      <td>Carpool (1996)</td>\n",
       "      <td>Best Men (1997)</td>\n",
       "      <td>Bhaji on the Beach (1993)</td>\n",
       "      <td>Garden of Finzi-Contini, The (Giardino dei Fin...</td>\n",
       "      <td>Tough and Deadly (1995)</td>\n",
       "      <td>Boys, Les (1997)</td>\n",
       "      <td>Ruby in Paradise (1993)</td>\n",
       "      <td>Deep Rising (1998)</td>\n",
       "      <td>City of Industry (1997)</td>\n",
       "      <td>Gumby: The Movie (1995)</td>\n",
       "    </tr>\n",
       "    <tr>\n",
       "      <th>1</th>\n",
       "      <td>Good Man in Africa, A (1994)</td>\n",
       "      <td>Paradise Lost: The Child Murders at Robin Hood...</td>\n",
       "      <td>Panther (1995)</td>\n",
       "      <td>Kissed (1996)</td>\n",
       "      <td>8 Heads in a Duffel Bag (1997)</td>\n",
       "      <td>Nénette et Boni (1996)</td>\n",
       "      <td>Mina Tannenbaum (1994)</td>\n",
       "      <td>Captives (1994)</td>\n",
       "      <td>Romper Stomper (1992)</td>\n",
       "      <td>Turbulence (1997)</td>\n",
       "    </tr>\n",
       "    <tr>\n",
       "      <th>2</th>\n",
       "      <td>Neon Bible, The (1995)</td>\n",
       "      <td>Angel Baby (1995)</td>\n",
       "      <td>Nina Takes a Lover (1994)</td>\n",
       "      <td>Ice Storm, The (1997)</td>\n",
       "      <td>Selena (1997)</td>\n",
       "      <td>Ghost in the Shell (Kokaku kidotai) (1995)</td>\n",
       "      <td>Harlem (1993)</td>\n",
       "      <td>Baby-Sitters Club, The (1995)</td>\n",
       "      <td>Tetsuo II: Body Hammer (1992)</td>\n",
       "      <td>Man in the Iron Mask, The (1998)</td>\n",
       "    </tr>\n",
       "    <tr>\n",
       "      <th>3</th>\n",
       "      <td>C'est arrivé près de chez vous (1992)</td>\n",
       "      <td>Cemetery Man (Dellamorte Dellamore) (1994)</td>\n",
       "      <td>Cats Don't Dance (1997)</td>\n",
       "      <td>Low Down Dirty Shame, A (1994)</td>\n",
       "      <td>Love Jones (1997)</td>\n",
       "      <td>Grace of My Heart (1996)</td>\n",
       "      <td>Secret Agent, The (1996)</td>\n",
       "      <td>Prisoner of the Mountains (Kavkazsky Plennik) ...</td>\n",
       "      <td>Boys, Les (1997)</td>\n",
       "      <td>Radioland Murders (1994)</td>\n",
       "    </tr>\n",
       "    <tr>\n",
       "      <th>4</th>\n",
       "      <td>Miami Rhapsody (1995)</td>\n",
       "      <td>Underground (1995)</td>\n",
       "      <td>Until the End of the World (Bis ans Ende der W...</td>\n",
       "      <td>Dunston Checks In (1996)</td>\n",
       "      <td>Little Princess, The (1939)</td>\n",
       "      <td>Stalingrad (1993)</td>\n",
       "      <td>White Balloon, The (1995)</td>\n",
       "      <td>Guilty as Sin (1993)</td>\n",
       "      <td>To Live (Huozhe) (1994)</td>\n",
       "      <td>Infinity (1996)</td>\n",
       "    </tr>\n",
       "  </tbody>\n",
       "</table>\n",
       "</div>"
      ],
      "text/plain": [
       "                                Factor 0  \\\n",
       "0                         Carpool (1996)   \n",
       "1           Good Man in Africa, A (1994)   \n",
       "2                 Neon Bible, The (1995)   \n",
       "3  C'est arrivé près de chez vous (1992)   \n",
       "4                  Miami Rhapsody (1995)   \n",
       "\n",
       "                                            Factor 1  \\\n",
       "0                                    Best Men (1997)   \n",
       "1  Paradise Lost: The Child Murders at Robin Hood...   \n",
       "2                                  Angel Baby (1995)   \n",
       "3         Cemetery Man (Dellamorte Dellamore) (1994)   \n",
       "4                                 Underground (1995)   \n",
       "\n",
       "                                            Factor 2  \\\n",
       "0                          Bhaji on the Beach (1993)   \n",
       "1                                     Panther (1995)   \n",
       "2                          Nina Takes a Lover (1994)   \n",
       "3                            Cats Don't Dance (1997)   \n",
       "4  Until the End of the World (Bis ans Ende der W...   \n",
       "\n",
       "                                            Factor 3  \\\n",
       "0  Garden of Finzi-Contini, The (Giardino dei Fin...   \n",
       "1                                      Kissed (1996)   \n",
       "2                              Ice Storm, The (1997)   \n",
       "3                     Low Down Dirty Shame, A (1994)   \n",
       "4                           Dunston Checks In (1996)   \n",
       "\n",
       "                         Factor 4                                    Factor 5  \\\n",
       "0         Tough and Deadly (1995)                            Boys, Les (1997)   \n",
       "1  8 Heads in a Duffel Bag (1997)                      Nénette et Boni (1996)   \n",
       "2                   Selena (1997)  Ghost in the Shell (Kokaku kidotai) (1995)   \n",
       "3               Love Jones (1997)                    Grace of My Heart (1996)   \n",
       "4     Little Princess, The (1939)                           Stalingrad (1993)   \n",
       "\n",
       "                    Factor 6  \\\n",
       "0    Ruby in Paradise (1993)   \n",
       "1     Mina Tannenbaum (1994)   \n",
       "2              Harlem (1993)   \n",
       "3   Secret Agent, The (1996)   \n",
       "4  White Balloon, The (1995)   \n",
       "\n",
       "                                            Factor 7  \\\n",
       "0                                 Deep Rising (1998)   \n",
       "1                                    Captives (1994)   \n",
       "2                      Baby-Sitters Club, The (1995)   \n",
       "3  Prisoner of the Mountains (Kavkazsky Plennik) ...   \n",
       "4                               Guilty as Sin (1993)   \n",
       "\n",
       "                        Factor 8                          Factor 9  \n",
       "0        City of Industry (1997)           Gumby: The Movie (1995)  \n",
       "1          Romper Stomper (1992)                 Turbulence (1997)  \n",
       "2  Tetsuo II: Body Hammer (1992)  Man in the Iron Mask, The (1998)  \n",
       "3               Boys, Les (1997)          Radioland Murders (1994)  \n",
       "4        To Live (Huozhe) (1994)                   Infinity (1996)  "
      ]
     },
     "execution_count": 48,
     "metadata": {},
     "output_type": "execute_result"
    }
   ],
   "source": [
    "item_idx2id = list(nmf.train_set.item_ids)\n",
    "top_items = {}\n",
    "for k in range(K):\n",
    "  top_inds = np.argsort(nmf.i_factors[:, k])[-5:][::-1]\n",
    "  top_items[f\"Factor {k}\"] = item_df.loc[[int(item_idx2id[i]) for i in top_inds]][\"Title\"].values\n",
    "pd.DataFrame(top_items)"
   ]
  },
  {
   "cell_type": "code",
   "execution_count": 49,
   "id": "4ae8384d",
   "metadata": {},
   "outputs": [
    {
     "data": {
      "text/html": [
       "<div>\n",
       "<style scoped>\n",
       "    .dataframe tbody tr th:only-of-type {\n",
       "        vertical-align: middle;\n",
       "    }\n",
       "\n",
       "    .dataframe tbody tr th {\n",
       "        vertical-align: top;\n",
       "    }\n",
       "\n",
       "    .dataframe thead th {\n",
       "        text-align: right;\n",
       "    }\n",
       "</style>\n",
       "<table border=\"1\" class=\"dataframe\">\n",
       "  <thead>\n",
       "    <tr style=\"text-align: right;\">\n",
       "      <th></th>\n",
       "      <th>Factor 0</th>\n",
       "      <th>Factor 1</th>\n",
       "      <th>Factor 2</th>\n",
       "      <th>Factor 3</th>\n",
       "      <th>Factor 4</th>\n",
       "      <th>Factor 5</th>\n",
       "      <th>Factor 6</th>\n",
       "      <th>Factor 7</th>\n",
       "      <th>Factor 8</th>\n",
       "      <th>Factor 9</th>\n",
       "    </tr>\n",
       "  </thead>\n",
       "  <tbody>\n",
       "    <tr>\n",
       "      <th>Action</th>\n",
       "      <td>18</td>\n",
       "      <td>11</td>\n",
       "      <td>12</td>\n",
       "      <td>17</td>\n",
       "      <td>12</td>\n",
       "      <td>7</td>\n",
       "      <td>4</td>\n",
       "      <td>5</td>\n",
       "      <td>20</td>\n",
       "      <td>15</td>\n",
       "    </tr>\n",
       "    <tr>\n",
       "      <th>Adventure</th>\n",
       "      <td>12</td>\n",
       "      <td>4</td>\n",
       "      <td>11</td>\n",
       "      <td>3</td>\n",
       "      <td>5</td>\n",
       "      <td>3</td>\n",
       "      <td>6</td>\n",
       "      <td>2</td>\n",
       "      <td>13</td>\n",
       "      <td>11</td>\n",
       "    </tr>\n",
       "    <tr>\n",
       "      <th>Animation</th>\n",
       "      <td>0</td>\n",
       "      <td>1</td>\n",
       "      <td>1</td>\n",
       "      <td>5</td>\n",
       "      <td>3</td>\n",
       "      <td>2</td>\n",
       "      <td>5</td>\n",
       "      <td>0</td>\n",
       "      <td>0</td>\n",
       "      <td>3</td>\n",
       "    </tr>\n",
       "    <tr>\n",
       "      <th>Children's</th>\n",
       "      <td>5</td>\n",
       "      <td>3</td>\n",
       "      <td>6</td>\n",
       "      <td>5</td>\n",
       "      <td>5</td>\n",
       "      <td>5</td>\n",
       "      <td>2</td>\n",
       "      <td>2</td>\n",
       "      <td>8</td>\n",
       "      <td>20</td>\n",
       "    </tr>\n",
       "    <tr>\n",
       "      <th>Comedy</th>\n",
       "      <td>27</td>\n",
       "      <td>29</td>\n",
       "      <td>31</td>\n",
       "      <td>36</td>\n",
       "      <td>22</td>\n",
       "      <td>32</td>\n",
       "      <td>33</td>\n",
       "      <td>28</td>\n",
       "      <td>24</td>\n",
       "      <td>38</td>\n",
       "    </tr>\n",
       "    <tr>\n",
       "      <th>Crime</th>\n",
       "      <td>7</td>\n",
       "      <td>9</td>\n",
       "      <td>5</td>\n",
       "      <td>9</td>\n",
       "      <td>4</td>\n",
       "      <td>3</td>\n",
       "      <td>6</td>\n",
       "      <td>4</td>\n",
       "      <td>9</td>\n",
       "      <td>3</td>\n",
       "    </tr>\n",
       "    <tr>\n",
       "      <th>Documentary</th>\n",
       "      <td>3</td>\n",
       "      <td>10</td>\n",
       "      <td>1</td>\n",
       "      <td>3</td>\n",
       "      <td>1</td>\n",
       "      <td>6</td>\n",
       "      <td>4</td>\n",
       "      <td>3</td>\n",
       "      <td>2</td>\n",
       "      <td>3</td>\n",
       "    </tr>\n",
       "    <tr>\n",
       "      <th>Drama</th>\n",
       "      <td>39</td>\n",
       "      <td>42</td>\n",
       "      <td>45</td>\n",
       "      <td>43</td>\n",
       "      <td>49</td>\n",
       "      <td>50</td>\n",
       "      <td>55</td>\n",
       "      <td>60</td>\n",
       "      <td>45</td>\n",
       "      <td>30</td>\n",
       "    </tr>\n",
       "    <tr>\n",
       "      <th>Fantasy</th>\n",
       "      <td>0</td>\n",
       "      <td>1</td>\n",
       "      <td>1</td>\n",
       "      <td>0</td>\n",
       "      <td>1</td>\n",
       "      <td>1</td>\n",
       "      <td>0</td>\n",
       "      <td>0</td>\n",
       "      <td>1</td>\n",
       "      <td>2</td>\n",
       "    </tr>\n",
       "    <tr>\n",
       "      <th>Film-Noir</th>\n",
       "      <td>1</td>\n",
       "      <td>0</td>\n",
       "      <td>0</td>\n",
       "      <td>3</td>\n",
       "      <td>2</td>\n",
       "      <td>1</td>\n",
       "      <td>0</td>\n",
       "      <td>1</td>\n",
       "      <td>0</td>\n",
       "      <td>1</td>\n",
       "    </tr>\n",
       "    <tr>\n",
       "      <th>Horror</th>\n",
       "      <td>4</td>\n",
       "      <td>5</td>\n",
       "      <td>6</td>\n",
       "      <td>4</td>\n",
       "      <td>4</td>\n",
       "      <td>7</td>\n",
       "      <td>6</td>\n",
       "      <td>1</td>\n",
       "      <td>6</td>\n",
       "      <td>7</td>\n",
       "    </tr>\n",
       "    <tr>\n",
       "      <th>Musical</th>\n",
       "      <td>2</td>\n",
       "      <td>2</td>\n",
       "      <td>1</td>\n",
       "      <td>9</td>\n",
       "      <td>2</td>\n",
       "      <td>1</td>\n",
       "      <td>3</td>\n",
       "      <td>5</td>\n",
       "      <td>2</td>\n",
       "      <td>7</td>\n",
       "    </tr>\n",
       "    <tr>\n",
       "      <th>Mystery</th>\n",
       "      <td>5</td>\n",
       "      <td>1</td>\n",
       "      <td>3</td>\n",
       "      <td>4</td>\n",
       "      <td>4</td>\n",
       "      <td>1</td>\n",
       "      <td>3</td>\n",
       "      <td>4</td>\n",
       "      <td>4</td>\n",
       "      <td>4</td>\n",
       "    </tr>\n",
       "    <tr>\n",
       "      <th>Romance</th>\n",
       "      <td>13</td>\n",
       "      <td>11</td>\n",
       "      <td>23</td>\n",
       "      <td>12</td>\n",
       "      <td>12</td>\n",
       "      <td>14</td>\n",
       "      <td>15</td>\n",
       "      <td>18</td>\n",
       "      <td>7</td>\n",
       "      <td>15</td>\n",
       "    </tr>\n",
       "    <tr>\n",
       "      <th>Sci-Fi</th>\n",
       "      <td>10</td>\n",
       "      <td>5</td>\n",
       "      <td>8</td>\n",
       "      <td>4</td>\n",
       "      <td>4</td>\n",
       "      <td>1</td>\n",
       "      <td>6</td>\n",
       "      <td>1</td>\n",
       "      <td>8</td>\n",
       "      <td>3</td>\n",
       "    </tr>\n",
       "    <tr>\n",
       "      <th>Thriller</th>\n",
       "      <td>18</td>\n",
       "      <td>14</td>\n",
       "      <td>18</td>\n",
       "      <td>15</td>\n",
       "      <td>15</td>\n",
       "      <td>7</td>\n",
       "      <td>6</td>\n",
       "      <td>8</td>\n",
       "      <td>15</td>\n",
       "      <td>19</td>\n",
       "    </tr>\n",
       "    <tr>\n",
       "      <th>War</th>\n",
       "      <td>8</td>\n",
       "      <td>5</td>\n",
       "      <td>2</td>\n",
       "      <td>4</td>\n",
       "      <td>2</td>\n",
       "      <td>5</td>\n",
       "      <td>2</td>\n",
       "      <td>2</td>\n",
       "      <td>2</td>\n",
       "      <td>0</td>\n",
       "    </tr>\n",
       "    <tr>\n",
       "      <th>Western</th>\n",
       "      <td>6</td>\n",
       "      <td>2</td>\n",
       "      <td>0</td>\n",
       "      <td>0</td>\n",
       "      <td>4</td>\n",
       "      <td>1</td>\n",
       "      <td>1</td>\n",
       "      <td>2</td>\n",
       "      <td>2</td>\n",
       "      <td>1</td>\n",
       "    </tr>\n",
       "  </tbody>\n",
       "</table>\n",
       "</div>"
      ],
      "text/plain": [
       "             Factor 0  Factor 1  Factor 2  Factor 3  Factor 4  Factor 5  \\\n",
       "Action             18        11        12        17        12         7   \n",
       "Adventure          12         4        11         3         5         3   \n",
       "Animation           0         1         1         5         3         2   \n",
       "Children's          5         3         6         5         5         5   \n",
       "Comedy             27        29        31        36        22        32   \n",
       "Crime               7         9         5         9         4         3   \n",
       "Documentary         3        10         1         3         1         6   \n",
       "Drama              39        42        45        43        49        50   \n",
       "Fantasy             0         1         1         0         1         1   \n",
       "Film-Noir           1         0         0         3         2         1   \n",
       "Horror              4         5         6         4         4         7   \n",
       "Musical             2         2         1         9         2         1   \n",
       "Mystery             5         1         3         4         4         1   \n",
       "Romance            13        11        23        12        12        14   \n",
       "Sci-Fi             10         5         8         4         4         1   \n",
       "Thriller           18        14        18        15        15         7   \n",
       "War                 8         5         2         4         2         5   \n",
       "Western             6         2         0         0         4         1   \n",
       "\n",
       "             Factor 6  Factor 7  Factor 8  Factor 9  \n",
       "Action              4         5        20        15  \n",
       "Adventure           6         2        13        11  \n",
       "Animation           5         0         0         3  \n",
       "Children's          2         2         8        20  \n",
       "Comedy             33        28        24        38  \n",
       "Crime               6         4         9         3  \n",
       "Documentary         4         3         2         3  \n",
       "Drama              55        60        45        30  \n",
       "Fantasy             0         0         1         2  \n",
       "Film-Noir           0         1         0         1  \n",
       "Horror              6         1         6         7  \n",
       "Musical             3         5         2         7  \n",
       "Mystery             3         4         4         4  \n",
       "Romance            15        18         7        15  \n",
       "Sci-Fi              6         1         8         3  \n",
       "Thriller            6         8        15        19  \n",
       "War                 2         2         2         0  \n",
       "Western             1         2         2         1  "
      ]
     },
     "execution_count": 49,
     "metadata": {},
     "output_type": "execute_result"
    }
   ],
   "source": [
    "item_idx2id = list(nmf.train_set.item_ids)\n",
    "top_genres = {}\n",
    "for k in range(K):\n",
    "  top_inds = np.argsort(nmf.i_factors[:, k])[-100:]\n",
    "  top_items = item_df.loc[[int(item_idx2id[i]) for i in top_inds]]\n",
    "  top_genres[f\"Factor {k}\"] = top_items.drop(columns=[\"Title\", \"Release Date\"]).sum(axis=0)\n",
    "pd.DataFrame(top_genres)"
   ]
  },
  {
   "cell_type": "markdown",
   "id": "da9107b8",
   "metadata": {},
   "source": [
    "## 4.Implicit Feedback"
   ]
  },
  {
   "cell_type": "markdown",
   "id": "60258244",
   "metadata": {},
   "source": [
    "1. Setup"
   ]
  },
  {
   "cell_type": "code",
   "execution_count": 53,
   "id": "b479c65c",
   "metadata": {},
   "outputs": [
    {
     "ename": "SyntaxError",
     "evalue": "future feature annotations is not defined (__init__.py, line 1)",
     "output_type": "error",
     "traceback": [
      "Traceback \u001b[1;36m(most recent call last)\u001b[0m:\n",
      "  File \u001b[0;32m\"c:\\users\\abir°s elitebook\\appdata\\local\\programs\\python\\python36\\lib\\site-packages\\IPython\\core\\interactiveshell.py\"\u001b[0m, line \u001b[0;32m3343\u001b[0m, in \u001b[0;35mrun_code\u001b[0m\n    exec(code_obj, self.user_global_ns, self.user_ns)\n",
      "\u001b[1;36m  File \u001b[1;32m\"<ipython-input-53-8df027d28723>\"\u001b[1;36m, line \u001b[1;32m9\u001b[1;36m, in \u001b[1;35m<module>\u001b[1;36m\u001b[0m\n\u001b[1;33m    from adjustText import adjust_text\u001b[0m\n",
      "\u001b[1;36m  File \u001b[1;32m\"c:\\users\\abir°s elitebook\\appdata\\local\\programs\\python\\python36\\lib\\site-packages\\adjustText\\__init__.py\"\u001b[1;36m, line \u001b[1;32m1\u001b[0m\n\u001b[1;33m    from __future__ import division, annotations\u001b[0m\n\u001b[1;37m                                                ^\u001b[0m\n\u001b[1;31mSyntaxError\u001b[0m\u001b[1;31m:\u001b[0m future feature annotations is not defined\n"
     ]
    }
   ],
   "source": [
    "import os\n",
    "import sys\n",
    "from collections import defaultdict\n",
    "\n",
    "import numpy as np\n",
    "import pandas as pd\n",
    "import seaborn as sns\n",
    "import matplotlib.pyplot as plt\n",
    "from adjustText import adjust_text\n",
    "%matplotlib inline\n",
    "\n",
    "import cornac\n",
    "from cornac.utils import cache\n",
    "from cornac.datasets import movielens\n",
    "from cornac.eval_methods import RatioSplit\n",
    "from cornac.models import MF, BPR, WMF\n",
    "\n",
    "import tensorflow as tf\n",
    "\n",
    "print(f\"System version: {sys.version}\")\n",
    "print(f\"Cornac version: {cornac.__version__}\")\n",
    "print(f\"Tensorflow version: {tf.__version__}\")\n",
    "\n",
    "SEED = 42\n",
    "VERBOSE = False"
   ]
  },
  {
   "cell_type": "markdown",
   "id": "a687658c",
   "metadata": {},
   "source": [
    "2. Weighted Matrix Factorization (WMF)"
   ]
  },
  {
   "cell_type": "code",
   "execution_count": 52,
   "id": "a46e6e73",
   "metadata": {},
   "outputs": [
    {
     "name": "stderr",
     "output_type": "stream",
     "text": [
      "C:\\Users\\ABIR°S ELITEBOOK\\AppData\\Roaming\\Python\\Python36\\site-packages\\requests\\__init__.py:104: RequestsDependencyWarning: urllib3 (1.26.18) or chardet (5.0.0)/charset_normalizer (2.0.12) doesn't match a supported version!\n",
      "  RequestsDependencyWarning)\n"
     ]
    },
    {
     "name": "stdout",
     "output_type": "stream",
     "text": [
      "\n",
      "TEST:\n",
      "...\n",
      "          |   RMSE |    AUC |  F1@10 |    MAP |    MRR | NDCG@10 | NDCG@20 | NDCG@30 | Precision@10 | Recall@10 | Train (s) | Test (s)\n",
      "--------- + ------ + ------ + ------ + ------ + ------ + ------- + ------- + ------- + ------------ + --------- + --------- + --------\n",
      "WMF(K=50) | 1.1012 | 0.8980 | 0.0734 | 0.0956 | 0.2387 |  0.1068 |  0.1293 |  0.1506 |       0.0968 |    0.0800 |   15.7288 |   3.0481\n",
      "MF(K=50)  | 0.8909 | 0.6573 | 0.0290 | 0.0402 | 0.1453 |  0.0539 |  0.0565 |  0.0626 |       0.0524 |    0.0241 |    0.3863 |   5.2099\n",
      "\n"
     ]
    }
   ],
   "source": [
    "from cornac.models import WMF\n",
    "\n",
    "K = 50\n",
    "wmf = WMF(k=K, max_iter=100, a=1.0, b=0.01, learning_rate=0.001, lambda_u=0.01, lambda_v=0.01,\n",
    "          verbose=VERBOSE, seed=SEED, name=f\"WMF(K={K})\")\n",
    "mf = MF(k=K, max_iter=20, learning_rate=0.01, lambda_reg=0.01, \n",
    "        verbose=VERBOSE, seed=SEED, name=f\"MF(K={K})\")\n",
    "\n",
    "eval_metrics = [\n",
    "  cornac.metrics.RMSE(), \n",
    "  cornac.metrics.AUC(),\n",
    "  cornac.metrics.Precision(k=10),\n",
    "  cornac.metrics.Recall(k=10),\n",
    "  cornac.metrics.FMeasure(k=10),\n",
    "  cornac.metrics.NDCG(k=[10, 20, 30]),\n",
    "  cornac.metrics.MRR(),\n",
    "  cornac.metrics.MAP()\n",
    "]\n",
    "\n",
    "data = movielens.load_feedback(variant=\"100K\")\n",
    "rs = RatioSplit(data, test_size=0.2, seed=SEED, verbose=VERBOSE)\n",
    "\n",
    "cornac.Experiment(eval_method=rs, models=[wmf, mf], metrics=eval_metrics).run()"
   ]
  },
  {
   "cell_type": "markdown",
   "id": "ac433158",
   "metadata": {},
   "source": [
    "3. Bayesian Personalized Ranking (BPR)"
   ]
  },
  {
   "cell_type": "code",
   "execution_count": 55,
   "id": "3177a558",
   "metadata": {},
   "outputs": [
    {
     "name": "stdout",
     "output_type": "stream",
     "text": [
      "\n",
      "TEST:\n",
      "...\n",
      "          |   RMSE |    AUC |  F1@10 |    MAP |    MRR | NDCG@10 | NDCG@20 | NDCG@30 | Precision@10 | Recall@10 | Train (s) | Test (s)\n",
      "--------- + ------ + ------ + ------ + ------ + ------ + ------- + ------- + ------- + ------------ + --------- + --------- + --------\n",
      "BPR(K=50) | 1.5631 | 0.9356 | 0.0859 | 0.1146 | 0.2337 |  0.1096 |  0.1393 |  0.1662 |       0.0938 |    0.1000 |    5.6479 |   4.1345\n",
      "WMF(K=50) | 1.1012 | 0.8980 | 0.0734 | 0.0956 | 0.2387 |  0.1068 |  0.1293 |  0.1506 |       0.0968 |    0.0800 |    7.0029 |   2.4751\n",
      "\n"
     ]
    }
   ],
   "source": [
    "from cornac.models import BPR\n",
    "K = 50\n",
    "bpr = BPR(k=K, max_iter=200, learning_rate=0.01, lambda_reg=0.001, \n",
    "          verbose=VERBOSE, seed=SEED, name=f\"BPR(K={K})\")\n",
    "wmf = WMF(k=K, max_iter=100, a=1.0, b=0.01, learning_rate=0.001, lambda_u=0.01, lambda_v=0.01,\n",
    "          verbose=VERBOSE, seed=SEED, name=f\"WMF(K={K})\")\n",
    "\n",
    "rs = RatioSplit(data, test_size=0.2, seed=SEED, verbose=VERBOSE)\n",
    "cornac.Experiment(eval_method=rs, models=[bpr, wmf], metrics=eval_metrics).run()"
   ]
  },
  {
   "cell_type": "markdown",
   "id": "7b10f7a2",
   "metadata": {},
   "source": [
    "4. Interpreting Latent Factors"
   ]
  },
  {
   "cell_type": "code",
   "execution_count": 56,
   "id": "0c95a9f4",
   "metadata": {},
   "outputs": [],
   "source": [
    "# Download some information of MovieLens 100K dataset\n",
    "item_df = pd.read_csv(\n",
    "  cache(\"http://files.grouplens.org/datasets/movielens/ml-100k/u.item\"), \n",
    "  sep=\"|\", encoding=\"ISO-8859-1\",\n",
    "  names=[\"ItemID\", \"Title\", \"Release Date\", \"Video Release Date\", \"IMDb URL\", \n",
    "         \"unknown\", \"Action\", \"Adventure\", \"Animation\", \"Children's\", \"Comedy\", \n",
    "         \"Crime\", \"Documentary\", \"Drama\", \"Fantasy\", \"Film-Noir\", \"Horror\", \n",
    "         \"Musical\", \"Mystery\", \"Romance\", \"Sci-Fi\", \"Thriller\", \"War\", \"Western\"]\n",
    ").set_index(\"ItemID\").drop(columns=[\"Video Release Date\", \"IMDb URL\", \"unknown\"])"
   ]
  },
  {
   "cell_type": "markdown",
   "id": "3ce69745",
   "metadata": {},
   "source": [
    "5. WMF Latent Factors"
   ]
  },
  {
   "cell_type": "code",
   "execution_count": 57,
   "id": "61aa2bde",
   "metadata": {},
   "outputs": [
    {
     "data": {
      "image/png": "[encoded data removed]",
      "text/plain": [
       "<Figure size 936x360 with 1 Axes>"
      ]
     },
     "metadata": {
      "needs_background": "light"
     },
     "output_type": "display_data"
    }
   ],
   "source": [
    "var_df = pd.DataFrame({\"Factor\": np.arange(K), \"Variance\": np.var(wmf.V, axis=0)})\n",
    "fig, ax = plt.subplots(figsize=(13, 5))\n",
    "sns.barplot(x=\"Factor\", y=\"Variance\", data=var_df, palette=\"ch:.25\", ax=ax);"
   ]
  },
  {
   "cell_type": "code",
   "execution_count": 58,
   "id": "0877bc09",
   "metadata": {},
   "outputs": [
    {
     "ename": "NameError",
     "evalue": "name 'adjust_text' is not defined",
     "output_type": "error",
     "traceback": [
      "\u001b[1;31m---------------------------------------------------------------------------\u001b[0m",
      "\u001b[1;31mNameError\u001b[0m                                 Traceback (most recent call last)",
      "\u001b[1;32m<ipython-input-58-b4e4cdecc48e>\u001b[0m in \u001b[0;36m<module>\u001b[1;34m\u001b[0m\n\u001b[0;32m      9\u001b[0m \u001b[0mitem_idx2id\u001b[0m \u001b[1;33m=\u001b[0m \u001b[0mlist\u001b[0m\u001b[1;33m(\u001b[0m\u001b[0mwmf\u001b[0m\u001b[1;33m.\u001b[0m\u001b[0mtrain_set\u001b[0m\u001b[1;33m.\u001b[0m\u001b[0mitem_ids\u001b[0m\u001b[1;33m)\u001b[0m\u001b[1;33m\u001b[0m\u001b[0m\n\u001b[0;32m     10\u001b[0m \u001b[0mtitles\u001b[0m \u001b[1;33m=\u001b[0m \u001b[0mitem_df\u001b[0m\u001b[1;33m.\u001b[0m\u001b[0mloc\u001b[0m\u001b[1;33m[\u001b[0m\u001b[1;33m[\u001b[0m\u001b[0mint\u001b[0m\u001b[1;33m(\u001b[0m\u001b[0mitem_idx2id\u001b[0m\u001b[1;33m[\u001b[0m\u001b[0mi\u001b[0m\u001b[1;33m]\u001b[0m\u001b[1;33m)\u001b[0m \u001b[1;32mfor\u001b[0m \u001b[0mi\u001b[0m \u001b[1;32min\u001b[0m \u001b[0msample_inds\u001b[0m\u001b[1;33m]\u001b[0m\u001b[1;33m]\u001b[0m\u001b[1;33m[\u001b[0m\u001b[1;34m\"Title\"\u001b[0m\u001b[1;33m]\u001b[0m\u001b[1;33m.\u001b[0m\u001b[0mvalues\u001b[0m\u001b[1;33m\u001b[0m\u001b[0m\n\u001b[1;32m---> 11\u001b[1;33m adjust_text(\n\u001b[0m\u001b[0;32m     12\u001b[0m   \u001b[1;33m[\u001b[0m\u001b[0mplt\u001b[0m\u001b[1;33m.\u001b[0m\u001b[0mtext\u001b[0m\u001b[1;33m(\u001b[0m\u001b[1;33m*\u001b[0m\u001b[0msample_df\u001b[0m\u001b[1;33m.\u001b[0m\u001b[0mloc\u001b[0m\u001b[1;33m[\u001b[0m\u001b[0mi\u001b[0m\u001b[1;33m]\u001b[0m\u001b[1;33m.\u001b[0m\u001b[0mvalues\u001b[0m\u001b[1;33m,\u001b[0m \u001b[0mtitles\u001b[0m\u001b[1;33m[\u001b[0m\u001b[0mi\u001b[0m\u001b[1;33m]\u001b[0m\u001b[1;33m,\u001b[0m \u001b[0msize\u001b[0m\u001b[1;33m=\u001b[0m\u001b[1;36m10\u001b[0m\u001b[1;33m)\u001b[0m \u001b[1;32mfor\u001b[0m \u001b[0mi\u001b[0m \u001b[1;32min\u001b[0m \u001b[0mrange\u001b[0m\u001b[1;33m(\u001b[0m\u001b[0mlen\u001b[0m\u001b[1;33m(\u001b[0m\u001b[0mtitles\u001b[0m\u001b[1;33m)\u001b[0m\u001b[1;33m)\u001b[0m\u001b[1;33m]\u001b[0m\u001b[1;33m\u001b[0m\u001b[0m\n\u001b[0;32m     13\u001b[0m );\n",
      "\u001b[1;31mNameError\u001b[0m: name 'adjust_text' is not defined"
     ]
    },
    {
     "data": {
      "image/png": "[encoded data removed]",
      "text/plain": [
       "<Figure size 792x792 with 1 Axes>"
      ]
     },
     "metadata": {
      "needs_background": "light"
     },
     "output_type": "display_data"
    }
   ],
   "source": [
    "TOP2F = (0, 18)\n",
    "SAMPLE_SIZE = 20\n",
    "\n",
    "rng = np.random.RandomState(SEED)\n",
    "sample_inds = rng.choice(np.arange(wmf.V.shape[0]), size=SAMPLE_SIZE, replace=False)\n",
    "sample_df = pd.DataFrame(data=wmf.V[sample_inds][:, TOP2F], columns=[\"x\", \"y\"])\n",
    "\n",
    "sns.lmplot(x=\"x\", y=\"y\", data=sample_df, height=11.0, fit_reg=False)\n",
    "item_idx2id = list(wmf.train_set.item_ids)\n",
    "titles = item_df.loc[[int(item_idx2id[i]) for i in sample_inds]][\"Title\"].values\n",
    "adjust_text(\n",
    "  [plt.text(*sample_df.loc[i].values, titles[i], size=10) for i in range(len(titles))]\n",
    ");"
   ]
  },
  {
   "cell_type": "markdown",
   "id": "1ad71004",
   "metadata": {},
   "source": [
    "6. Interpreting Recommendations of WMF"
   ]
  },
  {
   "cell_type": "code",
   "execution_count": 59,
   "id": "b603430a",
   "metadata": {},
   "outputs": [
    {
     "name": "stdout",
     "output_type": "stream",
     "text": [
      "\n",
      "TOP 5 RECOMMENDATIONS:\n",
      "Scores: [4.51356   4.466048  4.317132  4.2535977 4.2024813]\n"
     ]
    },
    {
     "data": {
      "text/html": [
       "<div>\n",
       "<style scoped>\n",
       "    .dataframe tbody tr th:only-of-type {\n",
       "        vertical-align: middle;\n",
       "    }\n",
       "\n",
       "    .dataframe tbody tr th {\n",
       "        vertical-align: top;\n",
       "    }\n",
       "\n",
       "    .dataframe thead th {\n",
       "        text-align: right;\n",
       "    }\n",
       "</style>\n",
       "<table border=\"1\" class=\"dataframe\">\n",
       "  <thead>\n",
       "    <tr style=\"text-align: right;\">\n",
       "      <th></th>\n",
       "      <th>Title</th>\n",
       "      <th>Release Date</th>\n",
       "      <th>Action</th>\n",
       "      <th>Adventure</th>\n",
       "      <th>Animation</th>\n",
       "      <th>Children's</th>\n",
       "      <th>Comedy</th>\n",
       "      <th>Crime</th>\n",
       "      <th>Documentary</th>\n",
       "      <th>Drama</th>\n",
       "      <th>Fantasy</th>\n",
       "      <th>Film-Noir</th>\n",
       "      <th>Horror</th>\n",
       "      <th>Musical</th>\n",
       "      <th>Mystery</th>\n",
       "      <th>Romance</th>\n",
       "      <th>Sci-Fi</th>\n",
       "      <th>Thriller</th>\n",
       "      <th>War</th>\n",
       "      <th>Western</th>\n",
       "    </tr>\n",
       "    <tr>\n",
       "      <th>ItemID</th>\n",
       "      <th></th>\n",
       "      <th></th>\n",
       "      <th></th>\n",
       "      <th></th>\n",
       "      <th></th>\n",
       "      <th></th>\n",
       "      <th></th>\n",
       "      <th></th>\n",
       "      <th></th>\n",
       "      <th></th>\n",
       "      <th></th>\n",
       "      <th></th>\n",
       "      <th></th>\n",
       "      <th></th>\n",
       "      <th></th>\n",
       "      <th></th>\n",
       "      <th></th>\n",
       "      <th></th>\n",
       "      <th></th>\n",
       "      <th></th>\n",
       "    </tr>\n",
       "  </thead>\n",
       "  <tbody>\n",
       "    <tr>\n",
       "      <th>318</th>\n",
       "      <td>Schindler's List (1993)</td>\n",
       "      <td>01-Jan-1993</td>\n",
       "      <td>0</td>\n",
       "      <td>0</td>\n",
       "      <td>0</td>\n",
       "      <td>0</td>\n",
       "      <td>0</td>\n",
       "      <td>0</td>\n",
       "      <td>0</td>\n",
       "      <td>1</td>\n",
       "      <td>0</td>\n",
       "      <td>0</td>\n",
       "      <td>0</td>\n",
       "      <td>0</td>\n",
       "      <td>0</td>\n",
       "      <td>0</td>\n",
       "      <td>0</td>\n",
       "      <td>0</td>\n",
       "      <td>1</td>\n",
       "      <td>0</td>\n",
       "    </tr>\n",
       "    <tr>\n",
       "      <th>50</th>\n",
       "      <td>Star Wars (1977)</td>\n",
       "      <td>01-Jan-1977</td>\n",
       "      <td>1</td>\n",
       "      <td>1</td>\n",
       "      <td>0</td>\n",
       "      <td>0</td>\n",
       "      <td>0</td>\n",
       "      <td>0</td>\n",
       "      <td>0</td>\n",
       "      <td>0</td>\n",
       "      <td>0</td>\n",
       "      <td>0</td>\n",
       "      <td>0</td>\n",
       "      <td>0</td>\n",
       "      <td>0</td>\n",
       "      <td>1</td>\n",
       "      <td>1</td>\n",
       "      <td>0</td>\n",
       "      <td>1</td>\n",
       "      <td>0</td>\n",
       "    </tr>\n",
       "    <tr>\n",
       "      <th>496</th>\n",
       "      <td>It's a Wonderful Life (1946)</td>\n",
       "      <td>01-Jan-1946</td>\n",
       "      <td>0</td>\n",
       "      <td>0</td>\n",
       "      <td>0</td>\n",
       "      <td>0</td>\n",
       "      <td>0</td>\n",
       "      <td>0</td>\n",
       "      <td>0</td>\n",
       "      <td>1</td>\n",
       "      <td>0</td>\n",
       "      <td>0</td>\n",
       "      <td>0</td>\n",
       "      <td>0</td>\n",
       "      <td>0</td>\n",
       "      <td>0</td>\n",
       "      <td>0</td>\n",
       "      <td>0</td>\n",
       "      <td>0</td>\n",
       "      <td>0</td>\n",
       "    </tr>\n",
       "    <tr>\n",
       "      <th>64</th>\n",
       "      <td>Shawshank Redemption, The (1994)</td>\n",
       "      <td>01-Jan-1994</td>\n",
       "      <td>0</td>\n",
       "      <td>0</td>\n",
       "      <td>0</td>\n",
       "      <td>0</td>\n",
       "      <td>0</td>\n",
       "      <td>0</td>\n",
       "      <td>0</td>\n",
       "      <td>1</td>\n",
       "      <td>0</td>\n",
       "      <td>0</td>\n",
       "      <td>0</td>\n",
       "      <td>0</td>\n",
       "      <td>0</td>\n",
       "      <td>0</td>\n",
       "      <td>0</td>\n",
       "      <td>0</td>\n",
       "      <td>0</td>\n",
       "      <td>0</td>\n",
       "    </tr>\n",
       "    <tr>\n",
       "      <th>169</th>\n",
       "      <td>Wrong Trousers, The (1993)</td>\n",
       "      <td>01-Jan-1993</td>\n",
       "      <td>0</td>\n",
       "      <td>0</td>\n",
       "      <td>1</td>\n",
       "      <td>0</td>\n",
       "      <td>1</td>\n",
       "      <td>0</td>\n",
       "      <td>0</td>\n",
       "      <td>0</td>\n",
       "      <td>0</td>\n",
       "      <td>0</td>\n",
       "      <td>0</td>\n",
       "      <td>0</td>\n",
       "      <td>0</td>\n",
       "      <td>0</td>\n",
       "      <td>0</td>\n",
       "      <td>0</td>\n",
       "      <td>0</td>\n",
       "      <td>0</td>\n",
       "    </tr>\n",
       "  </tbody>\n",
       "</table>\n",
       "</div>"
      ],
      "text/plain": [
       "                                   Title Release Date  Action  Adventure  \\\n",
       "ItemID                                                                     \n",
       "318              Schindler's List (1993)  01-Jan-1993       0          0   \n",
       "50                      Star Wars (1977)  01-Jan-1977       1          1   \n",
       "496         It's a Wonderful Life (1946)  01-Jan-1946       0          0   \n",
       "64      Shawshank Redemption, The (1994)  01-Jan-1994       0          0   \n",
       "169           Wrong Trousers, The (1993)  01-Jan-1993       0          0   \n",
       "\n",
       "        Animation  Children's  Comedy  Crime  Documentary  Drama  Fantasy  \\\n",
       "ItemID                                                                      \n",
       "318             0           0       0      0            0      1        0   \n",
       "50              0           0       0      0            0      0        0   \n",
       "496             0           0       0      0            0      1        0   \n",
       "64              0           0       0      0            0      1        0   \n",
       "169             1           0       1      0            0      0        0   \n",
       "\n",
       "        Film-Noir  Horror  Musical  Mystery  Romance  Sci-Fi  Thriller  War  \\\n",
       "ItemID                                                                        \n",
       "318             0       0        0        0        0       0         0    1   \n",
       "50              0       0        0        0        1       1         0    1   \n",
       "496             0       0        0        0        0       0         0    0   \n",
       "64              0       0        0        0        0       0         0    0   \n",
       "169             0       0        0        0        0       0         0    0   \n",
       "\n",
       "        Western  \n",
       "ItemID           \n",
       "318           0  \n",
       "50            0  \n",
       "496           0  \n",
       "64            0  \n",
       "169           0  "
      ]
     },
     "execution_count": 59,
     "metadata": {},
     "output_type": "execute_result"
    }
   ],
   "source": [
    "UIDX = 0\n",
    "TOPK = 5\n",
    "\n",
    "item_id2idx = wmf.train_set.iid_map\n",
    "item_idx2id = list(wmf.train_set.item_ids)\n",
    "\n",
    "recommendations, scores = wmf.rank(UIDX)\n",
    "print(f\"\\nTOP {TOPK} RECOMMENDATIONS:\")\n",
    "print(\"Scores:\", scores[recommendations[:TOPK]])\n",
    "item_df.loc[[int(item_idx2id[i]) for i in recommendations[:TOPK]]]"
   ]
  },
  {
   "cell_type": "code",
   "execution_count": 60,
   "id": "09cbbe4a",
   "metadata": {},
   "outputs": [
    {
     "name": "stdout",
     "output_type": "stream",
     "text": [
      "Recommended movie: Star Wars (1977)\n",
      "\n",
      "Top contributors:\n"
     ]
    },
    {
     "data": {
      "text/html": [
       "<div>\n",
       "<style scoped>\n",
       "    .dataframe tbody tr th:only-of-type {\n",
       "        vertical-align: middle;\n",
       "    }\n",
       "\n",
       "    .dataframe tbody tr th {\n",
       "        vertical-align: top;\n",
       "    }\n",
       "\n",
       "    .dataframe thead th {\n",
       "        text-align: right;\n",
       "    }\n",
       "</style>\n",
       "<table border=\"1\" class=\"dataframe\">\n",
       "  <thead>\n",
       "    <tr style=\"text-align: right;\">\n",
       "      <th></th>\n",
       "      <th>ItemID</th>\n",
       "      <th>Title</th>\n",
       "      <th>Similarity</th>\n",
       "      <th>Confidence</th>\n",
       "      <th>Adoption</th>\n",
       "      <th>Contribution</th>\n",
       "    </tr>\n",
       "  </thead>\n",
       "  <tbody>\n",
       "    <tr>\n",
       "      <th>0</th>\n",
       "      <td>258</td>\n",
       "      <td>Contact (1997)</td>\n",
       "      <td>0.241277</td>\n",
       "      <td>1.0</td>\n",
       "      <td>4.0</td>\n",
       "      <td>0.965108</td>\n",
       "    </tr>\n",
       "    <tr>\n",
       "      <th>1</th>\n",
       "      <td>237</td>\n",
       "      <td>Jerry Maguire (1996)</td>\n",
       "      <td>0.231647</td>\n",
       "      <td>1.0</td>\n",
       "      <td>4.0</td>\n",
       "      <td>0.926588</td>\n",
       "    </tr>\n",
       "    <tr>\n",
       "      <th>2</th>\n",
       "      <td>971</td>\n",
       "      <td>Mediterraneo (1991)</td>\n",
       "      <td>0.205749</td>\n",
       "      <td>1.0</td>\n",
       "      <td>4.0</td>\n",
       "      <td>0.822996</td>\n",
       "    </tr>\n",
       "    <tr>\n",
       "      <th>3</th>\n",
       "      <td>56</td>\n",
       "      <td>Pulp Fiction (1994)</td>\n",
       "      <td>0.140435</td>\n",
       "      <td>1.0</td>\n",
       "      <td>5.0</td>\n",
       "      <td>0.702177</td>\n",
       "    </tr>\n",
       "    <tr>\n",
       "      <th>4</th>\n",
       "      <td>690</td>\n",
       "      <td>Seven Years in Tibet (1997)</td>\n",
       "      <td>0.115898</td>\n",
       "      <td>1.0</td>\n",
       "      <td>4.0</td>\n",
       "      <td>0.463594</td>\n",
       "    </tr>\n",
       "  </tbody>\n",
       "</table>\n",
       "</div>"
      ],
      "text/plain": [
       "   ItemID                        Title  Similarity  Confidence  Adoption  \\\n",
       "0     258               Contact (1997)    0.241277         1.0       4.0   \n",
       "1     237         Jerry Maguire (1996)    0.231647         1.0       4.0   \n",
       "2     971          Mediterraneo (1991)    0.205749         1.0       4.0   \n",
       "3      56          Pulp Fiction (1994)    0.140435         1.0       5.0   \n",
       "4     690  Seven Years in Tibet (1997)    0.115898         1.0       4.0   \n",
       "\n",
       "   Contribution  \n",
       "0      0.965108  \n",
       "1      0.926588  \n",
       "2      0.822996  \n",
       "3      0.702177  \n",
       "4      0.463594  "
      ]
     },
     "execution_count": 60,
     "metadata": {},
     "output_type": "execute_result"
    }
   ],
   "source": [
    "REC_ID = 50\n",
    "print(\"Recommended movie:\", item_df.loc[REC_ID].Title)\n",
    "rec_idx = item_id2idx[str(REC_ID)]\n",
    "\n",
    "U, V, lbd = wmf.U, wmf.V, wmf.lambda_v\n",
    "pi = wmf.train_set.matrix[UIDX].A.ravel()\n",
    "ci = (pi > 0) * (wmf.a - wmf.b) + wmf.b\n",
    "\n",
    "Wu = np.linalg.inv(V.T.dot(np.diag(ci)).dot(V) + lbd * np.eye(wmf.k))\n",
    "sim = V[rec_idx].dot(Wu).dot(V.T)\n",
    "contribution = sim * ci * pi\n",
    "\n",
    "print(\"\\nTop contributors:\")\n",
    "df = defaultdict(list)\n",
    "for idx in np.argsort(contribution)[-TOPK:][::-1]:\n",
    "  df[\"ItemID\"].append(item_df.loc[[int(item_idx2id[idx])]].index.values[0])\n",
    "  df[\"Title\"].append(item_df.loc[[int(item_idx2id[idx])]][\"Title\"].values[0])\n",
    "  df[\"Similarity\"].append(sim[idx])\n",
    "  df[\"Confidence\"].append(ci[idx])\n",
    "  df[\"Adoption\"].append(pi[idx])\n",
    "  df[\"Contribution\"].append(contribution[idx])\n",
    "pd.DataFrame.from_dict(df)"
   ]
  },
  {
   "cell_type": "markdown",
   "id": "a9b9b071",
   "metadata": {},
   "source": [
    "7. BPR Latent Factors"
   ]
  },
  {
   "cell_type": "code",
   "execution_count": 61,
   "id": "91c8c5ec",
   "metadata": {},
   "outputs": [
    {
     "data": {
      "image/png": "[encoded data removed]",
      "text/plain": [
       "<Figure size 936x360 with 1 Axes>"
      ]
     },
     "metadata": {
      "needs_background": "light"
     },
     "output_type": "display_data"
    }
   ],
   "source": [
    "var_df = pd.DataFrame({\"Factor\": np.arange(K), \"Variance\": np.var(bpr.i_factors, axis=0)})\n",
    "fig, ax = plt.subplots(figsize=(13, 5))\n",
    "sns.barplot(x=\"Factor\", y=\"Variance\", data=var_df, palette=\"ch:.25\", ax=ax);"
   ]
  },
  {
   "cell_type": "code",
   "execution_count": 62,
   "id": "0d0834ba",
   "metadata": {},
   "outputs": [
    {
     "ename": "NameError",
     "evalue": "name 'adjust_text' is not defined",
     "output_type": "error",
     "traceback": [
      "\u001b[1;31m---------------------------------------------------------------------------\u001b[0m",
      "\u001b[1;31mNameError\u001b[0m                                 Traceback (most recent call last)",
      "\u001b[1;32m<ipython-input-62-3c90311beb44>\u001b[0m in \u001b[0;36m<module>\u001b[1;34m\u001b[0m\n\u001b[0;32m      9\u001b[0m \u001b[0mitem_idx2id\u001b[0m \u001b[1;33m=\u001b[0m \u001b[0mlist\u001b[0m\u001b[1;33m(\u001b[0m\u001b[0mbpr\u001b[0m\u001b[1;33m.\u001b[0m\u001b[0mtrain_set\u001b[0m\u001b[1;33m.\u001b[0m\u001b[0mitem_ids\u001b[0m\u001b[1;33m)\u001b[0m\u001b[1;33m\u001b[0m\u001b[0m\n\u001b[0;32m     10\u001b[0m \u001b[0mtitles\u001b[0m \u001b[1;33m=\u001b[0m \u001b[0mitem_df\u001b[0m\u001b[1;33m.\u001b[0m\u001b[0mloc\u001b[0m\u001b[1;33m[\u001b[0m\u001b[1;33m[\u001b[0m\u001b[0mint\u001b[0m\u001b[1;33m(\u001b[0m\u001b[0mitem_idx2id\u001b[0m\u001b[1;33m[\u001b[0m\u001b[0mi\u001b[0m\u001b[1;33m]\u001b[0m\u001b[1;33m)\u001b[0m \u001b[1;32mfor\u001b[0m \u001b[0mi\u001b[0m \u001b[1;32min\u001b[0m \u001b[0msample_inds\u001b[0m\u001b[1;33m]\u001b[0m\u001b[1;33m]\u001b[0m\u001b[1;33m[\u001b[0m\u001b[1;34m\"Title\"\u001b[0m\u001b[1;33m]\u001b[0m\u001b[1;33m.\u001b[0m\u001b[0mvalues\u001b[0m\u001b[1;33m\u001b[0m\u001b[0m\n\u001b[1;32m---> 11\u001b[1;33m adjust_text(\n\u001b[0m\u001b[0;32m     12\u001b[0m   \u001b[1;33m[\u001b[0m\u001b[0mplt\u001b[0m\u001b[1;33m.\u001b[0m\u001b[0mtext\u001b[0m\u001b[1;33m(\u001b[0m\u001b[1;33m*\u001b[0m\u001b[0msample_df\u001b[0m\u001b[1;33m.\u001b[0m\u001b[0mloc\u001b[0m\u001b[1;33m[\u001b[0m\u001b[0mi\u001b[0m\u001b[1;33m]\u001b[0m\u001b[1;33m.\u001b[0m\u001b[0mvalues\u001b[0m\u001b[1;33m,\u001b[0m \u001b[0mtitles\u001b[0m\u001b[1;33m[\u001b[0m\u001b[0mi\u001b[0m\u001b[1;33m]\u001b[0m\u001b[1;33m,\u001b[0m \u001b[0msize\u001b[0m\u001b[1;33m=\u001b[0m\u001b[1;36m10\u001b[0m\u001b[1;33m)\u001b[0m \u001b[1;32mfor\u001b[0m \u001b[0mi\u001b[0m \u001b[1;32min\u001b[0m \u001b[0mrange\u001b[0m\u001b[1;33m(\u001b[0m\u001b[0mlen\u001b[0m\u001b[1;33m(\u001b[0m\u001b[0mtitles\u001b[0m\u001b[1;33m)\u001b[0m\u001b[1;33m)\u001b[0m\u001b[1;33m]\u001b[0m\u001b[1;33m\u001b[0m\u001b[0m\n\u001b[0;32m     13\u001b[0m );\n",
      "\u001b[1;31mNameError\u001b[0m: name 'adjust_text' is not defined"
     ]
    },
    {
     "data": {
      "image/png": "[encoded data removed]",
      "text/plain": [
       "<Figure size 792x792 with 1 Axes>"
      ]
     },
     "metadata": {
      "needs_background": "light"
     },
     "output_type": "display_data"
    }
   ],
   "source": [
    "TOP2F = (24, 49)\n",
    "SAMPLE_SIZE = 20\n",
    "\n",
    "rng = np.random.RandomState(SEED)\n",
    "sample_inds = rng.choice(np.arange(bpr.i_factors.shape[0]), size=SAMPLE_SIZE, replace=False)\n",
    "sample_df = pd.DataFrame(data=bpr.i_factors[sample_inds][:, TOP2F], columns=[\"x\", \"y\"])\n",
    "\n",
    "sns.lmplot(x=\"x\", y=\"y\", data=sample_df, height=11.0, fit_reg=False)\n",
    "item_idx2id = list(bpr.train_set.item_ids)\n",
    "titles = item_df.loc[[int(item_idx2id[i]) for i in sample_inds]][\"Title\"].values\n",
    "adjust_text(\n",
    "  [plt.text(*sample_df.loc[i].values, titles[i], size=10) for i in range(len(titles))]\n",
    ");"
   ]
  },
  {
   "cell_type": "markdown",
   "id": "1c44f86a",
   "metadata": {},
   "source": [
    "## 5. Multimodality"
   ]
  },
  {
   "cell_type": "markdown",
   "id": "50b67318",
   "metadata": {},
   "source": [
    "1. Setup"
   ]
  },
  {
   "cell_type": "code",
   "execution_count": 63,
   "id": "45bcde5e",
   "metadata": {},
   "outputs": [
    {
     "name": "stdout",
     "output_type": "stream",
     "text": [
      "System version: 3.6.4 (v3.6.4:d48eceb, Dec 19 2017, 06:54:40) [MSC v.1900 64 bit (AMD64)]\n",
      "Cornac version: 1.15.4\n",
      "Tensorflow version: 2.6.2\n"
     ]
    }
   ],
   "source": [
    "import os\n",
    "import sys\n",
    "from collections import defaultdict\n",
    "\n",
    "import numpy as np\n",
    "import pandas as pd; pd.set_option(\"max_colwidth\", 0);\n",
    "%matplotlib inline\n",
    "import matplotlib.pyplot as plt\n",
    "import seaborn as sns\n",
    "\n",
    "import cornac\n",
    "from cornac.utils import cache\n",
    "from cornac.datasets import filmtrust, amazon_clothing\n",
    "from cornac.eval_methods import RatioSplit\n",
    "from cornac.models import PMF, SoRec, WMF, CTR, BPR, VBPR\n",
    "from cornac.data import GraphModality, TextModality, ImageModality\n",
    "from cornac.data.text import BaseTokenizer\n",
    "\n",
    "import tensorflow as tf\n",
    "\n",
    "print(f\"System version: {sys.version}\")\n",
    "print(f\"Cornac version: {cornac.__version__}\")\n",
    "print(f\"Tensorflow version: {tf.__version__}\")\n",
    "\n",
    "SEED = 42\n",
    "VERBOSE = False"
   ]
  },
  {
   "cell_type": "markdown",
   "id": "98ba03ee",
   "metadata": {},
   "source": [
    "2. Graph Modality"
   ]
  },
  {
   "cell_type": "markdown",
   "id": "c3548e9f",
   "metadata": {},
   "source": [
    "Social Recommendation (SoRec)"
   ]
  },
  {
   "cell_type": "code",
   "execution_count": 64,
   "id": "a3a3bf04",
   "metadata": {},
   "outputs": [
    {
     "name": "stdout",
     "output_type": "stream",
     "text": [
      "Data from https://static.preferred.ai/cornac/datasets/filmtrust/filmtrust.zip\n",
      "will be cached into C:\\Users\\ABIR°S ELITEBOOK\\.cornac\\filmtrust\\ratings.txt\n"
     ]
    },
    {
     "name": "stderr",
     "output_type": "stream",
     "text": [
      "106kB [00:02, 36.0kB/s]                                                                                                \n"
     ]
    },
    {
     "name": "stdout",
     "output_type": "stream",
     "text": [
      "Unzipping ...\n",
      "File cached!\n"
     ]
    },
    {
     "name": "stderr",
     "output_type": "stream",
     "text": [
      "c:\\users\\abir°s elitebook\\appdata\\local\\programs\\python\\python36\\lib\\site-packages\\cornac\\data\\dataset.py:361: UserWarning: 3 duplicated observations are removed!\n",
      "  warnings.warn(\"%d duplicated observations are removed!\" % dup_count)\n"
     ]
    },
    {
     "name": "stdout",
     "output_type": "stream",
     "text": [
      "\n",
      "TEST:\n",
      "...\n",
      "      |    MAE | Train (s) | Test (s)\n",
      "----- + ------ + --------- + --------\n",
      "SoRec | 0.6644 |    2.0182 |   0.2559\n",
      "PMF   | 0.7018 |    1.9026 |   0.3285\n",
      "\n"
     ]
    }
   ],
   "source": [
    "K = 20\n",
    "sorec = SoRec(k=K, max_iter=50, learning_rate=0.001, verbose=VERBOSE, seed=SEED)\n",
    "pmf = PMF(k=K, max_iter=50, learning_rate=0.001, lambda_reg=0.01, verbose=VERBOSE, seed=SEED)\n",
    "\n",
    "ratings = filmtrust.load_feedback()\n",
    "trust = filmtrust.load_trust()\n",
    "\n",
    "user_graph_modality = GraphModality(data=trust)\n",
    "\n",
    "ratio_split = RatioSplit(\n",
    "    data=ratings,\n",
    "    test_size=0.2,\n",
    "    rating_threshold=2.5,\n",
    "    exclude_unknowns=True,\n",
    "    user_graph=user_graph_modality,\n",
    "    verbose=VERBOSE,\n",
    "    seed=SEED,\n",
    ")\n",
    "\n",
    "mae = cornac.metrics.MAE()\n",
    "\n",
    "cornac.Experiment(eval_method=ratio_split, models=[sorec, pmf], metrics=[mae]).run()"
   ]
  },
  {
   "cell_type": "markdown",
   "id": "01cde2b0",
   "metadata": {},
   "source": [
    "3. Interpreting Recommendation"
   ]
  },
  {
   "cell_type": "code",
   "execution_count": 65,
   "id": "36b1a4fa",
   "metadata": {},
   "outputs": [
    {
     "data": {
      "image/png": "[encoded data removed]",
      "text/plain": [
       "<Figure size 936x360 with 1 Axes>"
      ]
     },
     "metadata": {
      "needs_background": "light"
     },
     "output_type": "display_data"
    }
   ],
   "source": [
    "var_df = pd.DataFrame({\"Factor\": np.arange(K), \"Variance\": np.var(sorec.U, axis=0)})\n",
    "fig, ax = plt.subplots(figsize=(13, 5))\n",
    "sns.barplot(x=\"Factor\", y=\"Variance\", data=var_df, palette=\"ch:.25\", ax=ax);"
   ]
  },
  {
   "cell_type": "code",
   "execution_count": 66,
   "id": "beec650f",
   "metadata": {},
   "outputs": [
    {
     "data": {
      "image/png": "[encoded data removed]",
      "text/plain": [
       "<Figure size 792x792 with 1 Axes>"
      ]
     },
     "metadata": {
      "needs_background": "light"
     },
     "output_type": "display_data"
    }
   ],
   "source": [
    "TOP2F = (9, 19)\n",
    "SAMPLE_SIZE = 200\n",
    "\n",
    "rng = np.random.RandomState(SEED)\n",
    "sample_inds = rng.choice(np.arange(sorec.U.shape[0]), size=SAMPLE_SIZE, replace=False)\n",
    "sample_df = pd.DataFrame(data=sorec.U[sample_inds][:, TOP2F], columns=[\"x\", \"y\"])\n",
    "g = sns.lmplot(x=\"x\", y=\"y\", data=sample_df, height=11.0, fit_reg=False)\n",
    "g.ax.set_title(\"Users in latent space with their social connections\", fontsize=16)\n",
    "\n",
    "adj_mat = sorec.train_set.user_graph.matrix\n",
    "for i in range(len(sample_inds)):\n",
    "  for j in range(len(sample_inds)):\n",
    "    if j != i and adj_mat[sample_inds[i], sample_inds[j]]:\n",
    "      sns.lineplot(x=\"x\", y=\"y\", data=sample_df.loc[[i, j]])"
   ]
  },
  {
   "cell_type": "markdown",
   "id": "68dfcfe5",
   "metadata": {},
   "source": [
    "4. Text Modality"
   ]
  },
  {
   "cell_type": "markdown",
   "id": "1a9ecd9c",
   "metadata": {},
   "source": [
    "Collaborative Topic Regression (CTR)"
   ]
  },
  {
   "cell_type": "code",
   "execution_count": 68,
   "id": "20b5d538",
   "metadata": {},
   "outputs": [
    {
     "name": "stdout",
     "output_type": "stream",
     "text": [
      "Data from https://static.preferred.ai/cornac/datasets/amazon_clothing/rating.zip\n",
      "will be cached into C:\\Users\\ABIR°S ELITEBOOK\\.cornac\\amazon_clothing/rating.txt\n"
     ]
    },
    {
     "name": "stderr",
     "output_type": "stream",
     "text": [
      "164kB [00:01, 112kB/s]                                                                                                 \n"
     ]
    },
    {
     "name": "stdout",
     "output_type": "stream",
     "text": [
      "Unzipping ...\n",
      "File cached!\n",
      "Data from https://static.preferred.ai/cornac/datasets/amazon_clothing/text.zip\n",
      "will be cached into C:\\Users\\ABIR°S ELITEBOOK\\.cornac\\amazon_clothing/text.txt\n"
     ]
    },
    {
     "name": "stderr",
     "output_type": "stream",
     "text": [
      "475kB [00:02, 177kB/s]                                                                                                 \n"
     ]
    },
    {
     "name": "stdout",
     "output_type": "stream",
     "text": [
      "Unzipping ...\n",
      "File cached!\n",
      "\n",
      "TEST:\n",
      "...\n",
      "    | Recall@50 | Train (s) | Test (s)\n",
      "--- + --------- + --------- + --------\n",
      "CTR |    0.2239 |  232.8522 |   2.0341\n",
      "WMF |    0.1582 |   30.1848 |   1.4923\n",
      "\n"
     ]
    }
   ],
   "source": [
    "K = 20\n",
    "ctr = CTR(k=K, max_iter=50, a=1.0, b=0.01, lambda_u=0.01, lambda_v=0.01, verbose=VERBOSE, seed=SEED)\n",
    "wmf = WMF(k=K, max_iter=50, a=1.0, b=0.01, learning_rate=0.005, lambda_u=0.01, lambda_v=0.01, \n",
    "          verbose=VERBOSE, seed=SEED)\n",
    "\n",
    "ratings = amazon_clothing.load_feedback()\n",
    "docs, item_ids = amazon_clothing.load_text()\n",
    "\n",
    "item_text_modality = TextModality(\n",
    "    corpus=docs,\n",
    "    ids=item_ids,\n",
    "    tokenizer=BaseTokenizer(sep=\" \", stop_words=\"english\"),\n",
    "    max_vocab=8000,\n",
    "    max_doc_freq=0.5,\n",
    ")\n",
    "\n",
    "ratio_split = RatioSplit(\n",
    "    data=ratings,\n",
    "    test_size=0.2,\n",
    "    rating_threshold=4.0,\n",
    "    exclude_unknowns=True,\n",
    "    item_text=item_text_modality,\n",
    "    verbose=VERBOSE,\n",
    "    seed=SEED,\n",
    ")\n",
    "\n",
    "rec_50 = cornac.metrics.Recall(50)\n",
    "\n",
    "cornac.Experiment(eval_method=ratio_split, models=[ctr, wmf], metrics=[rec_50]).run()"
   ]
  },
  {
   "cell_type": "markdown",
   "id": "15d40853",
   "metadata": {},
   "source": [
    "5. Interpreting Recommendation"
   ]
  },
  {
   "cell_type": "code",
   "execution_count": 69,
   "id": "a6f594c8",
   "metadata": {},
   "outputs": [
    {
     "name": "stdout",
     "output_type": "stream",
     "text": [
      "WORD TOPICS:\n"
     ]
    },
    {
     "data": {
      "text/html": [
       "<div>\n",
       "<style scoped>\n",
       "    .dataframe tbody tr th:only-of-type {\n",
       "        vertical-align: middle;\n",
       "    }\n",
       "\n",
       "    .dataframe tbody tr th {\n",
       "        vertical-align: top;\n",
       "    }\n",
       "\n",
       "    .dataframe thead th {\n",
       "        text-align: right;\n",
       "    }\n",
       "</style>\n",
       "<table border=\"1\" class=\"dataframe\">\n",
       "  <thead>\n",
       "    <tr style=\"text-align: right;\">\n",
       "      <th></th>\n",
       "      <th>Topic</th>\n",
       "      <th>Top words</th>\n",
       "    </tr>\n",
       "  </thead>\n",
       "  <tbody>\n",
       "    <tr>\n",
       "      <th>0</th>\n",
       "      <td>1</td>\n",
       "      <td>belt, flatlock, case, size, better, choose, earrings, soft, warm, collar</td>\n",
       "    </tr>\n",
       "    <tr>\n",
       "      <th>1</th>\n",
       "      <td>2</td>\n",
       "      <td>shirt, style, breathable, princess, youre, colors, quality, come, people, socks</td>\n",
       "    </tr>\n",
       "    <tr>\n",
       "      <th>2</th>\n",
       "      <td>3</td>\n",
       "      <td>easy, collection, colors, rubber, water, quickly, stretch, lightweight, design, body</td>\n",
       "    </tr>\n",
       "    <tr>\n",
       "      <th>3</th>\n",
       "      <td>4</td>\n",
       "      <td>activities, handle, helmet, star, way, flat, makes, day, half, tee</td>\n",
       "    </tr>\n",
       "    <tr>\n",
       "      <th>4</th>\n",
       "      <td>5</td>\n",
       "      <td>fit, sweat, mesh, large, pocket, fleece, body, necklace, imported, travel</td>\n",
       "    </tr>\n",
       "    <tr>\n",
       "      <th>5</th>\n",
       "      <td>6</td>\n",
       "      <td>wicks, material, dry, fit, panels, piece, insect, construction, durability, standard</td>\n",
       "    </tr>\n",
       "    <tr>\n",
       "      <th>6</th>\n",
       "      <td>7</td>\n",
       "      <td>support, company, fabric, apparel, fun, sizes, hip, outdoor, fiber, features</td>\n",
       "    </tr>\n",
       "    <tr>\n",
       "      <th>7</th>\n",
       "      <td>8</td>\n",
       "      <td>x, merino, sleeve, fun, items, water, weather, bracelets, comfortable, display</td>\n",
       "    </tr>\n",
       "    <tr>\n",
       "      <th>8</th>\n",
       "      <td>9</td>\n",
       "      <td>great, performance, black, pockets, inches, make, away, design, jewelry, unique</td>\n",
       "    </tr>\n",
       "    <tr>\n",
       "      <th>9</th>\n",
       "      <td>10</td>\n",
       "      <td>fits, sun, store, engineered, pocket, shield, conditions, mobility, hat, maximum</td>\n",
       "    </tr>\n",
       "    <tr>\n",
       "      <th>10</th>\n",
       "      <td>11</td>\n",
       "      <td>costume, products, small, inside, classic, lightweight, comfort, white, ideal, designed</td>\n",
       "    </tr>\n",
       "    <tr>\n",
       "      <th>11</th>\n",
       "      <td>12</td>\n",
       "      <td>bag, elastic, jacket, perfect, favorite, hat, d, box, look, feature</td>\n",
       "    </tr>\n",
       "    <tr>\n",
       "      <th>12</th>\n",
       "      <td>13</td>\n",
       "      <td>s, use, sure, soft, comfort, easy, products, skin, displays, moisture</td>\n",
       "    </tr>\n",
       "    <tr>\n",
       "      <th>13</th>\n",
       "      <td>14</td>\n",
       "      <td>size, comfortable, product, warm, need, ua, accessory, clean, footwear, silver</td>\n",
       "    </tr>\n",
       "    <tr>\n",
       "      <th>14</th>\n",
       "      <td>15</td>\n",
       "      <td>high, storage, height, waistband, wide, way, chest, include, growth, new</td>\n",
       "    </tr>\n",
       "    <tr>\n",
       "      <th>15</th>\n",
       "      <td>16</td>\n",
       "      <td>delivers, tray, nylon, sturdy, free, pirate, builtin, allows, fairy, wear</td>\n",
       "    </tr>\n",
       "    <tr>\n",
       "      <th>16</th>\n",
       "      <td>17</td>\n",
       "      <td>cool, shoulder, provide, x, cold, prevents, womens, color, beautiful, years</td>\n",
       "    </tr>\n",
       "    <tr>\n",
       "      <th>17</th>\n",
       "      <td>18</td>\n",
       "      <td>pockets, mask, durable, moisture, jewelry, features, new, offers, comfort, brushed</td>\n",
       "    </tr>\n",
       "    <tr>\n",
       "      <th>18</th>\n",
       "      <td>19</td>\n",
       "      <td>straps, clothing, metal, way, microbes, shoes, silver, easily, toe, polyester</td>\n",
       "    </tr>\n",
       "    <tr>\n",
       "      <th>19</th>\n",
       "      <td>20</td>\n",
       "      <td>complete, wear, fabric, features, display, measures, merino, technology, gift, want</td>\n",
       "    </tr>\n",
       "  </tbody>\n",
       "</table>\n",
       "</div>"
      ],
      "text/plain": [
       "    Topic  \\\n",
       "0   1       \n",
       "1   2       \n",
       "2   3       \n",
       "3   4       \n",
       "4   5       \n",
       "5   6       \n",
       "6   7       \n",
       "7   8       \n",
       "8   9       \n",
       "9   10      \n",
       "10  11      \n",
       "11  12      \n",
       "12  13      \n",
       "13  14      \n",
       "14  15      \n",
       "15  16      \n",
       "16  17      \n",
       "17  18      \n",
       "18  19      \n",
       "19  20      \n",
       "\n",
       "                                                                                  Top words  \n",
       "0   belt, flatlock, case, size, better, choose, earrings, soft, warm, collar                 \n",
       "1   shirt, style, breathable, princess, youre, colors, quality, come, people, socks          \n",
       "2   easy, collection, colors, rubber, water, quickly, stretch, lightweight, design, body     \n",
       "3   activities, handle, helmet, star, way, flat, makes, day, half, tee                       \n",
       "4   fit, sweat, mesh, large, pocket, fleece, body, necklace, imported, travel                \n",
       "5   wicks, material, dry, fit, panels, piece, insect, construction, durability, standard     \n",
       "6   support, company, fabric, apparel, fun, sizes, hip, outdoor, fiber, features             \n",
       "7   x, merino, sleeve, fun, items, water, weather, bracelets, comfortable, display           \n",
       "8   great, performance, black, pockets, inches, make, away, design, jewelry, unique          \n",
       "9   fits, sun, store, engineered, pocket, shield, conditions, mobility, hat, maximum         \n",
       "10  costume, products, small, inside, classic, lightweight, comfort, white, ideal, designed  \n",
       "11  bag, elastic, jacket, perfect, favorite, hat, d, box, look, feature                      \n",
       "12  s, use, sure, soft, comfort, easy, products, skin, displays, moisture                    \n",
       "13  size, comfortable, product, warm, need, ua, accessory, clean, footwear, silver           \n",
       "14  high, storage, height, waistband, wide, way, chest, include, growth, new                 \n",
       "15  delivers, tray, nylon, sturdy, free, pirate, builtin, allows, fairy, wear                \n",
       "16  cool, shoulder, provide, x, cold, prevents, womens, color, beautiful, years              \n",
       "17  pockets, mask, durable, moisture, jewelry, features, new, offers, comfort, brushed       \n",
       "18  straps, clothing, metal, way, microbes, shoes, silver, easily, toe, polyester            \n",
       "19  complete, wear, fabric, features, display, measures, merino, technology, gift, want      "
      ]
     },
     "execution_count": 69,
     "metadata": {},
     "output_type": "execute_result"
    }
   ],
   "source": [
    "vocab = ctr.train_set.item_text.vocab\n",
    "topic_word_dist = ctr.model.beta.T[:, -ctr.train_set.item_text.max_vocab:] \n",
    "top_word_inds = np.argsort(topic_word_dist, axis=1) + 4  # ingore 4 special tokens\n",
    "\n",
    "topic_words = {}\n",
    "topic_df = defaultdict(list)\n",
    "print(\"WORD TOPICS:\")\n",
    "for t in range(len(topic_word_dist)):\n",
    "  top_words = vocab.to_text(top_word_inds[t][-10:][::-1], sep=\", \")\n",
    "  topic_words[t+1] = top_words\n",
    "  topic_df[\"Topic\"].append(t + 1)\n",
    "  topic_df[\"Top words\"].append(top_words)\n",
    "topic_df = pd.DataFrame(topic_df)\n",
    "topic_df"
   ]
  },
  {
   "cell_type": "code",
   "execution_count": 70,
   "id": "dc0a7f8b",
   "metadata": {},
   "outputs": [
    {
     "name": "stdout",
     "output_type": "stream",
     "text": [
      "USER 123 TOP-3 TOPICS:\n"
     ]
    },
    {
     "data": {
      "text/html": [
       "<div>\n",
       "<style scoped>\n",
       "    .dataframe tbody tr th:only-of-type {\n",
       "        vertical-align: middle;\n",
       "    }\n",
       "\n",
       "    .dataframe tbody tr th {\n",
       "        vertical-align: top;\n",
       "    }\n",
       "\n",
       "    .dataframe thead th {\n",
       "        text-align: right;\n",
       "    }\n",
       "</style>\n",
       "<table border=\"1\" class=\"dataframe\">\n",
       "  <thead>\n",
       "    <tr style=\"text-align: right;\">\n",
       "      <th></th>\n",
       "      <th>Topic</th>\n",
       "      <th>Top words</th>\n",
       "    </tr>\n",
       "  </thead>\n",
       "  <tbody>\n",
       "    <tr>\n",
       "      <th>14</th>\n",
       "      <td>15</td>\n",
       "      <td>high, storage, height, waistband, wide, way, chest, include, growth, new</td>\n",
       "    </tr>\n",
       "    <tr>\n",
       "      <th>13</th>\n",
       "      <td>14</td>\n",
       "      <td>size, comfortable, product, warm, need, ua, accessory, clean, footwear, silver</td>\n",
       "    </tr>\n",
       "    <tr>\n",
       "      <th>12</th>\n",
       "      <td>13</td>\n",
       "      <td>s, use, sure, soft, comfort, easy, products, skin, displays, moisture</td>\n",
       "    </tr>\n",
       "  </tbody>\n",
       "</table>\n",
       "</div>"
      ],
      "text/plain": [
       "    Topic  \\\n",
       "14  15      \n",
       "13  14      \n",
       "12  13      \n",
       "\n",
       "                                                                         Top words  \n",
       "14  high, storage, height, waistband, wide, way, chest, include, growth, new        \n",
       "13  size, comfortable, product, warm, need, ua, accessory, clean, footwear, silver  \n",
       "12  s, use, sure, soft, comfort, easy, products, skin, displays, moisture           "
      ]
     },
     "execution_count": 70,
     "metadata": {},
     "output_type": "execute_result"
    }
   ],
   "source": [
    "UIDX = 123\n",
    "TOPK = 5\n",
    "\n",
    "item_id2idx = ctr.train_set.iid_map\n",
    "item_idx2id = list(ctr.train_set.item_ids)\n",
    "\n",
    "print(f\"USER {UIDX} TOP-3 TOPICS:\")\n",
    "topic_df.loc[np.argsort(ctr.U[UIDX])[-3:][::-1]]"
   ]
  },
  {
   "cell_type": "code",
   "execution_count": 71,
   "id": "dccd899b",
   "metadata": {},
   "outputs": [
    {
     "name": "stdout",
     "output_type": "stream",
     "text": [
      "\n",
      "TOP 5 RECOMMENDATIONS FOR USER 123:\n"
     ]
    },
    {
     "data": {
      "text/html": [
       "<div>\n",
       "<style scoped>\n",
       "    .dataframe tbody tr th:only-of-type {\n",
       "        vertical-align: middle;\n",
       "    }\n",
       "\n",
       "    .dataframe tbody tr th {\n",
       "        vertical-align: top;\n",
       "    }\n",
       "\n",
       "    .dataframe thead th {\n",
       "        text-align: right;\n",
       "    }\n",
       "</style>\n",
       "<table border=\"1\" class=\"dataframe\">\n",
       "  <thead>\n",
       "    <tr style=\"text-align: right;\">\n",
       "      <th></th>\n",
       "      <th>URL</th>\n",
       "      <th>Description</th>\n",
       "    </tr>\n",
       "  </thead>\n",
       "  <tbody>\n",
       "    <tr>\n",
       "      <th>0</th>\n",
       "      <td>https://www.amazon.com/dp/B002M62ES6</td>\n",
       "      <td>Accessorize your Spider-man Costume with these Gloves. Fits most child sizes from 4-12.</td>\n",
       "    </tr>\n",
       "    <tr>\n",
       "      <th>1</th>\n",
       "      <td>https://www.amazon.com/dp/B002MKPKFG</td>\n",
       "      <td>This glamorous dress is perfect for a night at the ball. The stretchy blue velvet bodice is elegantly detailed with a gathered white inlay, ruffled cap sleeves, sparkling silver trim and a white rose. The silver trimmed waist drapes outlined with ruffle capture that authentic Cinderella look.The dress is designed with an empire waist that sits 1.5 inches above the waist. They are machine washable and made for long repeated use, unlike many one-off Halloween costumes that are not made for everyday play.  Our stretchy accommodating fabrics will allow for a comfortable fit for each child within the respective age ranges and there are no itchy fabrics or trims.Each dress comes with an exclusive Princess Hairbow as part of the bundle set.</td>\n",
       "    </tr>\n",
       "    <tr>\n",
       "      <th>2</th>\n",
       "      <td>https://www.amazon.com/dp/B001NAHW2U</td>\n",
       "      <td>LACY 14K GOLD on 925 Silver Charm BEAD compatible with European Bracelet</td>\n",
       "    </tr>\n",
       "    <tr>\n",
       "      <th>3</th>\n",
       "      <td>https://www.amazon.com/dp/B000HS6NEC</td>\n",
       "      <td>Includes jacket, elastic pants, hat, belt, whistle, and gun holster. Child Size Small (4-6).</td>\n",
       "    </tr>\n",
       "    <tr>\n",
       "      <th>4</th>\n",
       "      <td>https://www.amazon.com/dp/B001EDF3OU</td>\n",
       "      <td>The Child Indiana Jones Hat and Whip are two must have accessories for your child's Officially Licensed Indiana Jones costume. This Indiana Jones costume accessory contains the two hallmarks of Indy's style: his awesome whip and his trademark hat.</td>\n",
       "    </tr>\n",
       "  </tbody>\n",
       "</table>\n",
       "</div>"
      ],
      "text/plain": [
       "                                    URL  \\\n",
       "0  https://www.amazon.com/dp/B002M62ES6   \n",
       "1  https://www.amazon.com/dp/B002MKPKFG   \n",
       "2  https://www.amazon.com/dp/B001NAHW2U   \n",
       "3  https://www.amazon.com/dp/B000HS6NEC   \n",
       "4  https://www.amazon.com/dp/B001EDF3OU   \n",
       "\n",
       "                                                                                                                                                                                                                                                                                                                                                                                                                                                                                                                                                                                                                                                                                                                                                               Description  \n",
       "0  Accessorize your Spider-man Costume with these Gloves. Fits most child sizes from 4-12.                                                                                                                                                                                                                                                                                                                                                                                                                                                                                                                                                                                                                                                                                  \n",
       "1  This glamorous dress is perfect for a night at the ball. The stretchy blue velvet bodice is elegantly detailed with a gathered white inlay, ruffled cap sleeves, sparkling silver trim and a white rose. The silver trimmed waist drapes outlined with ruffle capture that authentic Cinderella look.The dress is designed with an empire waist that sits 1.5 inches above the waist. They are machine washable and made for long repeated use, unlike many one-off Halloween costumes that are not made for everyday play.  Our stretchy accommodating fabrics will allow for a comfortable fit for each child within the respective age ranges and there are no itchy fabrics or trims.Each dress comes with an exclusive Princess Hairbow as part of the bundle set.  \n",
       "2  LACY 14K GOLD on 925 Silver Charm BEAD compatible with European Bracelet                                                                                                                                                                                                                                                                                                                                                                                                                                                                                                                                                                                                                                                                                                 \n",
       "3  Includes jacket, elastic pants, hat, belt, whistle, and gun holster. Child Size Small (4-6).                                                                                                                                                                                                                                                                                                                                                                                                                                                                                                                                                                                                                                                                             \n",
       "4  The Child Indiana Jones Hat and Whip are two must have accessories for your child's Officially Licensed Indiana Jones costume. This Indiana Jones costume accessory contains the two hallmarks of Indy's style: his awesome whip and his trademark hat.                                                                                                                                                                                                                                                                                                                                                                                                                                                                                                                  "
      ]
     },
     "execution_count": 71,
     "metadata": {},
     "output_type": "execute_result"
    }
   ],
   "source": [
    "recommendations, scores = ctr.rank(UIDX)\n",
    "print(f\"\\nTOP {TOPK} RECOMMENDATIONS FOR USER {UIDX}:\")\n",
    "rec_df = defaultdict(list)\n",
    "for i in recommendations[:TOPK]:\n",
    "  rec_df[\"URL\"].append(f\"https://www.amazon.com/dp/{item_idx2id[i]}\")\n",
    "  rec_df[\"Description\"].append(ctr.train_set.item_text.corpus[i])\n",
    "pd.DataFrame(rec_df)"
   ]
  },
  {
   "cell_type": "code",
   "execution_count": 72,
   "id": "f8608e7c",
   "metadata": {},
   "outputs": [
    {
     "name": "stdout",
     "output_type": "stream",
     "text": [
      "USER 321 TOP-3 TOPICS:\n"
     ]
    },
    {
     "data": {
      "text/html": [
       "<div>\n",
       "<style scoped>\n",
       "    .dataframe tbody tr th:only-of-type {\n",
       "        vertical-align: middle;\n",
       "    }\n",
       "\n",
       "    .dataframe tbody tr th {\n",
       "        vertical-align: top;\n",
       "    }\n",
       "\n",
       "    .dataframe thead th {\n",
       "        text-align: right;\n",
       "    }\n",
       "</style>\n",
       "<table border=\"1\" class=\"dataframe\">\n",
       "  <thead>\n",
       "    <tr style=\"text-align: right;\">\n",
       "      <th></th>\n",
       "      <th>Topic</th>\n",
       "      <th>Top words</th>\n",
       "    </tr>\n",
       "  </thead>\n",
       "  <tbody>\n",
       "    <tr>\n",
       "      <th>19</th>\n",
       "      <td>20</td>\n",
       "      <td>complete, wear, fabric, features, display, measures, merino, technology, gift, want</td>\n",
       "    </tr>\n",
       "    <tr>\n",
       "      <th>2</th>\n",
       "      <td>3</td>\n",
       "      <td>easy, collection, colors, rubber, water, quickly, stretch, lightweight, design, body</td>\n",
       "    </tr>\n",
       "    <tr>\n",
       "      <th>10</th>\n",
       "      <td>11</td>\n",
       "      <td>costume, products, small, inside, classic, lightweight, comfort, white, ideal, designed</td>\n",
       "    </tr>\n",
       "  </tbody>\n",
       "</table>\n",
       "</div>"
      ],
      "text/plain": [
       "    Topic  \\\n",
       "19  20      \n",
       "2   3       \n",
       "10  11      \n",
       "\n",
       "                                                                                  Top words  \n",
       "19  complete, wear, fabric, features, display, measures, merino, technology, gift, want      \n",
       "2   easy, collection, colors, rubber, water, quickly, stretch, lightweight, design, body     \n",
       "10  costume, products, small, inside, classic, lightweight, comfort, white, ideal, designed  "
      ]
     },
     "execution_count": 72,
     "metadata": {},
     "output_type": "execute_result"
    }
   ],
   "source": [
    "UIDX = 321\n",
    "\n",
    "print(f\"USER {UIDX} TOP-3 TOPICS:\")\n",
    "topic_df.loc[np.argsort(ctr.U[UIDX])[-3:][::-1]]"
   ]
  },
  {
   "cell_type": "code",
   "execution_count": 73,
   "id": "69797115",
   "metadata": {},
   "outputs": [
    {
     "name": "stdout",
     "output_type": "stream",
     "text": [
      "\n",
      "TOP 5 RECOMMENDATIONS FOR USER 321:\n"
     ]
    },
    {
     "data": {
      "text/html": [
       "<div>\n",
       "<style scoped>\n",
       "    .dataframe tbody tr th:only-of-type {\n",
       "        vertical-align: middle;\n",
       "    }\n",
       "\n",
       "    .dataframe tbody tr th {\n",
       "        vertical-align: top;\n",
       "    }\n",
       "\n",
       "    .dataframe thead th {\n",
       "        text-align: right;\n",
       "    }\n",
       "</style>\n",
       "<table border=\"1\" class=\"dataframe\">\n",
       "  <thead>\n",
       "    <tr style=\"text-align: right;\">\n",
       "      <th></th>\n",
       "      <th>URL</th>\n",
       "      <th>Description</th>\n",
       "    </tr>\n",
       "  </thead>\n",
       "  <tbody>\n",
       "    <tr>\n",
       "      <th>0</th>\n",
       "      <td>https://www.amazon.com/dp/B000MARQFA</td>\n",
       "      <td>You demand a lot from your pants when you're on the move and the PROPPER Tactical Pant delivers. Nine pockets hold everything from your smartphone to your multi-tool. Rugged canvas fabric offers durability and strength, with DuPont Teflon fabric protector to repel stains and liquids. An action-stretch waistband adds comfort. And with our innovative wallet \"pocket in a pocket\" you'll appreciate not sitting on your wallet all day long. Come with a free matching belt (12.99 value).</td>\n",
       "    </tr>\n",
       "    <tr>\n",
       "      <th>1</th>\n",
       "      <td>https://www.amazon.com/dp/B001VIH648</td>\n",
       "      <td>You demand a lot from your pants when you're on the move and the PROPPER Tactical Pant delivers. Nine pockets hold everything from your smartphone to your multi-tool. Rugged canvas fabric offers durability and strength, with DuPont Teflon fabric protector to repel stains and liquids. An action-stretch waistband adds comfort. And with our innovative wallet \"pocket in a pocket\" you'll appreciate not sitting on your wallet all day long. Come with a free matching belt (12.99 value).</td>\n",
       "    </tr>\n",
       "    <tr>\n",
       "      <th>2</th>\n",
       "      <td>https://www.amazon.com/dp/B002V44LTO</td>\n",
       "      <td>Sleeves - Made From 50% nylon &amp; 50% cotton. Chest &amp; Back - Made from 40% Acrylic &amp; 60% Cotton. Resists melting &amp; dripping. Melting point is rated to 230 degrees Fahrenheit. Moisture wicking. Lightweight &amp; breathable. Zippered sleeve storage pockets. Mock turtle neck. Anti abrasion padded elbow patches. Gusseted sleeves. Glint tape holder for IR tape. Loop on sleeve pockets for attaching name, rank and flag. Colors Available: Black, ACU Digital Camouflage, Olive Drab, Desert Digital Camouflage &amp; Digitial Woodland Camouflage. Sizes to choose from: Small, Medium, Large, X-Large, 2X-Large &amp; 3X-Large.</td>\n",
       "    </tr>\n",
       "    <tr>\n",
       "      <th>3</th>\n",
       "      <td>https://www.amazon.com/dp/B002FIVZD6</td>\n",
       "      <td>TRU-SPEC is one of the leading suppliers of uniforms and personal equipment to military, law enforcement and public safety markets.&amp;#xA0; Thousands of police, firefighters, EMTs and military personnel use and depend on our products daily. The name TRU-SPEC has become synonymous with quality, innovation and service. Gunnery Sgt. R. Lee Ermey, USMC (Ret.) known as \"The Gunny\" has become the official celebrity spokesperson for TRU-SPEC's line of tactically inspired apparel.</td>\n",
       "    </tr>\n",
       "    <tr>\n",
       "      <th>4</th>\n",
       "      <td>https://www.amazon.com/dp/B00062B1IC</td>\n",
       "      <td>The PROPPER BDU trouser offers an authentic military cut in comfortable, durable Battle Rip fabric. Sewn to military specification, this button-fly BDU is fade, shrink and wrinkle resistant. It features felled seams and reinforced seat and knee for maximum durability. Six pockets with fused pocket flaps ensure a clean, professional look. With adjustable waist tabs and durable drawstring leg closures for a secure fit.</td>\n",
       "    </tr>\n",
       "  </tbody>\n",
       "</table>\n",
       "</div>"
      ],
      "text/plain": [
       "                                    URL  \\\n",
       "0  https://www.amazon.com/dp/B000MARQFA   \n",
       "1  https://www.amazon.com/dp/B001VIH648   \n",
       "2  https://www.amazon.com/dp/B002V44LTO   \n",
       "3  https://www.amazon.com/dp/B002FIVZD6   \n",
       "4  https://www.amazon.com/dp/B00062B1IC   \n",
       "\n",
       "                                                                                                                                                                                                                                                                                                                                                                                                                                                                                                                                                                                                                   Description  \n",
       "0  You demand a lot from your pants when you're on the move and the PROPPER Tactical Pant delivers. Nine pockets hold everything from your smartphone to your multi-tool. Rugged canvas fabric offers durability and strength, with DuPont Teflon fabric protector to repel stains and liquids. An action-stretch waistband adds comfort. And with our innovative wallet \"pocket in a pocket\" you'll appreciate not sitting on your wallet all day long. Come with a free matching belt (12.99 value).                                                                                                                          \n",
       "1  You demand a lot from your pants when you're on the move and the PROPPER Tactical Pant delivers. Nine pockets hold everything from your smartphone to your multi-tool. Rugged canvas fabric offers durability and strength, with DuPont Teflon fabric protector to repel stains and liquids. An action-stretch waistband adds comfort. And with our innovative wallet \"pocket in a pocket\" you'll appreciate not sitting on your wallet all day long. Come with a free matching belt (12.99 value).                                                                                                                          \n",
       "2  Sleeves - Made From 50% nylon & 50% cotton. Chest & Back - Made from 40% Acrylic & 60% Cotton. Resists melting & dripping. Melting point is rated to 230 degrees Fahrenheit. Moisture wicking. Lightweight & breathable. Zippered sleeve storage pockets. Mock turtle neck. Anti abrasion padded elbow patches. Gusseted sleeves. Glint tape holder for IR tape. Loop on sleeve pockets for attaching name, rank and flag. Colors Available: Black, ACU Digital Camouflage, Olive Drab, Desert Digital Camouflage & Digitial Woodland Camouflage. Sizes to choose from: Small, Medium, Large, X-Large, 2X-Large & 3X-Large.  \n",
       "3  TRU-SPEC is one of the leading suppliers of uniforms and personal equipment to military, law enforcement and public safety markets.&#xA0; Thousands of police, firefighters, EMTs and military personnel use and depend on our products daily. The name TRU-SPEC has become synonymous with quality, innovation and service. Gunnery Sgt. R. Lee Ermey, USMC (Ret.) known as \"The Gunny\" has become the official celebrity spokesperson for TRU-SPEC's line of tactically inspired apparel.                                                                                                                                  \n",
       "4  The PROPPER BDU trouser offers an authentic military cut in comfortable, durable Battle Rip fabric. Sewn to military specification, this button-fly BDU is fade, shrink and wrinkle resistant. It features felled seams and reinforced seat and knee for maximum durability. Six pockets with fused pocket flaps ensure a clean, professional look. With adjustable waist tabs and durable drawstring leg closures for a secure fit.                                                                                                                                                                                         "
      ]
     },
     "execution_count": 73,
     "metadata": {},
     "output_type": "execute_result"
    }
   ],
   "source": [
    "recommendations, scores = ctr.rank(UIDX)\n",
    "print(f\"\\nTOP {TOPK} RECOMMENDATIONS FOR USER {UIDX}:\")\n",
    "rec_df = defaultdict(list)\n",
    "for i in recommendations[:TOPK]:\n",
    "  rec_df[\"URL\"].append(f\"https://www.amazon.com/dp/{item_idx2id[i]}\")\n",
    "  rec_df[\"Description\"].append(ctr.train_set.item_text.corpus[i])\n",
    "pd.DataFrame(rec_df)"
   ]
  },
  {
   "cell_type": "markdown",
   "id": "d4361ee0",
   "metadata": {},
   "source": [
    "6. Image Modality"
   ]
  },
  {
   "cell_type": "markdown",
   "id": "68b79cb3",
   "metadata": {},
   "source": [
    "Visual Bayesian Personalized Ranking (VBPR)"
   ]
  },
  {
   "cell_type": "code",
   "execution_count": 75,
   "id": "bf221334",
   "metadata": {},
   "outputs": [
    {
     "name": "stdout",
     "output_type": "stream",
     "text": [
      "Data from https://static.preferred.ai/cornac/datasets/amazon_clothing/image.zip\n",
      "will be cached into C:\\Users\\ABIR°S ELITEBOOK\\.cornac\\amazon_clothing/image_features.npy\n"
     ]
    },
    {
     "name": "stderr",
     "output_type": "stream",
     "text": [
      "14.9MB [00:15, 974kB/s]                                                                                                \n"
     ]
    },
    {
     "name": "stdout",
     "output_type": "stream",
     "text": [
      "Unzipping ...\n",
      "File cached!\n",
      "Data from https://static.preferred.ai/cornac/datasets/amazon_clothing/item_ids.zip\n",
      "will be cached into C:\\Users\\ABIR°S ELITEBOOK\\.cornac\\amazon_clothing/item_ids.txt\n"
     ]
    },
    {
     "name": "stderr",
     "output_type": "stream",
     "text": [
      "32.8kB [00:00, 34.0kB/s]                                                                                               \n"
     ]
    },
    {
     "name": "stdout",
     "output_type": "stream",
     "text": [
      "Unzipping ...\n",
      "File cached!\n",
      "Optimization finished!\n",
      "\n",
      "TEST:\n",
      "...\n",
      "     |    AUC | Train (s) | Test (s)\n",
      "---- + ------ + --------- + --------\n",
      "VBPR | 0.7053 |   81.7055 |   2.5713\n",
      "BPR  | 0.5992 |    0.1763 |   2.4520\n",
      "\n"
     ]
    }
   ],
   "source": [
    "K = 10\n",
    "vbpr = VBPR(k=K, k2=K, n_epochs=50, batch_size=100, learning_rate=0.001,\n",
    "            lambda_w=1, lambda_b=0.01, lambda_e=0.0, use_gpu=True, verbose=VERBOSE, seed=SEED)\n",
    "bpr = BPR(k=(K * 2), max_iter=50, learning_rate=0.001, lambda_reg=0.001, verbose=VERBOSE, seed=SEED)\n",
    "\n",
    "ratings = amazon_clothing.load_feedback()\n",
    "img_features, item_ids = amazon_clothing.load_visual_feature()\n",
    "\n",
    "item_image_modality = ImageModality(features=img_features, ids=item_ids, normalized=True)\n",
    "\n",
    "ratio_split = RatioSplit(\n",
    "    data=ratings,\n",
    "    test_size=0.2,\n",
    "    rating_threshold=4.0,\n",
    "    exclude_unknowns=True,\n",
    "    item_image=item_image_modality,\n",
    "    verbose=VERBOSE,\n",
    "    seed=SEED,\n",
    ")\n",
    "\n",
    "auc = cornac.metrics.AUC()\n",
    "\n",
    "cornac.Experiment(eval_method=ratio_split, models=[vbpr, bpr], metrics=[auc]).run()"
   ]
  },
  {
   "cell_type": "markdown",
   "id": "7482fc42",
   "metadata": {},
   "source": [
    "7. Interpreting Recommendation"
   ]
  },
  {
   "cell_type": "code",
   "execution_count": 76,
   "id": "42b047ab",
   "metadata": {},
   "outputs": [
    {
     "name": "stdout",
     "output_type": "stream",
     "text": [
      "RATED ITEMS BY USER 111:\n"
     ]
    },
    {
     "data": {
      "text/html": [
       "<div>\n",
       "<style scoped>\n",
       "    .dataframe tbody tr th:only-of-type {\n",
       "        vertical-align: middle;\n",
       "    }\n",
       "\n",
       "    .dataframe tbody tr th {\n",
       "        vertical-align: top;\n",
       "    }\n",
       "\n",
       "    .dataframe thead th {\n",
       "        text-align: right;\n",
       "    }\n",
       "</style>\n",
       "<table border=\"1\" class=\"dataframe\">\n",
       "  <thead>\n",
       "    <tr style=\"text-align: right;\">\n",
       "      <th></th>\n",
       "      <th>URL</th>\n",
       "      <th>Description</th>\n",
       "    </tr>\n",
       "  </thead>\n",
       "  <tbody>\n",
       "    <tr>\n",
       "      <th>0</th>\n",
       "      <td>https://www.amazon.com/dp/B00BXQF1XG</td>\n",
       "      <td>Disguise Boy's Marvel Ultimate Spider-Man Classic Costume, 3T-4T Jumpsuit.</td>\n",
       "    </tr>\n",
       "    <tr>\n",
       "      <th>1</th>\n",
       "      <td>https://www.amazon.com/dp/B002M62ES6</td>\n",
       "      <td>Accessorize your Spider-man Costume with these Gloves. Fits most child sizes from 4-12.</td>\n",
       "    </tr>\n",
       "  </tbody>\n",
       "</table>\n",
       "</div>"
      ],
      "text/plain": [
       "                                    URL  \\\n",
       "0  https://www.amazon.com/dp/B00BXQF1XG   \n",
       "1  https://www.amazon.com/dp/B002M62ES6   \n",
       "\n",
       "                                                                               Description  \n",
       "0  Disguise Boy's Marvel Ultimate Spider-Man Classic Costume, 3T-4T Jumpsuit.               \n",
       "1  Accessorize your Spider-man Costume with these Gloves. Fits most child sizes from 4-12.  "
      ]
     },
     "execution_count": 76,
     "metadata": {},
     "output_type": "execute_result"
    }
   ],
   "source": [
    "UIDX = 111\n",
    "\n",
    "item_id2idx = vbpr.train_set.iid_map\n",
    "item_idx2id = list(vbpr.train_set.item_ids)\n",
    "img_features = vbpr.train_set.item_image.features\n",
    "item_desc = {iid: desc for desc, iid in zip(*amazon_clothing.load_text())}\n",
    "\n",
    "print(f\"RATED ITEMS BY USER {UIDX}:\")\n",
    "rated_items = np.nonzero(vbpr.train_set.matrix[UIDX].A)[1]\n",
    "rated_df = defaultdict(list)\n",
    "for i in rated_items:\n",
    "  rated_df[\"URL\"].append(f\"https://www.amazon.com/dp/{item_idx2id[i]}\")\n",
    "  rated_df[\"Description\"].append(item_desc[item_idx2id[i]])\n",
    "pd.DataFrame(rated_df)"
   ]
  },
  {
   "cell_type": "code",
   "execution_count": 77,
   "id": "ab547964",
   "metadata": {},
   "outputs": [
    {
     "name": "stdout",
     "output_type": "stream",
     "text": [
      "\n",
      "TOP 5 RECOMMENDATIONS:\n"
     ]
    },
    {
     "data": {
      "text/html": [
       "<div>\n",
       "<style scoped>\n",
       "    .dataframe tbody tr th:only-of-type {\n",
       "        vertical-align: middle;\n",
       "    }\n",
       "\n",
       "    .dataframe tbody tr th {\n",
       "        vertical-align: top;\n",
       "    }\n",
       "\n",
       "    .dataframe thead th {\n",
       "        text-align: right;\n",
       "    }\n",
       "</style>\n",
       "<table border=\"1\" class=\"dataframe\">\n",
       "  <thead>\n",
       "    <tr style=\"text-align: right;\">\n",
       "      <th></th>\n",
       "      <th>URL</th>\n",
       "      <th>Score</th>\n",
       "      <th>CF Contribution</th>\n",
       "      <th>Visual Contribution</th>\n",
       "      <th>Description</th>\n",
       "    </tr>\n",
       "  </thead>\n",
       "  <tbody>\n",
       "    <tr>\n",
       "      <th>0</th>\n",
       "      <td>https://www.amazon.com/dp/B002M62ES6</td>\n",
       "      <td>7.457715</td>\n",
       "      <td>1.116012</td>\n",
       "      <td>6.341702</td>\n",
       "      <td>Accessorize your Spider-man Costume with these Gloves. Fits most child sizes from 4-12.</td>\n",
       "    </tr>\n",
       "    <tr>\n",
       "      <th>1</th>\n",
       "      <td>https://www.amazon.com/dp/B007DLVLAW</td>\n",
       "      <td>7.312137</td>\n",
       "      <td>1.509102</td>\n",
       "      <td>5.803034</td>\n",
       "      <td>Patented elastic shoelace and fastening system. Engineered and designed to improve performance and keep laces locked and secure throughout the course of a race, game, practice, or workout.</td>\n",
       "    </tr>\n",
       "    <tr>\n",
       "      <th>2</th>\n",
       "      <td>https://www.amazon.com/dp/B00BHPRRKS</td>\n",
       "      <td>6.589272</td>\n",
       "      <td>-0.176793</td>\n",
       "      <td>6.766065</td>\n",
       "      <td>Jumpsuit with muscle torso and arms attached belt.</td>\n",
       "    </tr>\n",
       "    <tr>\n",
       "      <th>3</th>\n",
       "      <td>https://www.amazon.com/dp/B0000CNR1L</td>\n",
       "      <td>6.477899</td>\n",
       "      <td>0.324168</td>\n",
       "      <td>6.153730</td>\n",
       "      <td>No more digging around in deep toiletries bags for that pair of tweezers or spare safety pin you know is in there somewhere. Made of clear vinyl for quick viewing, the ten compartments on this unique organizer keep everything from dental floss to shaving cream readily retrievable. Organized in four zippered rows, the compartments vary in size and keep contents secure. When empty, the bag folds to a flat 10 by 14 inches. When filled, it can be laid inside a suitcase. The hook allows the bag to be hung inside a garment bag if desired, and then looped over a bathroom door or towel hook for accessibility.  Made of PVC microfiber, the bag extends to 28 by 14 inches when fully opened.--Ann Bieri</td>\n",
       "    </tr>\n",
       "    <tr>\n",
       "      <th>4</th>\n",
       "      <td>https://www.amazon.com/dp/B00BXQF1XG</td>\n",
       "      <td>6.426818</td>\n",
       "      <td>0.020040</td>\n",
       "      <td>6.406778</td>\n",
       "      <td>Disguise Boy's Marvel Ultimate Spider-Man Classic Costume, 3T-4T Jumpsuit.</td>\n",
       "    </tr>\n",
       "  </tbody>\n",
       "</table>\n",
       "</div>"
      ],
      "text/plain": [
       "                                    URL     Score  CF Contribution  \\\n",
       "0  https://www.amazon.com/dp/B002M62ES6  7.457715  1.116012          \n",
       "1  https://www.amazon.com/dp/B007DLVLAW  7.312137  1.509102          \n",
       "2  https://www.amazon.com/dp/B00BHPRRKS  6.589272 -0.176793          \n",
       "3  https://www.amazon.com/dp/B0000CNR1L  6.477899  0.324168          \n",
       "4  https://www.amazon.com/dp/B00BXQF1XG  6.426818  0.020040          \n",
       "\n",
       "   Visual Contribution  \\\n",
       "0  6.341702              \n",
       "1  5.803034              \n",
       "2  6.766065              \n",
       "3  6.153730              \n",
       "4  6.406778              \n",
       "\n",
       "                                                                                                                                                                                                                                                                                                                                                                                                                                                                                                                                                                                                                                                                                                                  Description  \n",
       "0  Accessorize your Spider-man Costume with these Gloves. Fits most child sizes from 4-12.                                                                                                                                                                                                                                                                                                                                                                                                                                                                                                                                                                                                                                     \n",
       "1  Patented elastic shoelace and fastening system. Engineered and designed to improve performance and keep laces locked and secure throughout the course of a race, game, practice, or workout.                                                                                                                                                                                                                                                                                                                                                                                                                                                                                                                                \n",
       "2  Jumpsuit with muscle torso and arms attached belt.                                                                                                                                                                                                                                                                                                                                                                                                                                                                                                                                                                                                                                                                          \n",
       "3  No more digging around in deep toiletries bags for that pair of tweezers or spare safety pin you know is in there somewhere. Made of clear vinyl for quick viewing, the ten compartments on this unique organizer keep everything from dental floss to shaving cream readily retrievable. Organized in four zippered rows, the compartments vary in size and keep contents secure. When empty, the bag folds to a flat 10 by 14 inches. When filled, it can be laid inside a suitcase. The hook allows the bag to be hung inside a garment bag if desired, and then looped over a bathroom door or towel hook for accessibility.  Made of PVC microfiber, the bag extends to 28 by 14 inches when fully opened.--Ann Bieri  \n",
       "4  Disguise Boy's Marvel Ultimate Spider-Man Classic Costume, 3T-4T Jumpsuit.                                                                                                                                                                                                                                                                                                                                                                                                                                                                                                                                                                                                                                                  "
      ]
     },
     "execution_count": 77,
     "metadata": {},
     "output_type": "execute_result"
    }
   ],
   "source": [
    "TOPK = 5\n",
    "\n",
    "recommendations, scores = vbpr.rank(UIDX)\n",
    "\n",
    "print(f\"\\nTOP {TOPK} RECOMMENDATIONS:\")\n",
    "rec_df = defaultdict(list)\n",
    "for i in recommendations[:TOPK]:\n",
    "  cf_contrib = vbpr.beta_item[i] + np.dot(vbpr.gamma_item[i], vbpr.gamma_user[UIDX])\n",
    "  vis_contrib = vbpr.visual_bias[i] + np.dot(vbpr.theta_item[i], vbpr.theta_user[UIDX])\n",
    "  rec_df[\"URL\"].append(f\"https://www.amazon.com/dp/{item_idx2id[i]}\")\n",
    "  rec_df[\"Score\"].append(scores[i])\n",
    "  rec_df[\"CF Contribution\"].append(cf_contrib)\n",
    "  rec_df[\"Visual Contribution\"].append(vis_contrib)\n",
    "  rec_df[\"Description\"].append(item_desc[item_idx2id[i]])\n",
    "pd.DataFrame(rec_df)"
   ]
  },
  {
   "cell_type": "markdown",
   "id": "3d41b231",
   "metadata": {},
   "source": [
    "## 6.Contextual Awareness"
   ]
  },
  {
   "cell_type": "markdown",
   "id": "47d5e2ae",
   "metadata": {},
   "source": [
    "1. Setup"
   ]
  },
  {
   "cell_type": "code",
   "execution_count": 78,
   "id": "c81bdc91",
   "metadata": {},
   "outputs": [
    {
     "name": "stderr",
     "output_type": "stream",
     "text": [
      "Cloning into 'libfm'...\n",
      "'make' n'est pas reconnu en tant que commande interne\n",
      "ou externe, un programme ex‚cutable ou un fichier de commandes.\n"
     ]
    }
   ],
   "source": [
    "!git clone https://github.com/srendle/libfm.git\n",
    "!make all -C libfm"
   ]
  },
  {
   "cell_type": "code",
   "execution_count": 79,
   "id": "22ff1654",
   "metadata": {},
   "outputs": [
    {
     "name": "stdout",
     "output_type": "stream",
     "text": [
      "System version: 3.6.4 (v3.6.4:d48eceb, Dec 19 2017, 06:54:40) [MSC v.1900 64 bit (AMD64)]\n",
      "Cornac version: 1.15.4\n"
     ]
    }
   ],
   "source": [
    "import os\n",
    "import sys\n",
    "from collections import defaultdict\n",
    "\n",
    "import numpy as np\n",
    "import pandas as pd\n",
    "from sklearn.model_selection import train_test_split\n",
    "\n",
    "import cornac\n",
    "from cornac.utils import cache\n",
    "\n",
    "print(f\"System version: {sys.version}\")\n",
    "print(f\"Cornac version: {cornac.__version__}\")\n",
    "\n",
    "SEED = 42  # @param \n",
    "VERBOSE = False  # @param "
   ]
  },
  {
   "cell_type": "markdown",
   "id": "4311d3d9",
   "metadata": {},
   "source": [
    "2. Data"
   ]
  },
  {
   "cell_type": "code",
   "execution_count": 81,
   "id": "aa96a4cb",
   "metadata": {},
   "outputs": [
    {
     "name": "stdout",
     "output_type": "stream",
     "text": [
      "Data from http://files.grouplens.org/datasets/hetrec2011/hetrec2011-movielens-2k-v2.zip\n",
      "will be cached into C:\\Users\\ABIR°S ELITEBOOK\\.cornac\\hetrec2011-movielens-2k-v2.zip\n"
     ]
    },
    {
     "name": "stderr",
     "output_type": "stream",
     "text": [
      "18.9MB [00:27, 678kB/s]                                                                                                \n"
     ]
    },
    {
     "name": "stdout",
     "output_type": "stream",
     "text": [
      "Unzipping ...\n",
      "File cached!\n"
     ]
    },
    {
     "data": {
      "text/plain": [
       "'C:\\\\Users\\\\ABIR°S ELITEBOOK\\\\.cornac\\\\hetrec2011-movielens-2k-v2.zip'"
      ]
     },
     "execution_count": 81,
     "metadata": {},
     "output_type": "execute_result"
    }
   ],
   "source": [
    "cache(\"http://files.grouplens.org/datasets/hetrec2011/hetrec2011-movielens-2k-v2.zip\", unzip=True)"
   ]
  },
  {
   "cell_type": "markdown",
   "id": "7c41c04b",
   "metadata": {},
   "source": [
    "User-Movie ratings"
   ]
  },
  {
   "cell_type": "code",
   "execution_count": 87,
   "id": "cb08ef3d",
   "metadata": {},
   "outputs": [
    {
     "data": {
      "text/html": [
       "<div>\n",
       "<style scoped>\n",
       "    .dataframe tbody tr th:only-of-type {\n",
       "        vertical-align: middle;\n",
       "    }\n",
       "\n",
       "    .dataframe tbody tr th {\n",
       "        vertical-align: top;\n",
       "    }\n",
       "\n",
       "    .dataframe thead th {\n",
       "        text-align: right;\n",
       "    }\n",
       "</style>\n",
       "<table border=\"1\" class=\"dataframe\">\n",
       "  <thead>\n",
       "    <tr style=\"text-align: right;\">\n",
       "      <th></th>\n",
       "      <th>userId</th>\n",
       "      <th>movieId</th>\n",
       "      <th>rating</th>\n",
       "      <th>timestamp</th>\n",
       "    </tr>\n",
       "  </thead>\n",
       "  <tbody>\n",
       "    <tr>\n",
       "      <th>0</th>\n",
       "      <td>1</td>\n",
       "      <td>296</td>\n",
       "      <td>5.0</td>\n",
       "      <td>1147880044</td>\n",
       "    </tr>\n",
       "    <tr>\n",
       "      <th>1</th>\n",
       "      <td>1</td>\n",
       "      <td>306</td>\n",
       "      <td>3.5</td>\n",
       "      <td>1147868817</td>\n",
       "    </tr>\n",
       "    <tr>\n",
       "      <th>2</th>\n",
       "      <td>1</td>\n",
       "      <td>307</td>\n",
       "      <td>5.0</td>\n",
       "      <td>1147868828</td>\n",
       "    </tr>\n",
       "    <tr>\n",
       "      <th>3</th>\n",
       "      <td>1</td>\n",
       "      <td>665</td>\n",
       "      <td>5.0</td>\n",
       "      <td>1147878820</td>\n",
       "    </tr>\n",
       "    <tr>\n",
       "      <th>4</th>\n",
       "      <td>1</td>\n",
       "      <td>899</td>\n",
       "      <td>3.5</td>\n",
       "      <td>1147868510</td>\n",
       "    </tr>\n",
       "  </tbody>\n",
       "</table>\n",
       "</div>"
      ],
      "text/plain": [
       "   userId  movieId  rating   timestamp\n",
       "0  1       296      5.0     1147880044\n",
       "1  1       306      3.5     1147868817\n",
       "2  1       307      5.0     1147868828\n",
       "3  1       665      5.0     1147878820\n",
       "4  1       899      3.5     1147868510"
      ]
     },
     "execution_count": 87,
     "metadata": {},
     "output_type": "execute_result"
    }
   ],
   "source": [
    "user_ratedmovies_df = pd.read_csv(ratings_path)\n",
    "user_ratedmovies_df.head()\n"
   ]
  },
  {
   "cell_type": "markdown",
   "id": "c376160f",
   "metadata": {},
   "source": [
    "User-Movie Tags"
   ]
  },
  {
   "cell_type": "code",
   "execution_count": 86,
   "id": "b0e024b2",
   "metadata": {},
   "outputs": [
    {
     "data": {
      "text/html": [
       "<div>\n",
       "<style scoped>\n",
       "    .dataframe tbody tr th:only-of-type {\n",
       "        vertical-align: middle;\n",
       "    }\n",
       "\n",
       "    .dataframe tbody tr th {\n",
       "        vertical-align: top;\n",
       "    }\n",
       "\n",
       "    .dataframe thead th {\n",
       "        text-align: right;\n",
       "    }\n",
       "</style>\n",
       "<table border=\"1\" class=\"dataframe\">\n",
       "  <thead>\n",
       "    <tr style=\"text-align: right;\">\n",
       "      <th></th>\n",
       "      <th>tagId</th>\n",
       "      <th>tag</th>\n",
       "    </tr>\n",
       "  </thead>\n",
       "  <tbody>\n",
       "    <tr>\n",
       "      <th>0</th>\n",
       "      <td>1</td>\n",
       "      <td>007</td>\n",
       "    </tr>\n",
       "    <tr>\n",
       "      <th>1</th>\n",
       "      <td>2</td>\n",
       "      <td>007 (series)</td>\n",
       "    </tr>\n",
       "    <tr>\n",
       "      <th>2</th>\n",
       "      <td>3</td>\n",
       "      <td>18th century</td>\n",
       "    </tr>\n",
       "    <tr>\n",
       "      <th>3</th>\n",
       "      <td>4</td>\n",
       "      <td>1920s</td>\n",
       "    </tr>\n",
       "    <tr>\n",
       "      <th>4</th>\n",
       "      <td>5</td>\n",
       "      <td>1930s</td>\n",
       "    </tr>\n",
       "  </tbody>\n",
       "</table>\n",
       "</div>"
      ],
      "text/plain": [
       "   tagId           tag\n",
       "0  1      007         \n",
       "1  2      007 (series)\n",
       "2  3      18th century\n",
       "3  4      1920s       \n",
       "4  5      1930s       "
      ]
     },
     "execution_count": 86,
     "metadata": {},
     "output_type": "execute_result"
    }
   ],
   "source": [
    "user_taggedmovies_df = pd.read_csv(genome_tags_path)\n",
    "user_taggedmovies_df.head()"
   ]
  },
  {
   "cell_type": "markdown",
   "id": "2771af9c",
   "metadata": {},
   "source": [
    "Tags Info"
   ]
  },
  {
   "cell_type": "code",
   "execution_count": 88,
   "id": "114def38",
   "metadata": {},
   "outputs": [
    {
     "data": {
      "text/html": [
       "<div>\n",
       "<style scoped>\n",
       "    .dataframe tbody tr th:only-of-type {\n",
       "        vertical-align: middle;\n",
       "    }\n",
       "\n",
       "    .dataframe tbody tr th {\n",
       "        vertical-align: top;\n",
       "    }\n",
       "\n",
       "    .dataframe thead th {\n",
       "        text-align: right;\n",
       "    }\n",
       "</style>\n",
       "<table border=\"1\" class=\"dataframe\">\n",
       "  <thead>\n",
       "    <tr style=\"text-align: right;\">\n",
       "      <th></th>\n",
       "      <th>movieId</th>\n",
       "      <th>tagId</th>\n",
       "      <th>relevance</th>\n",
       "    </tr>\n",
       "  </thead>\n",
       "  <tbody>\n",
       "    <tr>\n",
       "      <th>0</th>\n",
       "      <td>1</td>\n",
       "      <td>1</td>\n",
       "      <td>0.02875</td>\n",
       "    </tr>\n",
       "    <tr>\n",
       "      <th>1</th>\n",
       "      <td>1</td>\n",
       "      <td>2</td>\n",
       "      <td>0.02375</td>\n",
       "    </tr>\n",
       "    <tr>\n",
       "      <th>2</th>\n",
       "      <td>1</td>\n",
       "      <td>3</td>\n",
       "      <td>0.06250</td>\n",
       "    </tr>\n",
       "    <tr>\n",
       "      <th>3</th>\n",
       "      <td>1</td>\n",
       "      <td>4</td>\n",
       "      <td>0.07575</td>\n",
       "    </tr>\n",
       "    <tr>\n",
       "      <th>4</th>\n",
       "      <td>1</td>\n",
       "      <td>5</td>\n",
       "      <td>0.14075</td>\n",
       "    </tr>\n",
       "  </tbody>\n",
       "</table>\n",
       "</div>"
      ],
      "text/plain": [
       "   movieId  tagId  relevance\n",
       "0  1        1      0.02875  \n",
       "1  1        2      0.02375  \n",
       "2  1        3      0.06250  \n",
       "3  1        4      0.07575  \n",
       "4  1        5      0.14075  "
      ]
     },
     "execution_count": 88,
     "metadata": {},
     "output_type": "execute_result"
    }
   ],
   "source": [
    "tag_df = pd.read_csv(genome_scores_path)\n",
    "tag_df.head()"
   ]
  },
  {
   "cell_type": "markdown",
   "id": "008fabc4",
   "metadata": {},
   "source": [
    "Movie Info"
   ]
  },
  {
   "cell_type": "code",
   "execution_count": 89,
   "id": "216780eb",
   "metadata": {},
   "outputs": [
    {
     "data": {
      "text/html": [
       "<div>\n",
       "<style scoped>\n",
       "    .dataframe tbody tr th:only-of-type {\n",
       "        vertical-align: middle;\n",
       "    }\n",
       "\n",
       "    .dataframe tbody tr th {\n",
       "        vertical-align: top;\n",
       "    }\n",
       "\n",
       "    .dataframe thead th {\n",
       "        text-align: right;\n",
       "    }\n",
       "</style>\n",
       "<table border=\"1\" class=\"dataframe\">\n",
       "  <thead>\n",
       "    <tr style=\"text-align: right;\">\n",
       "      <th></th>\n",
       "      <th>movieId</th>\n",
       "      <th>title</th>\n",
       "      <th>genres</th>\n",
       "    </tr>\n",
       "  </thead>\n",
       "  <tbody>\n",
       "    <tr>\n",
       "      <th>0</th>\n",
       "      <td>1</td>\n",
       "      <td>Toy Story (1995)</td>\n",
       "      <td>Adventure|Animation|Children|Comedy|Fantasy</td>\n",
       "    </tr>\n",
       "    <tr>\n",
       "      <th>1</th>\n",
       "      <td>2</td>\n",
       "      <td>Jumanji (1995)</td>\n",
       "      <td>Adventure|Children|Fantasy</td>\n",
       "    </tr>\n",
       "    <tr>\n",
       "      <th>2</th>\n",
       "      <td>3</td>\n",
       "      <td>Grumpier Old Men (1995)</td>\n",
       "      <td>Comedy|Romance</td>\n",
       "    </tr>\n",
       "    <tr>\n",
       "      <th>3</th>\n",
       "      <td>4</td>\n",
       "      <td>Waiting to Exhale (1995)</td>\n",
       "      <td>Comedy|Drama|Romance</td>\n",
       "    </tr>\n",
       "    <tr>\n",
       "      <th>4</th>\n",
       "      <td>5</td>\n",
       "      <td>Father of the Bride Part II (1995)</td>\n",
       "      <td>Comedy</td>\n",
       "    </tr>\n",
       "  </tbody>\n",
       "</table>\n",
       "</div>"
      ],
      "text/plain": [
       "   movieId                               title  \\\n",
       "0  1        Toy Story (1995)                     \n",
       "1  2        Jumanji (1995)                       \n",
       "2  3        Grumpier Old Men (1995)              \n",
       "3  4        Waiting to Exhale (1995)             \n",
       "4  5        Father of the Bride Part II (1995)   \n",
       "\n",
       "                                        genres  \n",
       "0  Adventure|Animation|Children|Comedy|Fantasy  \n",
       "1  Adventure|Children|Fantasy                   \n",
       "2  Comedy|Romance                               \n",
       "3  Comedy|Drama|Romance                         \n",
       "4  Comedy                                       "
      ]
     },
     "execution_count": 89,
     "metadata": {},
     "output_type": "execute_result"
    }
   ],
   "source": [
    "movie_df = pd.read_csv(movies_path)\n",
    "movie_df.head()"
   ]
  },
  {
   "cell_type": "markdown",
   "id": "491ec274",
   "metadata": {},
   "source": [
    "Data Statistics"
   ]
  },
  {
   "cell_type": "code",
   "execution_count": 97,
   "id": "f8be5622",
   "metadata": {},
   "outputs": [
    {
     "name": "stdout",
     "output_type": "stream",
     "text": [
      "Number of users: 162541\n",
      "Number of movies: 59047\n",
      "Number of ratings: 25000095\n",
      "------------------------------\n",
      "Number of tags: 1128\n",
      "Number of tag assignments: 1128\n",
      "Number of tagged movies: 1128\n"
     ]
    }
   ],
   "source": [
    "n_users = user_ratedmovies_df.userId.nunique()\n",
    "n_movies = user_ratedmovies_df.movieId.nunique()\n",
    "n_tags = tag_df.tagId.nunique()\n",
    "\n",
    "print(\"Number of users:\", n_users)\n",
    "print(\"Number of movies:\", n_movies)\n",
    "print(\"Number of ratings:\", len(user_ratedmovies_df))\n",
    "print(\"-\" * 30)\n",
    "print(\"Number of tags:\", n_tags)\n",
    "print(\"Number of tag assignments:\", len(user_taggedmovies_df))\n",
    "print(\"Number of tagged movies:\", user_taggedmovies_df.tag.nunique())"
   ]
  },
  {
   "cell_type": "markdown",
   "id": "9bce5a2f",
   "metadata": {},
   "source": [
    "Data Splitting"
   ]
  },
  {
   "cell_type": "code",
   "execution_count": 98,
   "id": "c8137adb",
   "metadata": {},
   "outputs": [
    {
     "name": "stdout",
     "output_type": "stream",
     "text": [
      "Training size: 20000076\n",
      "Test size: 5000019\n"
     ]
    }
   ],
   "source": [
    "train_df, test_df = train_test_split(user_ratedmovies_df, test_size=0.2, random_state=SEED)\n",
    "print(\"Training size:\", len(train_df))\n",
    "print(\"Test size:\", len(test_df))"
   ]
  },
  {
   "cell_type": "markdown",
   "id": "0b75c5f7",
   "metadata": {},
   "source": [
    "3. Traditional Matrix Factorization"
   ]
  },
  {
   "cell_type": "code",
   "execution_count": 100,
   "id": "ccdbed27",
   "metadata": {},
   "outputs": [
    {
     "name": "stdout",
     "output_type": "stream",
     "text": [
      "   |   RMSE | Train (s) | Test (s)\n",
      "-- + ------ + --------- + --------\n",
      "MF | 0.7798 |   48.7424 | 118.1084\n",
      "\n"
     ]
    }
   ],
   "source": [
    "eval_method = cornac.eval_methods.BaseMethod.from_splits(\n",
    "  train_data=list(train_df.itertuples(index=False)), \n",
    "  test_data=list(test_df.itertuples(index=False)),\n",
    "  exclude_unknowns=False, \n",
    "  verbose=VERBOSE,\n",
    "  seed=SEED,\n",
    ")\n",
    "\n",
    "mf = cornac.models.MF(\n",
    "  k=10, \n",
    "  max_iter=20, \n",
    "  learning_rate=0.01, \n",
    "  lambda_reg=0.02, \n",
    "  use_bias=True,\n",
    "  verbose=VERBOSE, seed=SEED,\n",
    ")\n",
    "\n",
    "test_result, _ = eval_method.evaluate(\n",
    "  model=mf, metrics=[cornac.metrics.RMSE()], user_based=False\n",
    ")\n",
    "print(test_result)"
   ]
  },
  {
   "cell_type": "markdown",
   "id": "cd5a40c4",
   "metadata": {},
   "source": [
    "## 7.Explainable Recommendations"
   ]
  },
  {
   "cell_type": "markdown",
   "id": "a25ad4da",
   "metadata": {},
   "source": [
    "1. Setup"
   ]
  },
  {
   "cell_type": "code",
   "execution_count": 108,
   "id": "f6ec513b",
   "metadata": {},
   "outputs": [
    {
     "name": "stdout",
     "output_type": "stream",
     "text": [
      "System version: 3.6.4 (v3.6.4:d48eceb, Dec 19 2017, 06:54:40) [MSC v.1900 64 bit (AMD64)]\n",
      "Cornac version: 1.15.4\n"
     ]
    }
   ],
   "source": [
    "import os\n",
    "import sys\n",
    "from collections import defaultdict\n",
    "\n",
    "import numpy as np\n",
    "import pandas as pd\n",
    "import seaborn as sns\n",
    "import matplotlib.pyplot as plt\n",
    "%matplotlib inline\n",
    "\n",
    "import cornac\n",
    "from cornac.utils import cache\n",
    "from cornac.datasets import amazon_toy\n",
    "from cornac.eval_methods import RatioSplit\n",
    "from cornac.data import Reader, SentimentModality\n",
    "from cornac.models import EFM, MTER, NMF, BPR\n",
    "\n",
    "print(f\"System version: {sys.version}\")\n",
    "print(f\"Cornac version: {cornac.__version__}\")\n",
    "\n",
    "SEED = 42\n",
    "VERBOSE = False"
   ]
  },
  {
   "cell_type": "markdown",
   "id": "980b504d",
   "metadata": {},
   "source": [
    "2. Aspect-Level Sentiments"
   ]
  },
  {
   "cell_type": "code",
   "execution_count": 109,
   "id": "debbe46e",
   "metadata": {},
   "outputs": [
    {
     "name": "stdout",
     "output_type": "stream",
     "text": [
      "Data from https://github.com/PreferredAI/static-data/raw/main/cornac/datasets/amazon_toy/sentiment.zip\n",
      "will be cached into C:\\Users\\ABIR°S ELITEBOOK\\.cornac\\amazon_toy/sentiment.txt\n"
     ]
    },
    {
     "name": "stderr",
     "output_type": "stream",
     "text": [
      "3.12MB [00:03, 900kB/s]                                                                                                \n"
     ]
    },
    {
     "name": "stdout",
     "output_type": "stream",
     "text": [
      "Unzipping ...\n",
      "File cached!\n"
     ]
    },
    {
     "data": {
      "text/html": [
       "<div>\n",
       "<style scoped>\n",
       "    .dataframe tbody tr th:only-of-type {\n",
       "        vertical-align: middle;\n",
       "    }\n",
       "\n",
       "    .dataframe tbody tr th {\n",
       "        vertical-align: top;\n",
       "    }\n",
       "\n",
       "    .dataframe thead th {\n",
       "        text-align: right;\n",
       "    }\n",
       "</style>\n",
       "<table border=\"1\" class=\"dataframe\">\n",
       "  <thead>\n",
       "    <tr style=\"text-align: right;\">\n",
       "      <th></th>\n",
       "      <th>user</th>\n",
       "      <th>item</th>\n",
       "      <th>aspect-level sentiment</th>\n",
       "    </tr>\n",
       "  </thead>\n",
       "  <tbody>\n",
       "    <tr>\n",
       "      <th>0</th>\n",
       "      <td>A012468118FTQAINEI0OQ</td>\n",
       "      <td>B00005BZM6</td>\n",
       "      <td>[(paint, great, 1)]</td>\n",
       "    </tr>\n",
       "    <tr>\n",
       "      <th>1</th>\n",
       "      <td>A012468118FTQAINEI0OQ</td>\n",
       "      <td>B001HA9JOA</td>\n",
       "      <td>[(game, great, 1), (money, worth, 1)]</td>\n",
       "    </tr>\n",
       "    <tr>\n",
       "      <th>2</th>\n",
       "      <td>A012468118FTQAINEI0OQ</td>\n",
       "      <td>B002BY2BVE</td>\n",
       "      <td>[(paint, fun, 1), (item, well, 0)]</td>\n",
       "    </tr>\n",
       "    <tr>\n",
       "      <th>3</th>\n",
       "      <td>A012468118FTQAINEI0OQ</td>\n",
       "      <td>B007U7M0LI</td>\n",
       "      <td>[(price, sturdy, 1)]</td>\n",
       "    </tr>\n",
       "    <tr>\n",
       "      <th>4</th>\n",
       "      <td>A012468118FTQAINEI0OQ</td>\n",
       "      <td>B00804BCO6</td>\n",
       "      <td>[(gift, great, 1)]</td>\n",
       "    </tr>\n",
       "    <tr>\n",
       "      <th>5</th>\n",
       "      <td>A0182108CPDLPRCXQUZQ</td>\n",
       "      <td>B002IUNLLK</td>\n",
       "      <td>[(toy, best, 1), (heavy, cool, 1)]</td>\n",
       "    </tr>\n",
       "    <tr>\n",
       "      <th>6</th>\n",
       "      <td>A0182108CPDLPRCXQUZQ</td>\n",
       "      <td>B007WYU7R8</td>\n",
       "      <td>[(toy, great, 1)]</td>\n",
       "    </tr>\n",
       "    <tr>\n",
       "      <th>7</th>\n",
       "      <td>A0182108CPDLPRCXQUZQ</td>\n",
       "      <td>B00ABY8WVO</td>\n",
       "      <td>[(toy, love, 1)]</td>\n",
       "    </tr>\n",
       "    <tr>\n",
       "      <th>8</th>\n",
       "      <td>A0182108CPDLPRCXQUZQ</td>\n",
       "      <td>B00AFP86KG</td>\n",
       "      <td>[(toy, love, 1)]</td>\n",
       "    </tr>\n",
       "    <tr>\n",
       "      <th>9</th>\n",
       "      <td>A0182108CPDLPRCXQUZQ</td>\n",
       "      <td>B00BJT861Q</td>\n",
       "      <td>[(figure, well, 1), (toy, well, 1)]</td>\n",
       "    </tr>\n",
       "  </tbody>\n",
       "</table>\n",
       "</div>"
      ],
      "text/plain": [
       "                    user        item                 aspect-level sentiment\n",
       "0  A012468118FTQAINEI0OQ  B00005BZM6  [(paint, great, 1)]                  \n",
       "1  A012468118FTQAINEI0OQ  B001HA9JOA  [(game, great, 1), (money, worth, 1)]\n",
       "2  A012468118FTQAINEI0OQ  B002BY2BVE  [(paint, fun, 1), (item, well, 0)]   \n",
       "3  A012468118FTQAINEI0OQ  B007U7M0LI  [(price, sturdy, 1)]                 \n",
       "4  A012468118FTQAINEI0OQ  B00804BCO6  [(gift, great, 1)]                   \n",
       "5  A0182108CPDLPRCXQUZQ   B002IUNLLK  [(toy, best, 1), (heavy, cool, 1)]   \n",
       "6  A0182108CPDLPRCXQUZQ   B007WYU7R8  [(toy, great, 1)]                    \n",
       "7  A0182108CPDLPRCXQUZQ   B00ABY8WVO  [(toy, love, 1)]                     \n",
       "8  A0182108CPDLPRCXQUZQ   B00AFP86KG  [(toy, love, 1)]                     \n",
       "9  A0182108CPDLPRCXQUZQ   B00BJT861Q  [(figure, well, 1), (toy, well, 1)]  "
      ]
     },
     "execution_count": 109,
     "metadata": {},
     "output_type": "execute_result"
    }
   ],
   "source": [
    "sentiment_fpath = cache(url='https://github.com/PreferredAI/static-data/raw/main/cornac/datasets/amazon_toy/sentiment.zip',\n",
    "                        unzip=True, relative_path='amazon_toy/sentiment.txt')\n",
    "sentiment = Reader().read(sentiment_fpath, fmt='UITup', sep=',', tup_sep=':')\n",
    "samples = sentiment[:10]\n",
    "pd.DataFrame.from_dict({\n",
    "  \"user\": [tup[0] for tup in samples],\n",
    "  \"item\": [tup[1] for tup in samples],\n",
    "  \"aspect-level sentiment\": [tup[2] for tup in samples]\n",
    "})"
   ]
  },
  {
   "cell_type": "code",
   "execution_count": 110,
   "id": "a046241d",
   "metadata": {},
   "outputs": [
    {
     "name": "stdout",
     "output_type": "stream",
     "text": [
      "Data from https://github.com/PreferredAI/static-data/raw/main/cornac/datasets/amazon_toy/rating.zip\n",
      "will be cached into C:\\Users\\ABIR°S ELITEBOOK\\.cornac\\amazon_toy/rating.txt\n"
     ]
    },
    {
     "name": "stderr",
     "output_type": "stream",
     "text": [
      "2.32MB [00:02, 952kB/s]                                                                                                \n"
     ]
    },
    {
     "name": "stdout",
     "output_type": "stream",
     "text": [
      "Unzipping ...\n",
      "File cached!\n",
      "Total number of aspects: 429\n",
      "Total number of opinions: 2604\n"
     ]
    }
   ],
   "source": [
    "# Load rating and sentiment information\n",
    "rating_fpath = cache(url='https://github.com/PreferredAI/static-data/raw/main/cornac/datasets/amazon_toy/rating.zip',\n",
    "                     unzip=True, relative_path='amazon_toy/rating.txt')\n",
    "rating = Reader(min_item_freq=20).read(rating_fpath, fmt='UIRT', sep=',')\n",
    "\n",
    "# Use Sentiment Modality for aspect-level sentiment data\n",
    "sentiment_modality = SentimentModality(data=sentiment)\n",
    "\n",
    "rs = RatioSplit(\n",
    "    data=rating,\n",
    "    test_size=0.2,\n",
    "    exclude_unknowns=True,\n",
    "    sentiment=sentiment_modality,\n",
    "    verbose=VERBOSE,\n",
    "    seed=SEED,\n",
    ")\n",
    "print(\"Total number of aspects:\", rs.sentiment.num_aspects)\n",
    "print(\"Total number of opinions:\", rs.sentiment.num_opinions)\n",
    "\n",
    "id_aspect_map = {v:k for k, v in rs.sentiment.aspect_id_map.items()}\n",
    "id_opinion_map = {v:k for k, v in rs.sentiment.opinion_id_map.items()}"
   ]
  },
  {
   "cell_type": "markdown",
   "id": "2dea8d50",
   "metadata": {},
   "source": [
    "3. Explicit Factor Model (EFM)"
   ]
  },
  {
   "cell_type": "code",
   "execution_count": 111,
   "id": "f4a91b94",
   "metadata": {},
   "outputs": [],
   "source": [
    "efm = EFM()\n",
    "efm.train_set = rs.train_set\n",
    "_, X, Y = efm._build_matrices(rs.train_set)"
   ]
  },
  {
   "cell_type": "markdown",
   "id": "70944779",
   "metadata": {},
   "source": [
    "4. User-Aspect Attention Matrix"
   ]
  },
  {
   "cell_type": "code",
   "execution_count": 112,
   "id": "a3e70616",
   "metadata": {},
   "outputs": [
    {
     "data": {
      "text/html": [
       "<div>\n",
       "<style scoped>\n",
       "    .dataframe tbody tr th:only-of-type {\n",
       "        vertical-align: middle;\n",
       "    }\n",
       "\n",
       "    .dataframe tbody tr th {\n",
       "        vertical-align: top;\n",
       "    }\n",
       "\n",
       "    .dataframe thead th {\n",
       "        text-align: right;\n",
       "    }\n",
       "</style>\n",
       "<table border=\"1\" class=\"dataframe\">\n",
       "  <thead>\n",
       "    <tr style=\"text-align: right;\">\n",
       "      <th></th>\n",
       "      <th>paint</th>\n",
       "      <th>game</th>\n",
       "      <th>money</th>\n",
       "      <th>item</th>\n",
       "      <th>price</th>\n",
       "    </tr>\n",
       "  </thead>\n",
       "  <tbody>\n",
       "    <tr>\n",
       "      <th>User 1</th>\n",
       "      <td>0.0</td>\n",
       "      <td>0.000000</td>\n",
       "      <td>0.0</td>\n",
       "      <td>0.000000</td>\n",
       "      <td>2.848469</td>\n",
       "    </tr>\n",
       "    <tr>\n",
       "      <th>User 2</th>\n",
       "      <td>0.0</td>\n",
       "      <td>0.000000</td>\n",
       "      <td>0.0</td>\n",
       "      <td>0.000000</td>\n",
       "      <td>0.000000</td>\n",
       "    </tr>\n",
       "    <tr>\n",
       "      <th>User 3</th>\n",
       "      <td>0.0</td>\n",
       "      <td>4.620593</td>\n",
       "      <td>0.0</td>\n",
       "      <td>2.848469</td>\n",
       "      <td>4.620593</td>\n",
       "    </tr>\n",
       "    <tr>\n",
       "      <th>User 4</th>\n",
       "      <td>0.0</td>\n",
       "      <td>4.856110</td>\n",
       "      <td>0.0</td>\n",
       "      <td>0.000000</td>\n",
       "      <td>0.000000</td>\n",
       "    </tr>\n",
       "    <tr>\n",
       "      <th>User 5</th>\n",
       "      <td>0.0</td>\n",
       "      <td>0.000000</td>\n",
       "      <td>0.0</td>\n",
       "      <td>0.000000</td>\n",
       "      <td>0.000000</td>\n",
       "    </tr>\n",
       "  </tbody>\n",
       "</table>\n",
       "</div>"
      ],
      "text/plain": [
       "        paint      game  money      item     price\n",
       "User 1  0.0    0.000000  0.0    0.000000  2.848469\n",
       "User 2  0.0    0.000000  0.0    0.000000  0.000000\n",
       "User 3  0.0    4.620593  0.0    2.848469  4.620593\n",
       "User 4  0.0    4.856110  0.0    0.000000  0.000000\n",
       "User 5  0.0    0.000000  0.0    0.000000  0.000000"
      ]
     },
     "execution_count": 112,
     "metadata": {},
     "output_type": "execute_result"
    }
   ],
   "source": [
    "n_users = 5\n",
    "n_aspects = 5\n",
    "pd.DataFrame(\n",
    "  data=X[:n_users, :n_aspects].A,\n",
    "  index=[f\"User {u + 1}\" for u in np.arange(n_users)],\n",
    "  columns=[f\"{id_aspect_map[i]}\" for i in np.arange(n_aspects)]\n",
    ")"
   ]
  },
  {
   "cell_type": "markdown",
   "id": "f014c8b4",
   "metadata": {},
   "source": [
    "5. Item-Aspect Quality Matrix"
   ]
  },
  {
   "cell_type": "code",
   "execution_count": 113,
   "id": "c4febb91",
   "metadata": {},
   "outputs": [
    {
     "data": {
      "text/html": [
       "<div>\n",
       "<style scoped>\n",
       "    .dataframe tbody tr th:only-of-type {\n",
       "        vertical-align: middle;\n",
       "    }\n",
       "\n",
       "    .dataframe tbody tr th {\n",
       "        vertical-align: top;\n",
       "    }\n",
       "\n",
       "    .dataframe thead th {\n",
       "        text-align: right;\n",
       "    }\n",
       "</style>\n",
       "<table border=\"1\" class=\"dataframe\">\n",
       "  <thead>\n",
       "    <tr style=\"text-align: right;\">\n",
       "      <th></th>\n",
       "      <th>paint</th>\n",
       "      <th>game</th>\n",
       "      <th>money</th>\n",
       "      <th>item</th>\n",
       "      <th>price</th>\n",
       "    </tr>\n",
       "  </thead>\n",
       "  <tbody>\n",
       "    <tr>\n",
       "      <th>Item 1</th>\n",
       "      <td>3.924234</td>\n",
       "      <td>0.000000</td>\n",
       "      <td>3.000000</td>\n",
       "      <td>0.000000</td>\n",
       "      <td>3.924234</td>\n",
       "    </tr>\n",
       "    <tr>\n",
       "      <th>Item 2</th>\n",
       "      <td>0.000000</td>\n",
       "      <td>0.000000</td>\n",
       "      <td>0.000000</td>\n",
       "      <td>4.523188</td>\n",
       "      <td>4.523188</td>\n",
       "    </tr>\n",
       "    <tr>\n",
       "      <th>Item 3</th>\n",
       "      <td>0.000000</td>\n",
       "      <td>4.523188</td>\n",
       "      <td>0.000000</td>\n",
       "      <td>0.000000</td>\n",
       "      <td>0.000000</td>\n",
       "    </tr>\n",
       "    <tr>\n",
       "      <th>Item 4</th>\n",
       "      <td>0.000000</td>\n",
       "      <td>0.000000</td>\n",
       "      <td>0.000000</td>\n",
       "      <td>0.000000</td>\n",
       "      <td>3.924234</td>\n",
       "    </tr>\n",
       "    <tr>\n",
       "      <th>Item 5</th>\n",
       "      <td>3.924234</td>\n",
       "      <td>0.000000</td>\n",
       "      <td>3.924234</td>\n",
       "      <td>4.523188</td>\n",
       "      <td>4.523188</td>\n",
       "    </tr>\n",
       "  </tbody>\n",
       "</table>\n",
       "</div>"
      ],
      "text/plain": [
       "           paint      game     money      item     price\n",
       "Item 1  3.924234  0.000000  3.000000  0.000000  3.924234\n",
       "Item 2  0.000000  0.000000  0.000000  4.523188  4.523188\n",
       "Item 3  0.000000  4.523188  0.000000  0.000000  0.000000\n",
       "Item 4  0.000000  0.000000  0.000000  0.000000  3.924234\n",
       "Item 5  3.924234  0.000000  3.924234  4.523188  4.523188"
      ]
     },
     "execution_count": 113,
     "metadata": {},
     "output_type": "execute_result"
    }
   ],
   "source": [
    "n_items = 5\n",
    "n_aspects = 5\n",
    "pd.DataFrame(\n",
    "  data=Y[:n_items, :n_aspects].A,\n",
    "  index=[f\"Item {u + 1}\" for u in np.arange(n_items)],\n",
    "  columns=[f\"{id_aspect_map[i]}\" for i in np.arange(n_aspects)]\n",
    ")"
   ]
  },
  {
   "cell_type": "markdown",
   "id": "d16be38a",
   "metadata": {},
   "source": [
    "6. Optimization"
   ]
  },
  {
   "cell_type": "code",
   "execution_count": 114,
   "id": "478f6c33",
   "metadata": {},
   "outputs": [
    {
     "name": "stdout",
     "output_type": "stream",
     "text": [
      "\n",
      "TEST:\n",
      "...\n",
      "    |   RMSE |    AUC | NDCG@50 | Train (s) | Test (s)\n",
      "--- + ------ + ------ + ------- + --------- + --------\n",
      "NMF | 0.8027 | 0.5418 |  0.0093 |    6.8360 |  21.9615\n",
      "EFM | 0.7315 | 0.5536 |  0.0105 |   21.9501 |  17.4458\n",
      "\n"
     ]
    }
   ],
   "source": [
    "efm = EFM(\n",
    "  num_explicit_factors=40,\n",
    "  num_latent_factors=60,\n",
    "  num_most_cared_aspects=15,\n",
    "  rating_scale=5.0,\n",
    "  alpha=0.85,\n",
    "  lambda_x=1,\n",
    "  lambda_y=1,\n",
    "  lambda_u=0.01,\n",
    "  lambda_h=0.01,\n",
    "  lambda_v=0.01,\n",
    "  max_iter=100,\n",
    "  verbose=VERBOSE,\n",
    "  seed=SEED,\n",
    ")\n",
    "\n",
    "# compare to baseline NMF\n",
    "nmf = NMF(k=100, max_iter=100, verbose=VERBOSE, seed=SEED)\n",
    "\n",
    "eval_metrics = [\n",
    "  cornac.metrics.RMSE(),\n",
    "  cornac.metrics.NDCG(k=50),\n",
    "  cornac.metrics.AUC()\n",
    "]\n",
    "\n",
    "cornac.Experiment(\n",
    "  eval_method=rs, models=[nmf, efm], metrics=eval_metrics\n",
    ").run()"
   ]
  },
  {
   "cell_type": "markdown",
   "id": "d99e7c94",
   "metadata": {},
   "source": [
    "7. Refining Ranking Prediction"
   ]
  },
  {
   "cell_type": "code",
   "execution_count": 115,
   "id": "f9e696ed",
   "metadata": {},
   "outputs": [
    {
     "name": "stdout",
     "output_type": "stream",
     "text": [
      "\n",
      "TEST:\n",
      "...\n",
      "    |    AUC | NDCG@50 | Train (s) | Test (s)\n",
      "--- + ------ + ------- + --------- + --------\n",
      "EFM | 0.5549 |  0.0107 |    0.0000 |  18.5062\n",
      "\n"
     ]
    }
   ],
   "source": [
    "alpha = 0.9 # alpha value in range [0,1]\n",
    "num_most_cared_aspects = 100\n",
    "\n",
    "eval_metrics = [\n",
    "  cornac.metrics.NDCG(k=50),\n",
    "  cornac.metrics.AUC()\n",
    "]\n",
    "\n",
    "cornac.Experiment(\n",
    "  eval_method=rs,\n",
    "  models=[\n",
    "    EFM(\n",
    "      alpha=alpha,\n",
    "      num_most_cared_aspects=num_most_cared_aspects,\n",
    "      init_params={'U1': efm.U1, 'U2': efm.U2, 'H1': efm.H1, 'H2': efm.H2, 'V': efm.V},\n",
    "      trainable=False,\n",
    "      verbose=VERBOSE,\n",
    "      seed=SEED\n",
    "    )\n",
    "  ],\n",
    "  metrics=eval_metrics\n",
    ").run()"
   ]
  },
  {
   "cell_type": "markdown",
   "id": "5e3e822b",
   "metadata": {},
   "source": [
    "8. Recommendation Explanation with EFM"
   ]
  },
  {
   "cell_type": "code",
   "execution_count": 116,
   "id": "473dd296",
   "metadata": {},
   "outputs": [
    {
     "data": {
      "text/html": [
       "<div>\n",
       "<style scoped>\n",
       "    .dataframe tbody tr th:only-of-type {\n",
       "        vertical-align: middle;\n",
       "    }\n",
       "\n",
       "    .dataframe tbody tr th {\n",
       "        vertical-align: top;\n",
       "    }\n",
       "\n",
       "    .dataframe thead th {\n",
       "        text-align: right;\n",
       "    }\n",
       "</style>\n",
       "<table border=\"1\" class=\"dataframe\">\n",
       "  <thead>\n",
       "    <tr style=\"text-align: right;\">\n",
       "      <th></th>\n",
       "      <th>aspect</th>\n",
       "      <th>user_aspect_attention_score</th>\n",
       "      <th>item_aspect_quality_score</th>\n",
       "    </tr>\n",
       "  </thead>\n",
       "  <tbody>\n",
       "    <tr>\n",
       "      <th>0</th>\n",
       "      <td>toy</td>\n",
       "      <td>4.061583</td>\n",
       "      <td>4.679121</td>\n",
       "    </tr>\n",
       "    <tr>\n",
       "      <th>1</th>\n",
       "      <td>pieces</td>\n",
       "      <td>3.610667</td>\n",
       "      <td>3.844794</td>\n",
       "    </tr>\n",
       "    <tr>\n",
       "      <th>2</th>\n",
       "      <td>game</td>\n",
       "      <td>3.571417</td>\n",
       "      <td>4.211303</td>\n",
       "    </tr>\n",
       "    <tr>\n",
       "      <th>3</th>\n",
       "      <td>furby</td>\n",
       "      <td>3.571003</td>\n",
       "      <td>4.787230</td>\n",
       "    </tr>\n",
       "    <tr>\n",
       "      <th>4</th>\n",
       "      <td>doll</td>\n",
       "      <td>3.480350</td>\n",
       "      <td>4.326975</td>\n",
       "    </tr>\n",
       "    <tr>\n",
       "      <th>5</th>\n",
       "      <td>quality</td>\n",
       "      <td>3.468947</td>\n",
       "      <td>3.952712</td>\n",
       "    </tr>\n",
       "    <tr>\n",
       "      <th>6</th>\n",
       "      <td>really</td>\n",
       "      <td>3.368340</td>\n",
       "      <td>4.586976</td>\n",
       "    </tr>\n",
       "    <tr>\n",
       "      <th>7</th>\n",
       "      <td>gift</td>\n",
       "      <td>3.364289</td>\n",
       "      <td>4.410736</td>\n",
       "    </tr>\n",
       "    <tr>\n",
       "      <th>8</th>\n",
       "      <td>also</td>\n",
       "      <td>3.360865</td>\n",
       "      <td>4.076250</td>\n",
       "    </tr>\n",
       "    <tr>\n",
       "      <th>9</th>\n",
       "      <td>puzzle</td>\n",
       "      <td>3.294265</td>\n",
       "      <td>4.726531</td>\n",
       "    </tr>\n",
       "  </tbody>\n",
       "</table>\n",
       "</div>"
      ],
      "text/plain": [
       "    aspect  user_aspect_attention_score  item_aspect_quality_score\n",
       "0  toy      4.061583                     4.679121                 \n",
       "1  pieces   3.610667                     3.844794                 \n",
       "2  game     3.571417                     4.211303                 \n",
       "3  furby    3.571003                     4.787230                 \n",
       "4  doll     3.480350                     4.326975                 \n",
       "5  quality  3.468947                     3.952712                 \n",
       "6  really   3.368340                     4.586976                 \n",
       "7  gift     3.364289                     4.410736                 \n",
       "8  also     3.360865                     4.076250                 \n",
       "9  puzzle   3.294265                     4.726531                 "
      ]
     },
     "execution_count": 116,
     "metadata": {},
     "output_type": "execute_result"
    }
   ],
   "source": [
    "UIDX = 1\n",
    "IIDX = 4\n",
    "num_top_cared_aspects = 10\n",
    "\n",
    "id_aspect_map = {v:k for k, v in rs.sentiment.aspect_id_map.items()}\n",
    "\n",
    "predicted_user_aspect_scores = np.dot(efm.U1[UIDX], efm.V.T)\n",
    "predicted_item_aspect_scores = np.dot(efm.U2[IIDX], efm.V.T)\n",
    "\n",
    "top_cared_aspect_ids = (-predicted_user_aspect_scores).argsort()[:num_top_cared_aspects]\n",
    "top_cared_aspects = [id_aspect_map[aid] for aid in top_cared_aspect_ids]\n",
    "pd.DataFrame.from_dict({\n",
    "  \"aspect\": top_cared_aspects,\n",
    "  \"user_aspect_attention_score\": predicted_user_aspect_scores[top_cared_aspect_ids],\n",
    "  \"item_aspect_quality_score\": predicted_item_aspect_scores[top_cared_aspect_ids]\n",
    "})\n"
   ]
  },
  {
   "cell_type": "code",
   "execution_count": 117,
   "id": "0967440d",
   "metadata": {},
   "outputs": [
    {
     "name": "stdout",
     "output_type": "stream",
     "text": [
      "EFM explanation:\n",
      "You might interested in [furby], on which this product perform well. \n",
      "You might interested in [pieces], on which this product perform poorly.\n"
     ]
    }
   ],
   "source": [
    "perform_well_aspect = top_cared_aspects[predicted_item_aspect_scores[top_cared_aspect_ids].argmax()]\n",
    "perform_poorly_aspect = top_cared_aspects[predicted_item_aspect_scores[top_cared_aspect_ids].argmin()]\n",
    "\n",
    "explanation = \\\n",
    "f\"You might interested in [{perform_well_aspect}], on which this product perform well. \\n\\\n",
    "You might interested in [{perform_poorly_aspect}], on which this product perform poorly.\"\n",
    "print(\"EFM explanation:\")\n",
    "print(explanation)"
   ]
  },
  {
   "cell_type": "markdown",
   "id": "2bc92933",
   "metadata": {},
   "source": [
    "9. Multi-Task Explainable Recommendation (MTER)"
   ]
  },
  {
   "cell_type": "markdown",
   "id": "217ebb41",
   "metadata": {},
   "source": [
    "Tensor#1: User by Item by Aspect ( 𝐗 )"
   ]
  },
  {
   "cell_type": "markdown",
   "id": "aef54a5d",
   "metadata": {},
   "source": [
    "Optimization"
   ]
  },
  {
   "cell_type": "code",
   "execution_count": 118,
   "id": "725a782b",
   "metadata": {},
   "outputs": [
    {
     "name": "stdout",
     "output_type": "stream",
     "text": [
      "\n",
      "TEST:\n",
      "...\n",
      "     |    AUC | NDCG@50 | Train (s) | Test (s)\n",
      "---- + ------ + ------- + --------- + --------\n",
      "BPR  | 0.6271 |  0.0314 |    1.2736 |  16.2731\n",
      "MTER | 0.7184 |  0.0356 |  114.0390 |   7.5532\n",
      "\n"
     ]
    }
   ],
   "source": [
    "mter = MTER(\n",
    "  n_user_factors=10,\n",
    "  n_item_factors=10,\n",
    "  n_aspect_factors=10,\n",
    "  n_opinion_factors=10,\n",
    "  n_bpr_samples=1000,\n",
    "  n_element_samples=50,\n",
    "  lambda_reg=0.1,\n",
    "  lambda_bpr=10,\n",
    "  max_iter=3000,\n",
    "  lr=0.5,\n",
    "  verbose=VERBOSE,\n",
    "  seed=SEED,\n",
    ")\n",
    "\n",
    "# compare to baseline BPR\n",
    "bpr = BPR(k=10, verbose=VERBOSE, seed=SEED)\n",
    "\n",
    "eval_metrics = [\n",
    "  cornac.metrics.NDCG(k=50),\n",
    "  cornac.metrics.AUC()\n",
    "]\n",
    "\n",
    "# Instantiate and run an experiment\n",
    "cornac.Experiment(\n",
    "  eval_method=rs, models=[bpr, mter], metrics=eval_metrics,\n",
    ").run()"
   ]
  },
  {
   "cell_type": "markdown",
   "id": "63e595c5",
   "metadata": {},
   "source": [
    "10. Recommendation Explanation with MTER"
   ]
  },
  {
   "cell_type": "code",
   "execution_count": 119,
   "id": "dbef76aa",
   "metadata": {},
   "outputs": [
    {
     "data": {
      "text/html": [
       "<div>\n",
       "<style scoped>\n",
       "    .dataframe tbody tr th:only-of-type {\n",
       "        vertical-align: middle;\n",
       "    }\n",
       "\n",
       "    .dataframe tbody tr th {\n",
       "        vertical-align: top;\n",
       "    }\n",
       "\n",
       "    .dataframe thead th {\n",
       "        text-align: right;\n",
       "    }\n",
       "</style>\n",
       "<table border=\"1\" class=\"dataframe\">\n",
       "  <thead>\n",
       "    <tr style=\"text-align: right;\">\n",
       "      <th></th>\n",
       "      <th>aspect</th>\n",
       "      <th>top_opinions</th>\n",
       "      <th>explanation</th>\n",
       "    </tr>\n",
       "  </thead>\n",
       "  <tbody>\n",
       "    <tr>\n",
       "      <th>0</th>\n",
       "      <td>really</td>\n",
       "      <td>[disappointed, great, like]</td>\n",
       "      <td>Its really is [disappointed] [great] [like].</td>\n",
       "    </tr>\n",
       "    <tr>\n",
       "      <th>1</th>\n",
       "      <td>addition</td>\n",
       "      <td>[disappointed, great, fun]</td>\n",
       "      <td>Its addition is [disappointed] [great] [fun].</td>\n",
       "    </tr>\n",
       "  </tbody>\n",
       "</table>\n",
       "</div>"
      ],
      "text/plain": [
       "     aspect                 top_opinions  \\\n",
       "0  really    [disappointed, great, like]   \n",
       "1  addition  [disappointed, great, fun]    \n",
       "\n",
       "                                     explanation  \n",
       "0  Its really is [disappointed] [great] [like].   \n",
       "1  Its addition is [disappointed] [great] [fun].  "
      ]
     },
     "execution_count": 119,
     "metadata": {},
     "output_type": "execute_result"
    }
   ],
   "source": [
    "UIDX = 10\n",
    "IIDX = 10\n",
    "num_top_aspects = 2\n",
    "num_top_opinions = 3\n",
    "\n",
    "item_aspect_ids = np.array(list(set([\n",
    "    tup[0]\n",
    "    for idx in rs.sentiment.item_sentiment[IIDX].values()\n",
    "    for tup in rs.sentiment.sentiment[idx]\n",
    "])))\n",
    "\n",
    "item_opinion_ids = np.array(list(set([\n",
    "  tup[1]\n",
    "  for idx in rs.sentiment.item_sentiment[IIDX].values()\n",
    "  for tup in rs.sentiment.sentiment[idx]\n",
    "])))\n",
    "\n",
    "item_aspects = [id_aspect_map[idx] for idx in item_aspect_ids]\n",
    "\n",
    "ts1 = np.einsum(\"abc,a->bc\", mter.G1, mter.U[UIDX])\n",
    "ts2 = np.einsum(\"bc,b->c\", ts1, mter.I[IIDX])\n",
    "predicted_aspect_scores = np.einsum(\"c,Mc->M\", ts2, mter.A)\n",
    "\n",
    "top_aspect_ids = item_aspect_ids[(-predicted_aspect_scores[item_aspect_ids]).argsort()[:num_top_aspects]]\n",
    "top_aspects = [id_aspect_map[idx] for idx in top_aspect_ids]\n",
    "\n",
    "top_aspect_opinions = []\n",
    "mter_explanations = []\n",
    "for top_aspect_id, top_aspect in zip(top_aspect_ids, top_aspects):\n",
    "  ts1_G2 = np.einsum(\"abc,a->bc\", mter.G2, mter.U[UIDX])\n",
    "  ts2_G2 = np.einsum(\"bc,b->c\", ts1_G2, mter.A[top_aspect_id])\n",
    "  predicted_user_aspect_opinion_scores = np.einsum(\"c,Mc->M\", ts2_G2, mter.O)\n",
    "\n",
    "  ts1_G3 = np.einsum(\"abc,a->bc\", mter.G3, mter.I[IIDX])\n",
    "  ts2_G3 = np.einsum(\"bc,b->c\", ts1_G3, mter.A[top_aspect_id])\n",
    "  predicted_item_aspect_opinion_scores = np.einsum(\"c,Mc->M\", ts2_G3, mter.O)\n",
    "\n",
    "  predicted_aspect_opinion_scores = np.multiply(predicted_user_aspect_opinion_scores, predicted_item_aspect_opinion_scores)\n",
    "  top_opinion_ids = item_opinion_ids[(-predicted_aspect_opinion_scores[item_opinion_ids]).argsort()[:num_top_opinions]]\n",
    "  top_opinions = [id_opinion_map[idx] for idx in top_opinion_ids]\n",
    "  top_aspect_opinions.append(top_opinions)\n",
    "\n",
    "  # Generate explanation for top-1 aspect\n",
    "  mter_explanations.append(f\"Its {top_aspect} is [{'] ['.join(top_opinions)}].\")\n",
    "\n",
    "pd.DataFrame.from_dict({\"aspect\": top_aspects, \"top_opinions\": top_aspect_opinions, \"explanation\": mter_explanations})"
   ]
  },
  {
   "cell_type": "markdown",
   "id": "53a10d75",
   "metadata": {},
   "source": [
    "## 8. Recommendation Retrieval"
   ]
  },
  {
   "cell_type": "markdown",
   "id": "aa4827c8",
   "metadata": {},
   "source": [
    "1. Setup"
   ]
  },
  {
   "cell_type": "code",
   "execution_count": 120,
   "id": "a1079766",
   "metadata": {},
   "outputs": [
    {
     "name": "stdout",
     "output_type": "stream",
     "text": [
      "System version: 3.6.4 (v3.6.4:d48eceb, Dec 19 2017, 06:54:40) [MSC v.1900 64 bit (AMD64)]\n",
      "Cornac version: 1.15.4\n"
     ]
    }
   ],
   "source": [
    "import os\n",
    "import sys\n",
    "import time\n",
    "import random\n",
    "import pickle\n",
    "from operator import itemgetter\n",
    "from collections import defaultdict\n",
    "\n",
    "import tqdm.auto as tqdm\n",
    "import numpy as np\n",
    "import pandas as pd\n",
    "import matplotlib.pyplot as plt\n",
    "%matplotlib inline\n",
    "\n",
    "import cornac\n",
    "from cornac.utils import cache\n",
    "from cornac.datasets import movielens\n",
    "from cornac.eval_methods import RatioSplit\n",
    "from cornac.models import PMF, BPR, IBPR\n",
    "\n",
    "print(f\"System version: {sys.version}\")\n",
    "print(f\"Cornac version: {cornac.__version__}\")\n",
    "\n",
    "SEED = 42\n",
    "VERBOSE = True"
   ]
  },
  {
   "cell_type": "markdown",
   "id": "2c1f0815",
   "metadata": {},
   "source": [
    "2. Recommendation Retrieval is a Similarity Search Problem"
   ]
  },
  {
   "cell_type": "markdown",
   "id": "cb7b1cd2",
   "metadata": {},
   "source": [
    "Probabilistic Matrix Factorization"
   ]
  },
  {
   "cell_type": "code",
   "execution_count": 122,
   "id": "9fdd7ede",
   "metadata": {},
   "outputs": [
    {
     "name": "stdout",
     "output_type": "stream",
     "text": [
      "Data from http://files.grouplens.org/datasets/movielens/ml-1m.zip\n",
      "will be cached into C:\\Users\\ABIR°S ELITEBOOK\\.cornac\\ml-1m/ratings.dat\n"
     ]
    },
    {
     "name": "stderr",
     "output_type": "stream",
     "text": [
      "5.93MB [00:07, 809kB/s]                                                                                                \n"
     ]
    },
    {
     "name": "stdout",
     "output_type": "stream",
     "text": [
      "Unzipping ...\n",
      "File cached!\n"
     ]
    }
   ],
   "source": [
    "# Load the MovieLens 1M dataset\n",
    "ml_1m = movielens.load_feedback(variant='1M')"
   ]
  },
  {
   "cell_type": "code",
   "execution_count": 123,
   "id": "99d4bef2",
   "metadata": {},
   "outputs": [
    {
     "name": "stdout",
     "output_type": "stream",
     "text": [
      "Learning...\n",
      "epoch 0, loss: 46446.437359\n",
      "epoch 1, loss: 31039.587228\n",
      "epoch 2, loss: 26292.722854\n",
      "epoch 3, loss: 23537.796579\n",
      "epoch 4, loss: 21905.739985\n",
      "epoch 5, loss: 20909.647345\n",
      "epoch 6, loss: 20276.064965\n",
      "epoch 7, loss: 19857.775861\n",
      "epoch 8, loss: 19571.087101\n",
      "epoch 9, loss: 19368.855192\n",
      "epoch 10, loss: 19216.540907\n",
      "epoch 11, loss: 19098.818901\n",
      "epoch 12, loss: 19003.454192\n",
      "epoch 13, loss: 18920.857389\n",
      "epoch 14, loss: 18852.247112\n",
      "epoch 15, loss: 18792.720270\n",
      "epoch 16, loss: 18739.251739\n",
      "epoch 17, loss: 18692.518544\n",
      "epoch 18, loss: 18652.897676\n",
      "epoch 19, loss: 18613.028384\n",
      "epoch 20, loss: 18582.563521\n",
      "epoch 21, loss: 18550.761537\n",
      "epoch 22, loss: 18523.364641\n",
      "epoch 23, loss: 18500.604950\n",
      "epoch 24, loss: 18474.311675\n",
      "epoch 25, loss: 18456.770036\n",
      "epoch 26, loss: 18434.663482\n",
      "epoch 27, loss: 18419.012733\n",
      "epoch 28, loss: 18400.505275\n",
      "epoch 29, loss: 18384.860687\n",
      "epoch 30, loss: 18369.677467\n",
      "epoch 31, loss: 18355.408934\n",
      "epoch 32, loss: 18340.639532\n",
      "epoch 33, loss: 18329.472617\n",
      "epoch 34, loss: 18314.945618\n",
      "epoch 35, loss: 18305.324929\n",
      "epoch 36, loss: 18292.750721\n",
      "epoch 37, loss: 18283.650507\n",
      "epoch 38, loss: 18272.257001\n",
      "epoch 39, loss: 18265.224424\n",
      "epoch 40, loss: 18254.292032\n",
      "epoch 41, loss: 18246.708630\n",
      "epoch 42, loss: 18237.898733\n",
      "epoch 43, loss: 18229.411485\n",
      "epoch 44, loss: 18221.609785\n",
      "epoch 45, loss: 18212.678501\n",
      "epoch 46, loss: 18205.887231\n",
      "epoch 47, loss: 18199.247271\n",
      "epoch 48, loss: 18191.298965\n",
      "epoch 49, loss: 18187.085608\n",
      "epoch 50, loss: 18179.231741\n",
      "epoch 51, loss: 18174.774710\n",
      "epoch 52, loss: 18168.003933\n",
      "epoch 53, loss: 18163.703070\n",
      "epoch 54, loss: 18157.996812\n",
      "epoch 55, loss: 18154.249783\n",
      "epoch 56, loss: 18148.556851\n",
      "epoch 57, loss: 18144.713526\n",
      "epoch 58, loss: 18138.947966\n",
      "epoch 59, loss: 18135.354542\n",
      "epoch 60, loss: 18132.142149\n",
      "epoch 61, loss: 18125.843368\n",
      "epoch 62, loss: 18124.519274\n",
      "epoch 63, loss: 18117.179801\n",
      "epoch 64, loss: 18117.700775\n",
      "epoch 65, loss: 18110.206747\n",
      "epoch 66, loss: 18110.925972\n",
      "epoch 67, loss: 18102.924690\n",
      "epoch 68, loss: 18104.461868\n",
      "epoch 69, loss: 18096.276418\n",
      "epoch 70, loss: 18099.052981\n",
      "epoch 71, loss: 18090.626727\n",
      "epoch 72, loss: 18092.281724\n",
      "epoch 73, loss: 18086.594698\n",
      "epoch 74, loss: 18084.859755\n",
      "epoch 75, loss: 18082.367029\n",
      "epoch 76, loss: 18079.489763\n",
      "epoch 77, loss: 18077.139161\n",
      "epoch 78, loss: 18074.650553\n",
      "epoch 79, loss: 18072.055740\n",
      "epoch 80, loss: 18068.007703\n",
      "epoch 81, loss: 18068.127705\n",
      "epoch 82, loss: 18064.343922\n",
      "epoch 83, loss: 18063.512545\n",
      "epoch 84, loss: 18059.539868\n",
      "epoch 85, loss: 18059.531097\n",
      "epoch 86, loss: 18055.214875\n",
      "epoch 87, loss: 18055.079165\n",
      "epoch 88, loss: 18051.598793\n",
      "epoch 89, loss: 18051.106493\n",
      "epoch 90, loss: 18047.510829\n",
      "epoch 91, loss: 18047.344156\n",
      "epoch 92, loss: 18042.243687\n",
      "epoch 93, loss: 18044.116973\n",
      "epoch 94, loss: 18038.672625\n",
      "epoch 95, loss: 18039.359357\n",
      "epoch 96, loss: 18035.093260\n",
      "epoch 97, loss: 18036.081024\n",
      "epoch 98, loss: 18031.086351\n",
      "epoch 99, loss: 18031.118567\n",
      "Learning completed\n",
      "\n",
      "TEST:\n",
      "...\n",
      "    | Precision@10 | Recall@10 | Train (s) | Test (s)\n",
      "--- + ------------ + --------- + --------- + --------\n",
      "PMF |       0.0813 |    0.0167 |  421.5334 |   6.6057\n",
      "\n"
     ]
    }
   ],
   "source": [
    "# Instantiate an evaluation method\n",
    "ratio_split = RatioSplit(\n",
    "  data=ml_1m, test_size=0.4, rating_threshold=1.0, exclude_unknowns=False\n",
    ")\n",
    "\n",
    "# Instatiate a PMF recommender model\n",
    "pmf = PMF(k=100, max_iter=100, learning_rate=0.01, seed=SEED, verbose=VERBOSE)\n",
    "\n",
    "# Instantiate evaluation metrics.\n",
    "rec_10 = cornac.metrics.Recall(k=10)\n",
    "pre_10 = cornac.metrics.Precision(k=10)\n",
    "\n",
    "# Instantiate and then run an experiment.\n",
    "cornac.Experiment(\n",
    "  eval_method=ratio_split, models=[pmf], metrics=[rec_10, pre_10]\n",
    ").run()"
   ]
  },
  {
   "cell_type": "markdown",
   "id": "18912a57",
   "metadata": {},
   "source": [
    "3. Exhaustive Search"
   ]
  },
  {
   "cell_type": "markdown",
   "id": "852c94e5",
   "metadata": {},
   "source": [
    "Observation #1: Retrieval time scales linearly with the number of items"
   ]
  },
  {
   "cell_type": "code",
   "execution_count": 124,
   "id": "772b1ca3",
   "metadata": {},
   "outputs": [
    {
     "name": "stderr",
     "output_type": "stream",
     "text": [
      "100%|████████████████████████████████████████████████████████████████████████████████| 364/364 [00:28<00:00, 12.68it/s]\n"
     ]
    }
   ],
   "source": [
    "comp_time = []\n",
    "\n",
    "# For each user vector, we compute the inner product score to each item vector\n",
    "pmf_item_vect = pmf.V\n",
    "pmf_user_vect = pmf.U\n",
    "\n",
    "for incr_size in tqdm.trange(0, pmf_item_vect.shape[0], 10, disable=not VERBOSE):\n",
    "  start_time = time.time()\n",
    "  pred = np.matmul(pmf_item_vect[:incr_size, :], pmf_user_vect.T)\n",
    "  end_time = time.time()\n",
    "  comp_time.append((end_time - start_time) / pmf_user_vect.shape[0])"
   ]
  },
  {
   "cell_type": "code",
   "execution_count": 125,
   "id": "5c6dc281",
   "metadata": {},
   "outputs": [
    {
     "data": {
      "image/png": "[encoded data removed]",
      "text/plain": [
       "<Figure size 720x360 with 1 Axes>"
      ]
     },
     "metadata": {
      "needs_background": "light"
     },
     "output_type": "display_data"
    }
   ],
   "source": [
    "# plot the computation time as the number of items increases\n",
    "plt.plot(range(0, pmf_item_vect.shape[0],10), comp_time, marker='o', \n",
    "         label='Computation_time')\n",
    "plt.xlabel('Number of Items')\n",
    "plt.ylabel('Computation Time (seconds)')\n",
    "plt.title('Inner product computation time (seconds) vs. number of items')\n",
    "plt.grid()\n",
    "plt.gcf().set_size_inches(10, 5)\n",
    "plt.tight_layout()\n",
    "plt.show()"
   ]
  },
  {
   "cell_type": "markdown",
   "id": "34f12f48",
   "metadata": {},
   "source": [
    "Observation #2: Retrieval time scales linearly with the number of latent factors"
   ]
  },
  {
   "cell_type": "code",
   "execution_count": 126,
   "id": "e0372b44",
   "metadata": {},
   "outputs": [
    {
     "name": "stderr",
     "output_type": "stream",
     "text": [
      "100%|████████████████████████████████████████████████████████████████████████████████| 100/100 [00:13<00:00,  7.42it/s]\n"
     ]
    }
   ],
   "source": [
    "comp_time = []\n",
    "\n",
    "for d in tqdm.trange(pmf.k, disable=not VERBOSE):\n",
    "  start_time = time.time()\n",
    "  pred = np.matmul(pmf_item_vect[:incr_size, :d], pmf_user_vect[:,:d].T)\n",
    "  end_time = time.time()\n",
    "  \n",
    "  # average the computation time \n",
    "  comp_time.append((end_time - start_time) / pmf_user_vect.shape[0])"
   ]
  },
  {
   "cell_type": "code",
   "execution_count": 127,
   "id": "07e33387",
   "metadata": {},
   "outputs": [
    {
     "data": {
      "image/png": "[encoded data removed]",
      "text/plain": [
       "<Figure size 720x360 with 1 Axes>"
      ]
     },
     "metadata": {
      "needs_background": "light"
     },
     "output_type": "display_data"
    }
   ],
   "source": [
    "# plot the computation time as the number of dimension increases\n",
    "plt.plot(range(pmf.k), comp_time, marker='o', label='Computation_time')\n",
    "plt.title('Inner product computation time (seconds) vs. number of features')\n",
    "plt.xlabel('Number of features')\n",
    "plt.ylabel('Computation Time (seconds)')\n",
    "plt.grid()\n",
    "plt.gcf().set_size_inches(10, 5)\n",
    "plt.tight_layout()\n",
    "plt.show()"
   ]
  },
  {
   "cell_type": "markdown",
   "id": "0b8583fd",
   "metadata": {},
   "source": [
    "4. Scalable Recommendation Retrieval with Locality Sensitive Hashing"
   ]
  },
  {
   "cell_type": "markdown",
   "id": "da311c7a",
   "metadata": {},
   "source": [
    "Locality Sensitive Hashing"
   ]
  },
  {
   "cell_type": "code",
   "execution_count": 129,
   "id": "0fb7fce5",
   "metadata": {},
   "outputs": [],
   "source": [
    "random.seed(SEED)\n",
    "\n",
    "# Implementation of Locality Sensitive Hashing for Maximum Cosine Similarity Search\n",
    "class LSHIndex:\n",
    "\n",
    "  def __init__(self, hash_family, k, L):\n",
    "    self.hash_family = hash_family\n",
    "    self.k = k\n",
    "    self.L = 0\n",
    "    self.hash_tables = []\n",
    "    self.resize(L)\n",
    "\n",
    "  def resize(self, L):\n",
    "    \"\"\" update the number of hash tables to be used \"\"\"\n",
    "    if L < self.L:\n",
    "      self.hash_tables = self.hash_tables[:L]\n",
    "    else:\n",
    "      # initialise a new hash table for each hash function\n",
    "      hash_funcs = [[self.hash_family.create_hash_func() for h in range(self.k)] \n",
    "                    for l in range(self.L, L)]\n",
    "      self.hash_tables.extend([(g, defaultdict(lambda:[])) for g in hash_funcs])\n",
    "\n",
    "  def hash(self, g, p):\n",
    "    return self.hash_family.combine([h.hash(p) for h in g])\n",
    "\n",
    "  def index(self, points):\n",
    "    \"\"\" index the supplied points \"\"\"\n",
    "    self.points = points\n",
    "    for g, table in self.hash_tables:\n",
    "        for ix, p in enumerate(self.points):\n",
    "            table[self.hash(g,p)].append(ix)\n",
    "    # reset stats\n",
    "    self.tot_touched = 0\n",
    "    self.num_queries = 0\n",
    "\n",
    "  def query(self, q, metric, max_results):\n",
    "    \"\"\" find the max_results closest indexed points to q according to the supplied metric \"\"\"\n",
    "    candidates = set()\n",
    "    for g, table in self.hash_tables:\n",
    "        matches = table.get(self.hash(g,q), [])\n",
    "        candidates.update(matches)\n",
    "        \n",
    "    # update stats\n",
    "    self.tot_touched += len(candidates)\n",
    "    self.num_queries += 1\n",
    "    \n",
    "    # rerank candidates\n",
    "    candidates = [(ix, metric(q, self.points[ix])) for ix in candidates]\n",
    "    candidates.sort(key = itemgetter(1))\n",
    "    return candidates[:max_results]\n",
    "\n",
    "  def get_avg_touched(self):\n",
    "    \"\"\" mean number of candidates inspected per query \"\"\"\n",
    "    return self.tot_touched/self.num_queries\n",
    "\n",
    "\n",
    "#################################################################################################\n",
    "#--------------------------------- Cosine LSH Hash Family --------------------------------------#\n",
    "#################################################################################################    \n",
    "class CosineHashFamily:\n",
    "\n",
    "  def __init__(self,d):\n",
    "    self.d = d\n",
    "\n",
    "  def create_hash_func(self):\n",
    "    # each CosineHash is initialised with a random projection vector\n",
    "    return CosineHash(self.rand_vec())\n",
    "\n",
    "  def rand_vec(self):\n",
    "    return [random.gauss(0,1) for i in range(self.d)]\n",
    "\n",
    "  def combine(self, hashes):\n",
    "    \"\"\"combine by treating as a bitvector\"\"\"\n",
    "    return sum(2**i if h > 0 else 0 for i,h in enumerate(hashes))\n",
    "\t\n",
    "class CosineHash:\n",
    "\n",
    "  def __init__(self, r):\n",
    "    self.r = r\n",
    "\n",
    "  def hash(self, vec):\n",
    "    return self.sgn(dot(vec, self.r))\n",
    "\n",
    "  def sgn(self,x):\n",
    "    return int(x > 0)\n",
    "\n",
    "#--- inner product ---\n",
    "def dot(u,v):\n",
    "\treturn np.dot(u, v) \n",
    "\n",
    "#-- cosine distance ---\n",
    "def cosine_distance(u,v):\n",
    "\treturn 1 - dot(u,v)/(dot(u,u)*dot(v,v))**0.5"
   ]
  },
  {
   "cell_type": "code",
   "execution_count": 130,
   "id": "413ce8f9",
   "metadata": {},
   "outputs": [],
   "source": [
    "# helper function to measure precision, recall, and touched values \n",
    "# of using LSH for top-k recommendation retrieval\n",
    "# ------------------------------------------------------------------------\n",
    "def evaluate_LSHTopK(test_data, item_vect, user_vect, lsh_index, sim_metric, topK):           \n",
    "\n",
    "  lsh_prec = 0.0\n",
    "  lsh_recall = 0.0\n",
    "  \n",
    "  #build index\n",
    "  lsh_index.index(item_vect.tolist())\n",
    "  \n",
    "  for id in range(user_vect.shape[0]):      \n",
    "    test_item_ids = list(test_data.csr_matrix.getrow(id).nonzero()[1])\n",
    "\n",
    "    if len(test_item_ids) > 0:\n",
    "      # top-k by LSH\n",
    "      lsh_rec_list = list(map(itemgetter(0), lsh_index.query(user_vect[id, :], sim_metric, topK)))\n",
    "      lsh_overlaps = list(set(lsh_rec_list).intersection(test_item_ids))\n",
    "\n",
    "      lsh_prec   += len(lsh_overlaps) * 1.0/topK\n",
    "      lsh_recall += len(lsh_overlaps) * 1.0/len(test_item_ids)\n",
    "\n",
    "  touched = lsh_index.get_avg_touched() * 1.0/item_vect.shape[0]\n",
    "  return lsh_prec/user_vect.shape[0], lsh_recall/user_vect.shape[0], touched"
   ]
  },
  {
   "cell_type": "markdown",
   "id": "d9b5847c",
   "metadata": {},
   "source": [
    "5. Issue with Using Locality Sensitive Hashing for Recommendation Retrieval"
   ]
  },
  {
   "cell_type": "markdown",
   "id": "1f5ce1e9",
   "metadata": {},
   "source": [
    "Solution I: Vector Augmentation"
   ]
  },
  {
   "cell_type": "code",
   "execution_count": 131,
   "id": "72b94e84",
   "metadata": {},
   "outputs": [],
   "source": [
    "#apply vector augmentation\n",
    "M = np.linalg.norm(pmf_item_vect, axis=1) # compute item vector norms\n",
    "max_norm = max(M) # max item norm\n",
    "\n",
    "xbox_item_vect = np.concatenate(\n",
    "  (pmf_item_vect, np.sqrt(max_norm**2 - pow(M, 2)).reshape(pmf_item_vect.shape[0], -1)), \n",
    "  axis=1\n",
    ")\n",
    "xbox_user_vect = np.concatenate(\n",
    "  (pmf_user_vect, np.zeros((pmf_user_vect.shape[0], 1))), \n",
    "  axis=1\n",
    ")"
   ]
  },
  {
   "cell_type": "markdown",
   "id": "0510ed0d",
   "metadata": {},
   "source": [
    "Effectiveness of Vector Augmentation"
   ]
  },
  {
   "cell_type": "code",
   "execution_count": 134,
   "id": "39dadf2e",
   "metadata": {},
   "outputs": [
    {
     "name": "stdout",
     "output_type": "stream",
     "text": [
      "#table \t#bit \t ?Augmented \t lsh_prec@10 \t lsh_recall@10 \t touched\n",
      "---------------------------------------------------------------------------------\n",
      "10\t4\tNo\t0.1108\t0.0108\t0.4637\n",
      "10\t4\tYes\t0.1108\t0.0108\t0.4637\n",
      "---------------------------------------------------------------------------------\n",
      "10\t8\tNo\t0.0629\t0.0050\t0.0326\n",
      "10\t8\tYes\t0.0629\t0.0050\t0.0326\n",
      "---------------------------------------------------------------------------------\n",
      "20\t4\tNo\t0.1239\t0.0125\t0.7747\n",
      "20\t4\tYes\t0.1239\t0.0125\t0.7747\n",
      "---------------------------------------------------------------------------------\n",
      "20\t8\tNo\t0.0751\t0.0064\t0.0674\n",
      "20\t8\tYes\t0.0751\t0.0064\t0.0674\n"
     ]
    }
   ],
   "source": [
    "topK = 10  # @param - top-K value\n",
    "b_vals = [4, 8]  # @param - number of hash function\n",
    "L_vals = [10, 20]  # @param - number of hashtables\n",
    "\n",
    "test_data = ratio_split.test_set  # testing data\n",
    "\n",
    "print('#table \\t#bit \\t ?Augmented \\t lsh_prec@{0} \\t lsh_recall@{0} \\t touched'.format(topK))\n",
    "for nt in L_vals:\n",
    "    for b in b_vals:\n",
    "        # init lsh index:\n",
    "        # ------ hash-family: the LSH scheme/family\n",
    "        # ------ k          : number of hash functions\n",
    "        # ------ L          : number of hash tables\n",
    "        lsh_index = LSHIndex(hash_family=CosineHashFamily(xbox_item_vect.shape[1]), k=b, L=nt)\n",
    "\n",
    "        # performance without employing vector augmentation\n",
    "        print('---------------------------------------------------------------------------------')\n",
    "        prec_1, recall_1, touched_1 = evaluate_LSHTopK(\n",
    "            test_data, xbox_item_vect, -xbox_user_vect[:1000], lsh_index, dot, topK\n",
    "        )\n",
    "        print(\"{}\\t{}\\t{}\\t{:.4f}\\t{:.4f}\\t{:.4f}\".format(nt, b, 'No', prec_1, recall_1, touched_1))\n",
    "\n",
    "        # performance with vector augmentation\n",
    "        prec_2, recall_2, touched_2 = evaluate_LSHTopK(\n",
    "            test_data, xbox_item_vect, -xbox_user_vect[:1000], lsh_index, dot, topK\n",
    "        )\n",
    "        print(\"{}\\t{}\\t{}\\t{:.4f}\\t{:.4f}\\t{:.4f}\".format(nt, b, 'Yes', prec_2, recall_2, touched_2))"
   ]
  },
  {
   "cell_type": "markdown",
   "id": "a2adf089",
   "metadata": {},
   "source": [
    "Solution II: Indexable Representation Learning"
   ]
  },
  {
   "cell_type": "markdown",
   "id": "c84236cc",
   "metadata": {},
   "source": [
    "Bayesian Personalized Ranking - BPR"
   ]
  },
  {
   "cell_type": "code",
   "execution_count": 135,
   "id": "a4e0daf5",
   "metadata": {},
   "outputs": [
    {
     "name": "stderr",
     "output_type": "stream",
     "text": [
      "100%|█████████████████████████████████████████████████| 100/100 [00:19<00:00,  5.21it/s, correct=83.58%, skipped=6.40%]\n"
     ]
    },
    {
     "name": "stdout",
     "output_type": "stream",
     "text": [
      "Optimization finished!\n",
      "\n",
      "TEST:\n",
      "...\n",
      "    | Precision@10 | Recall@10 | Train (s) | Test (s)\n",
      "--- + ------------ + --------- + --------- + --------\n",
      "BPR |       0.1849 |    0.0453 |   19.2212 |  12.2717\n",
      "\n"
     ]
    }
   ],
   "source": [
    "rec_bpr = BPR(k=20, max_iter=100, learning_rate=0.001, seed=SEED, verbose=VERBOSE)\n",
    "\n",
    "cornac.Experiment(\n",
    "  eval_method=ratio_split, models=[rec_bpr], metrics=[rec_10, pre_10],\n",
    ").run()"
   ]
  },
  {
   "cell_type": "code",
   "execution_count": 136,
   "id": "be9ef9c1",
   "metadata": {},
   "outputs": [],
   "source": [
    "bpr_user_vect  = rec_bpr.u_factors\n",
    "bpr_item_vect  = rec_bpr.i_factors\n",
    "\n",
    "# apply Xbox transformation\n",
    "M = np.linalg.norm(bpr_item_vect, axis=1) # compute item vector norms\n",
    "max_norm = max(M) # max item norm\n",
    "\n",
    "xbox_bpr_item_vect = np.concatenate(\n",
    "  (bpr_item_vect, np.sqrt(max_norm**2 - pow(M, 2)).reshape(bpr_item_vect.shape[0], -1)), \n",
    "  axis=1\n",
    ")\n",
    "xbox_bpr_user_vect = np.concatenate(\n",
    "  (bpr_user_vect, np.zeros((bpr_user_vect.shape[0], 1))), \n",
    "  axis = 1\n",
    ")"
   ]
  },
  {
   "cell_type": "code",
   "execution_count": 137,
   "id": "b75b0865",
   "metadata": {},
   "outputs": [
    {
     "name": "stdout",
     "output_type": "stream",
     "text": [
      "#table\t #bit \t model \t lsh_prec@10 \t lsh_recall@10 \t touched\n",
      "------------------------------------------------------------------------------\n",
      "10\t4\tBPR\t0.0384\t0.0024\t0.4886\n",
      "10\t8\tBPR\t0.0289\t0.0023\t0.0433\n",
      "------------------------------------------------------------------------------\n",
      "20\t4\tBPR\t0.0416\t0.0027\t0.7335\n",
      "20\t8\tBPR\t0.0351\t0.0026\t0.0874\n"
     ]
    }
   ],
   "source": [
    "topK = 10 # @param\n",
    "b_vals = [4, 8] # @param\n",
    "L_vals = [10, 20] # @param\n",
    "\n",
    "test_data  = ratio_split.test_set # testing data\n",
    "\n",
    "print('#table\\t #bit \\t model \\t lsh_prec@{0} \\t lsh_recall@{0} \\t touched'.format(topK))\n",
    "for nt in L_vals:\n",
    "  print('------------------------------------------------------------------------------')\n",
    "  for b in b_vals: \n",
    "    # lsh index:\n",
    "    #------ hash-family: the LSH scheme/family \n",
    "    #------ k          : number of hash functions\n",
    "    #------ L          : number of hash tables\n",
    "    lsh_index = LSHIndex(hash_family = CosineHashFamily(xbox_bpr_item_vect.shape[1]), k = b, L = nt)\n",
    "    \n",
    "    lsh_bpr_prec, lsh_bpr_recall, touched_bpr = evaluate_LSHTopK(\n",
    "      test_data, xbox_bpr_item_vect, -xbox_bpr_user_vect[:1000, :], lsh_index, dot, topK\n",
    "    )\n",
    "    print(\"{}\\t{}\\t{}\\t{:.4f}\\t{:.4f}\\t{:.4f}\".format(\n",
    "      nt, b, 'BPR', lsh_bpr_prec, lsh_bpr_recall, touched_bpr)\n",
    "    )"
   ]
  },
  {
   "cell_type": "markdown",
   "id": "3a356ca7",
   "metadata": {},
   "source": [
    "Indexable Bayesian Personalized Ranking - IBPR"
   ]
  },
  {
   "cell_type": "code",
   "execution_count": 138,
   "id": "8e01c779",
   "metadata": {},
   "outputs": [
    {
     "name": "stderr",
     "output_type": "stream",
     "text": [
      "Epoch 1/15: 100%|██████████████████████████████████████████████████████| 6002/6002 [01:12<00:00, 82.72it/s, loss=0.759]\n",
      "Epoch 2/15: 100%|██████████████████████████████████████████████████████| 6002/6002 [01:19<00:00, 75.06it/s, loss=0.745]\n",
      "Epoch 3/15: 100%|██████████████████████████████████████████████████████| 6002/6002 [01:44<00:00, 57.54it/s, loss=0.723]\n",
      "Epoch 4/15: 100%|██████████████████████████████████████████████████████| 6002/6002 [01:13<00:00, 81.58it/s, loss=0.666]\n",
      "Epoch 5/15: 100%|██████████████████████████████████████████████████████| 6002/6002 [01:00<00:00, 99.34it/s, loss=0.566]\n",
      "Epoch 6/15: 100%|██████████████████████████████████████████████████████| 6002/6002 [01:14<00:00, 80.63it/s, loss=0.488]\n",
      "Epoch 7/15: 100%|██████████████████████████████████████████████████████| 6002/6002 [01:22<00:00, 72.74it/s, loss=0.447]\n",
      "Epoch 8/15: 100%|██████████████████████████████████████████████████████| 6002/6002 [01:14<00:00, 81.03it/s, loss=0.426]\n",
      "Epoch 9/15: 100%|██████████████████████████████████████████████████████| 6002/6002 [01:15<00:00, 79.38it/s, loss=0.413]\n",
      "Epoch 10/15: 100%|█████████████████████████████████████████████████████| 6002/6002 [01:03<00:00, 94.29it/s, loss=0.404]\n",
      "Epoch 11/15: 100%|█████████████████████████████████████████████████████| 6002/6002 [01:11<00:00, 83.74it/s, loss=0.398]\n",
      "Epoch 12/15: 100%|█████████████████████████████████████████████████████| 6002/6002 [01:06<00:00, 90.03it/s, loss=0.394]\n",
      "Epoch 13/15: 100%|█████████████████████████████████████████████████████| 6002/6002 [01:03<00:00, 94.17it/s, loss=0.392]\n",
      "Epoch 14/15: 100%|█████████████████████████████████████████████████████| 6002/6002 [01:06<00:00, 89.73it/s, loss=0.389]\n",
      "Epoch 15/15: 100%|█████████████████████████████████████████████████████| 6002/6002 [01:17<00:00, 77.19it/s, loss=0.388]\n"
     ]
    },
    {
     "name": "stdout",
     "output_type": "stream",
     "text": [
      "\n",
      "TEST:\n",
      "...\n",
      "     | Precision@10 | Recall@10 | Train (s) | Test (s)\n",
      "---- + ------------ + --------- + --------- + --------\n",
      "IBPR |       0.1631 |    0.0363 | 1107.9771 |   6.7924\n",
      "\n"
     ]
    }
   ],
   "source": [
    "rec_ibpr = IBPR(k=20, max_iter=15, learning_rate=0.001, verbose=VERBOSE)\n",
    "\n",
    "cornac.Experiment(\n",
    "  eval_method=ratio_split, models =[rec_ibpr], metrics=[rec_10, pre_10]\n",
    ").run()"
   ]
  },
  {
   "cell_type": "code",
   "execution_count": 139,
   "id": "9a588186",
   "metadata": {},
   "outputs": [],
   "source": [
    "ibpr_user_vect = rec_ibpr.U\n",
    "ibpr_item_vect = rec_ibpr.V"
   ]
  },
  {
   "cell_type": "code",
   "execution_count": 140,
   "id": "10885c53",
   "metadata": {},
   "outputs": [
    {
     "name": "stdout",
     "output_type": "stream",
     "text": [
      "#table\t #bit \t model \t lsh_prec@10 \t lsh_recall@10 \t touched\n",
      "------------------------------------------------------------------------------\n",
      "10\t4\tIBPR\t0.0788\t0.0055\t0.6594\n",
      "10\t8\tIBPR\t0.0289\t0.0017\t0.5149\n",
      "------------------------------------------------------------------------------\n",
      "20\t4\tIBPR\t0.0845\t0.0068\t0.7097\n",
      "20\t8\tIBPR\t0.0424\t0.0027\t0.5339\n"
     ]
    }
   ],
   "source": [
    "topK = 10 # @param\n",
    "b_vals = [4, 8] # @param \n",
    "L_vals = [10, 20] # @param\n",
    "\n",
    "test_data = ratio_split.test_set # testing data\n",
    "\n",
    "print('#table\\t #bit \\t model \\t lsh_prec@{0} \\t lsh_recall@{0} \\t touched'.format(topK))\n",
    "for nt in L_vals:\n",
    "  print('------------------------------------------------------------------------------')\n",
    "  for b in b_vals: \n",
    "    # lsh index:\n",
    "    #------ hash-family: the LSH scheme/family \n",
    "    #------ k          : number of hash functions\n",
    "    #------ L          : number of hash tables\n",
    "    lsh_index = LSHIndex(hash_family = CosineHashFamily(ibpr_item_vect.shape[1]), k = b, L = nt)\n",
    "    \n",
    "    lsh_ibpr_prec, lsh_ibpr_recall, touched_ibpr = evaluate_LSHTopK(\n",
    "      test_data, ibpr_item_vect, -ibpr_user_vect[:1000,:], lsh_index, dot, topK\n",
    "    )\n",
    "    print(\"{}\\t{}\\t{}\\t{:.4f}\\t{:.4f}\\t{:.4f}\".format(\n",
    "      nt, b, 'IBPR', lsh_ibpr_prec, lsh_ibpr_recall, touched_ibpr)\n",
    "    ) "
   ]
  },
  {
   "cell_type": "markdown",
   "id": "8eb5b94d",
   "metadata": {},
   "source": [
    "## 9.Deep Learning"
   ]
  },
  {
   "cell_type": "code",
   "execution_count": 141,
   "id": "03f8b725",
   "metadata": {},
   "outputs": [
    {
     "name": "stdout",
     "output_type": "stream",
     "text": [
      "System version: 3.6.4 (v3.6.4:d48eceb, Dec 19 2017, 06:54:40) [MSC v.1900 64 bit (AMD64)]\n",
      "Cornac version: 1.15.4\n",
      "Tensorflow version: 2.6.2\n"
     ]
    }
   ],
   "source": [
    "import os\n",
    "import sys\n",
    "\n",
    "import cornac\n",
    "from cornac.data import Reader\n",
    "from cornac.datasets import movielens, citeulike\n",
    "from cornac.eval_methods import RatioSplit\n",
    "from cornac.models import GMF, MLP, NeuMF, VAECF, CDL, ConvMF, WMF, CTR \n",
    "from cornac.data import TextModality\n",
    "from cornac.data.text import BaseTokenizer\n",
    "\n",
    "import tensorflow as tf\n",
    "\n",
    "print(f\"System version: {sys.version}\")\n",
    "print(f\"Cornac version: {cornac.__version__}\")\n",
    "print(f\"Tensorflow version: {tf.__version__}\")\n",
    "\n",
    "SEED = 42\n",
    "VERBOSE = True"
   ]
  },
  {
   "cell_type": "markdown",
   "id": "caf44506",
   "metadata": {},
   "source": [
    "2. Deep Learning for Collaborative Filtering"
   ]
  },
  {
   "cell_type": "markdown",
   "id": "d8ed6d47",
   "metadata": {},
   "source": [
    "Neural Collaborative Filtering"
   ]
  },
  {
   "cell_type": "code",
   "execution_count": 142,
   "id": "875f650a",
   "metadata": {},
   "outputs": [
    {
     "name": "stdout",
     "output_type": "stream",
     "text": [
      "rating_threshold = 1.0\n",
      "exclude_unknowns = True\n",
      "---\n",
      "Training data:\n",
      "Number of users = 942\n",
      "Number of items = 1420\n",
      "Number of ratings = 44300\n",
      "Max rating = 1.0\n",
      "Min rating = 1.0\n",
      "Global mean = 1.0\n",
      "---\n",
      "Test data:\n",
      "Number of users = 921\n",
      "Number of items = 1067\n",
      "Number of ratings = 11044\n",
      "Number of unknown users = 0\n",
      "Number of unknown items = 0\n",
      "---\n",
      "Total users = 942\n",
      "Total items = 1420\n",
      "\n",
      "[GMF] Training started!\n"
     ]
    },
    {
     "name": "stderr",
     "output_type": "stream",
     "text": [
      "100%|██████████████████████████████████████████████████████████████████████| 10/10 [00:42<00:00,  4.29s/it, loss=0.394]\n"
     ]
    },
    {
     "name": "stdout",
     "output_type": "stream",
     "text": [
      "\n",
      "[GMF] Evaluation started!\n"
     ]
    },
    {
     "name": "stderr",
     "output_type": "stream",
     "text": [
      "Ranking: 100%|██████████████████████████████████████████████████████████████████████| 921/921 [00:01<00:00, 880.16it/s]\n"
     ]
    },
    {
     "name": "stdout",
     "output_type": "stream",
     "text": [
      "\n",
      "[MLP] Training started!\n"
     ]
    },
    {
     "name": "stderr",
     "output_type": "stream",
     "text": [
      "100%|██████████████████████████████████████████████████████████████████████| 10/10 [00:36<00:00,  3.62s/it, loss=0.403]\n"
     ]
    },
    {
     "name": "stdout",
     "output_type": "stream",
     "text": [
      "\n",
      "[MLP] Evaluation started!\n"
     ]
    },
    {
     "name": "stderr",
     "output_type": "stream",
     "text": [
      "Ranking: 100%|██████████████████████████████████████████████████████████████████████| 921/921 [00:01<00:00, 678.53it/s]\n"
     ]
    },
    {
     "name": "stdout",
     "output_type": "stream",
     "text": [
      "\n",
      "[NeuMF] Training started!\n"
     ]
    },
    {
     "name": "stderr",
     "output_type": "stream",
     "text": [
      "100%|██████████████████████████████████████████████████████████████████████| 10/10 [00:42<00:00,  4.26s/it, loss=0.323]\n"
     ]
    },
    {
     "name": "stdout",
     "output_type": "stream",
     "text": [
      "\n",
      "[NeuMF] Evaluation started!\n"
     ]
    },
    {
     "name": "stderr",
     "output_type": "stream",
     "text": [
      "Ranking: 100%|██████████████████████████████████████████████████████████████████████| 921/921 [00:01<00:00, 534.98it/s]\n"
     ]
    },
    {
     "name": "stdout",
     "output_type": "stream",
     "text": [
      "\n",
      "[WMF] Training started!\n"
     ]
    },
    {
     "name": "stderr",
     "output_type": "stream",
     "text": [
      "100%|█████████████████████████████████████████████████████████████████████| 200/200 [00:10<00:00, 18.75it/s, loss=2.92]\n"
     ]
    },
    {
     "name": "stdout",
     "output_type": "stream",
     "text": [
      "Learning completed!\n",
      "\n",
      "[WMF] Evaluation started!\n"
     ]
    },
    {
     "name": "stderr",
     "output_type": "stream",
     "text": [
      "Ranking: 100%|█████████████████████████████████████████████████████████████████████| 921/921 [00:00<00:00, 1282.43it/s]"
     ]
    },
    {
     "name": "stdout",
     "output_type": "stream",
     "text": [
      "\n",
      "TEST:\n",
      "...\n",
      "      | NDCG@50 | Recall@50 | Train (s) | Test (s)\n",
      "----- + ------- + --------- + --------- + --------\n",
      "GMF   |  0.1609 |    0.2778 |   44.3356 |   1.0547\n",
      "MLP   |  0.1630 |    0.2807 |   36.5369 |   1.3604\n",
      "NeuMF |  0.2412 |    0.4268 |   43.0649 |   1.7286\n",
      "WMF   |  0.1976 |    0.3753 |   10.8313 |   0.7222\n",
      "\n"
     ]
    },
    {
     "name": "stderr",
     "output_type": "stream",
     "text": [
      "\n"
     ]
    }
   ],
   "source": [
    "GMF_FACTORS = 8  # @param\n",
    "MLP_LAYERS = [32, 16, 8]  # @param\n",
    "ACTIVATION = \"tanh\"  # @param [\"tanh\", \"sigmoid\", \"relu\", \"leaky_relu\"]\n",
    "NEG_SAMPLES = 3  # @param\n",
    "NUM_EPOCHS = 10  # @param \n",
    "BATCH_SIZE = 256  # @param\n",
    "LEARNING_RATE = 0.001  # @param\n",
    "\n",
    "gmf = GMF(num_factors=GMF_FACTORS, num_epochs=NUM_EPOCHS, batch_size=BATCH_SIZE, \n",
    "          num_neg=NEG_SAMPLES, lr=LEARNING_RATE, seed=SEED, verbose=VERBOSE)\n",
    "mlp = MLP(layers=MLP_LAYERS, act_fn=ACTIVATION, num_epochs=NUM_EPOCHS, batch_size=BATCH_SIZE, \n",
    "          num_neg=NEG_SAMPLES, lr=LEARNING_RATE, seed=SEED, verbose=VERBOSE)\n",
    "neumf = NeuMF(num_factors=GMF_FACTORS, layers=MLP_LAYERS, act_fn=ACTIVATION, num_epochs=NUM_EPOCHS,\n",
    "              num_neg=NEG_SAMPLES, batch_size=BATCH_SIZE, lr=LEARNING_RATE, seed=SEED, verbose=VERBOSE)\n",
    "\n",
    "wmf = WMF(k=GMF_FACTORS, max_iter=200, learning_rate=0.001, seed=SEED, verbose=VERBOSE)\n",
    "\n",
    "ml_100k = movielens.load_feedback(variant=\"100K\", reader=Reader(bin_threshold=4.0))\n",
    "ratio_split = RatioSplit(\n",
    "  data=ml_100k, test_size=0.2, exclude_unknowns=True, seed=SEED, verbose=VERBOSE\n",
    ")\n",
    "ndcg_50 = cornac.metrics.NDCG(k=50)\n",
    "rec_50 = cornac.metrics.Recall(k=50)\n",
    "\n",
    "cornac.Experiment(\n",
    "  eval_method=ratio_split,\n",
    "  models=[gmf, mlp, neumf, wmf],\n",
    "  metrics=[ndcg_50, rec_50],\n",
    ").run()"
   ]
  },
  {
   "cell_type": "markdown",
   "id": "5fc4908b",
   "metadata": {},
   "source": [
    "Variational Autoencoder for Collaborative Filtering (VAECF)"
   ]
  },
  {
   "cell_type": "code",
   "execution_count": 143,
   "id": "3db2ab15",
   "metadata": {},
   "outputs": [
    {
     "name": "stdout",
     "output_type": "stream",
     "text": [
      "rating_threshold = 1.0\n",
      "exclude_unknowns = True\n",
      "---\n",
      "Training data:\n",
      "Number of users = 942\n",
      "Number of items = 1420\n",
      "Number of ratings = 44300\n",
      "Max rating = 1.0\n",
      "Min rating = 1.0\n",
      "Global mean = 1.0\n",
      "---\n",
      "Test data:\n",
      "Number of users = 921\n",
      "Number of items = 1067\n",
      "Number of ratings = 11044\n",
      "Number of unknown users = 0\n",
      "Number of unknown items = 0\n",
      "---\n",
      "Total users = 942\n",
      "Total items = 1420\n",
      "\n",
      "[VAECF] Training started!\n"
     ]
    },
    {
     "name": "stderr",
     "output_type": "stream",
     "text": [
      "100%|████████████████████████████████████████████████████████████████████| 600/600 [01:33<00:00,  6.44it/s, loss=0.778]\n"
     ]
    },
    {
     "name": "stdout",
     "output_type": "stream",
     "text": [
      "\n",
      "[VAECF] Evaluation started!\n"
     ]
    },
    {
     "name": "stderr",
     "output_type": "stream",
     "text": [
      "Ranking: 100%|██████████████████████████████████████████████████████████████████████| 921/921 [00:02<00:00, 386.68it/s]\n"
     ]
    },
    {
     "name": "stdout",
     "output_type": "stream",
     "text": [
      "\n",
      "[WMF] Training started!\n"
     ]
    },
    {
     "name": "stderr",
     "output_type": "stream",
     "text": [
      "100%|█████████████████████████████████████████████████████████████████████| 200/200 [00:11<00:00, 17.81it/s, loss=1.85]\n"
     ]
    },
    {
     "name": "stdout",
     "output_type": "stream",
     "text": [
      "Learning completed!\n",
      "\n",
      "[WMF] Evaluation started!\n"
     ]
    },
    {
     "name": "stderr",
     "output_type": "stream",
     "text": [
      "Ranking: 100%|█████████████████████████████████████████████████████████████████████| 921/921 [00:00<00:00, 1236.44it/s]"
     ]
    },
    {
     "name": "stdout",
     "output_type": "stream",
     "text": [
      "\n",
      "TEST:\n",
      "...\n",
      "      | NDCG@50 | Recall@50 | Train (s) | Test (s)\n",
      "----- + ------- + --------- + --------- + --------\n",
      "VAECF |  0.2418 |    0.4268 |   93.3921 |   2.3928\n",
      "WMF   |  0.2045 |    0.3958 |   11.4778 |   0.7509\n",
      "\n"
     ]
    },
    {
     "name": "stderr",
     "output_type": "stream",
     "text": [
      "\n"
     ]
    }
   ],
   "source": [
    "NUM_FACTORS = 25  # @param\n",
    "AE_LAYERS = [100, 50]  # @param\n",
    "ACTIVATION = \"tanh\"  # @param [\"tanh\", \"sigmoid\", \"relu\", \"leaky_relu\"]\n",
    "LIKELIHOOD = \"bern\"  # @param [\"bern\", \"mult\", \"gaus\", \"pois\"]\n",
    "NUM_EPOCHS = 600  # @param \n",
    "BATCH_SIZE = 256  # @param\n",
    "LEARNING_RATE = 0.001  # @param\n",
    "\n",
    "vaecf = VAECF(k=NUM_FACTORS, autoencoder_structure=AE_LAYERS, act_fn=ACTIVATION,\n",
    "              likelihood=LIKELIHOOD, n_epochs=NUM_EPOCHS, batch_size=BATCH_SIZE,\n",
    "              learning_rate=LEARNING_RATE, seed=SEED, verbose=VERBOSE, use_gpu=True)\n",
    "\n",
    "wmf = WMF(k=NUM_FACTORS, max_iter=200, learning_rate=0.001, seed=SEED, verbose=VERBOSE)\n",
    "\n",
    "ml_100k = movielens.load_feedback(variant=\"100K\", reader=Reader(bin_threshold=4.0))\n",
    "ratio_split = RatioSplit(\n",
    "  data=ml_100k, test_size=0.2, exclude_unknowns=True, seed=SEED, verbose=VERBOSE\n",
    ")\n",
    "\n",
    "cornac.Experiment(\n",
    "  eval_method=ratio_split, models=[vaecf, wmf], metrics=[rec_50, ndcg_50],\n",
    ").run()"
   ]
  },
  {
   "cell_type": "markdown",
   "id": "6e451bfb",
   "metadata": {},
   "source": [
    "3. Deep Learning for Content-Based Filtering"
   ]
  },
  {
   "cell_type": "markdown",
   "id": "3851444f",
   "metadata": {},
   "source": [
    "Collaborative Deep Learning (CDL)"
   ]
  },
  {
   "cell_type": "code",
   "execution_count": 144,
   "id": "5ba579d9",
   "metadata": {},
   "outputs": [
    {
     "name": "stdout",
     "output_type": "stream",
     "text": [
      "Data from https://static.preferred.ai/cornac/datasets/movielens/ml_plot.zip\n",
      "will be cached into C:\\Users\\ABIR°S ELITEBOOK\\.cornac\\movielens/ml_plot.dat\n"
     ]
    },
    {
     "name": "stderr",
     "output_type": "stream",
     "text": [
      "3.60MB [00:03, 1.09MB/s]                                                                                               \n"
     ]
    },
    {
     "name": "stdout",
     "output_type": "stream",
     "text": [
      "Unzipping ...\n",
      "File cached!\n",
      "rating_threshold = 1.0\n",
      "exclude_unknowns = True\n",
      "---\n",
      "Training data:\n",
      "Number of users = 942\n",
      "Number of items = 1299\n",
      "Number of ratings = 42303\n",
      "Max rating = 1.0\n",
      "Min rating = 1.0\n",
      "Global mean = 1.0\n",
      "---\n",
      "Test data:\n",
      "Number of users = 921\n",
      "Number of items = 978\n",
      "Number of ratings = 10536\n",
      "Number of unknown users = 0\n",
      "Number of unknown items = 0\n",
      "---\n",
      "Total users = 942\n",
      "Total items = 1299\n",
      "\n",
      "[CDL] Training started!\n"
     ]
    },
    {
     "name": "stderr",
     "output_type": "stream",
     "text": [
      "100%|██████████████████████████████████████████████████████████████████████| 100/100 [00:49<00:00,  2.03it/s, loss=3.1]\n"
     ]
    },
    {
     "name": "stdout",
     "output_type": "stream",
     "text": [
      "Learning completed!\n",
      "\n",
      "[CDL] Evaluation started!\n"
     ]
    },
    {
     "name": "stderr",
     "output_type": "stream",
     "text": [
      "Ranking: 100%|██████████████████████████████████████████████████████████████████████| 921/921 [00:00<00:00, 950.62it/s]\n"
     ]
    },
    {
     "name": "stdout",
     "output_type": "stream",
     "text": [
      "\n",
      "[CTR] Training started!\n"
     ]
    },
    {
     "name": "stderr",
     "output_type": "stream",
     "text": [
      "100%|██████████████████████████████████████████| 100/100 [06:59<00:00,  4.19s/it, cf_loss=711, lda_likelihood=-1.69e+5]\n"
     ]
    },
    {
     "name": "stdout",
     "output_type": "stream",
     "text": [
      "Learning completed!\n",
      "\n",
      "[CTR] Evaluation started!\n"
     ]
    },
    {
     "name": "stderr",
     "output_type": "stream",
     "text": [
      "Ranking: 100%|█████████████████████████████████████████████████████████████████████| 921/921 [00:00<00:00, 1365.86it/s]"
     ]
    },
    {
     "name": "stdout",
     "output_type": "stream",
     "text": [
      "\n",
      "TEST:\n",
      "...\n",
      "    | NDCG@50 | Recall@50 | Train (s) | Test (s)\n",
      "--- + ------- + --------- + --------- + --------\n",
      "CDL |  0.2063 |    0.4067 |   50.4796 |   0.9821\n",
      "CTR |  0.1864 |    0.3343 |  419.2536 |   0.6793\n",
      "\n"
     ]
    },
    {
     "name": "stderr",
     "output_type": "stream",
     "text": [
      "\n"
     ]
    }
   ],
   "source": [
    "VOCAB_SIZE = 2000  # @param\n",
    "NUM_FACTORS = 50  # @param\n",
    "AE_LAYERS = [500, 100]  # @param\n",
    "ACTIVATION = \"tanh\"  # @param [\"tanh\", \"sigmoid\", \"relu\", \"leaky_relu\"]\n",
    "A = 1.0  # @param\n",
    "B = 0.01  # @param\n",
    "LAMBDA_U = 0.1  # @param\n",
    "LAMBDA_V = 0.1  # @param\n",
    "LAMBDA_W = 0.1  # @param\n",
    "LAMBDA_N = 10.0  # @param\n",
    "CORRUPTION_RATE = 0.3  # @param\n",
    "DROPOUT_RATE = 0.1  # @param\n",
    "NUM_EPOCHS = 100  # @param \n",
    "BATCH_SIZE = 100  # @param\n",
    "LEARNING_RATE = 0.001  # @param\n",
    "\n",
    "cdl = CDL(k=NUM_FACTORS, autoencoder_structure=AE_LAYERS, act_fn=ACTIVATION, a=A, b=B,\n",
    "          lambda_u=LAMBDA_U, lambda_v=LAMBDA_V, lambda_w=LAMBDA_W, lambda_n=LAMBDA_N,\n",
    "          corruption_rate=CORRUPTION_RATE, dropout_rate=DROPOUT_RATE, vocab_size=VOCAB_SIZE,\n",
    "          max_iter=NUM_EPOCHS, batch_size=BATCH_SIZE, seed=SEED, verbose=VERBOSE)\n",
    "\n",
    "ctr = CTR(k=NUM_FACTORS, max_iter=NUM_EPOCHS, a=A, b=B, lambda_u=LAMBDA_U, lambda_v=LAMBDA_V, seed=SEED, verbose=VERBOSE)\n",
    "\n",
    "plots, movie_ids = movielens.load_plot()\n",
    "feedback = movielens.load_feedback(variant=\"100k\", reader=Reader(item_set=movie_ids, bin_threshold=4.0))\n",
    "item_text_modality = TextModality(\n",
    "  corpus=plots, ids=movie_ids, tokenizer=BaseTokenizer(sep=\"\\t\", stop_words=\"english\"), max_vocab=VOCAB_SIZE,\n",
    ")\n",
    "\n",
    "ratio_split = RatioSplit(\n",
    "  data=feedback, \n",
    "  test_size=0.2, \n",
    "  exclude_unknowns=True, \n",
    "  item_text=item_text_modality, \n",
    "  seed=SEED, verbose=VERBOSE,\n",
    ")\n",
    "\n",
    "cornac.Experiment(eval_method=ratio_split, models=[cdl, ctr], metrics=[rec_50, ndcg_50]).run()"
   ]
  },
  {
   "cell_type": "markdown",
   "id": "bb2a07e0",
   "metadata": {},
   "source": [
    "Convolutional Matrix Factorization (ConvMF)"
   ]
  },
  {
   "cell_type": "code",
   "execution_count": 145,
   "id": "c97969bd",
   "metadata": {},
   "outputs": [
    {
     "name": "stdout",
     "output_type": "stream",
     "text": [
      "rating_threshold = 4.0\n",
      "exclude_unknowns = True\n",
      "---\n",
      "Training data:\n",
      "Number of users = 943\n",
      "Number of items = 1518\n",
      "Number of ratings = 75846\n",
      "Max rating = 5.0\n",
      "Min rating = 1.0\n",
      "Global mean = 3.5\n",
      "---\n",
      "Test data:\n",
      "Number of users = 942\n",
      "Number of items = 1279\n",
      "Number of ratings = 18933\n",
      "Number of unknown users = 0\n",
      "Number of unknown items = 0\n",
      "---\n",
      "Total users = 943\n",
      "Total items = 1518\n",
      "\n",
      "[ConvMF] Training started!\n",
      "Epoch: 1/5\n"
     ]
    },
    {
     "name": "stderr",
     "output_type": "stream",
     "text": [
      "Optimizing CNN: 100%|████████████████████████████████████████████████████████████████████| 3/3 [00:01<00:00,  1.82it/s]\n"
     ]
    },
    {
     "name": "stdout",
     "output_type": "stream",
     "text": [
      "Loss: 321274.68127 Elapsed: 1.9802s Converge: 32127468127409099921380107554808832716776590359807393792.000000 \n",
      "Epoch: 2/5\n"
     ]
    },
    {
     "name": "stderr",
     "output_type": "stream",
     "text": [
      "Optimizing CNN: 100%|████████████████████████████████████████████████████████████████████| 3/3 [00:01<00:00,  1.89it/s]\n"
     ]
    },
    {
     "name": "stdout",
     "output_type": "stream",
     "text": [
      "Loss: 67855.52837 Elapsed: 1.9873s Converge: 0.788793 \n",
      "Epoch: 3/5\n"
     ]
    },
    {
     "name": "stderr",
     "output_type": "stream",
     "text": [
      "Optimizing CNN: 100%|████████████████████████████████████████████████████████████████████| 3/3 [00:01<00:00,  1.90it/s]\n"
     ]
    },
    {
     "name": "stdout",
     "output_type": "stream",
     "text": [
      "Loss: 65869.62258 Elapsed: 1.9830s Converge: 0.029267 \n",
      "Epoch: 4/5\n"
     ]
    },
    {
     "name": "stderr",
     "output_type": "stream",
     "text": [
      "Optimizing CNN: 100%|████████████████████████████████████████████████████████████████████| 3/3 [00:01<00:00,  1.88it/s]\n"
     ]
    },
    {
     "name": "stdout",
     "output_type": "stream",
     "text": [
      "Loss: 68624.45065 Elapsed: 2.0131s Converge: 0.041822 \n",
      "Epoch: 5/5\n"
     ]
    },
    {
     "name": "stderr",
     "output_type": "stream",
     "text": [
      "Optimizing CNN: 100%|████████████████████████████████████████████████████████████████████| 3/3 [00:01<00:00,  1.77it/s]\n"
     ]
    },
    {
     "name": "stdout",
     "output_type": "stream",
     "text": [
      "Loss: 71809.31024 Elapsed: 2.1156s Converge: 0.046410 \n",
      "\n",
      "[ConvMF] Evaluation started!\n"
     ]
    },
    {
     "name": "stderr",
     "output_type": "stream",
     "text": [
      "Rating: 100%|█████████████████████████████████████████████████████████████████| 18933/18933 [00:00<00:00, 32828.46it/s]\n",
      "Ranking: 100%|█████████████████████████████████████████████████████████████████████| 942/942 [00:00<00:00, 2125.08it/s]"
     ]
    },
    {
     "name": "stdout",
     "output_type": "stream",
     "text": [
      "\n",
      "TEST:\n",
      "...\n",
      "       |   RMSE | Recall@50 | Train (s) | Test (s)\n",
      "------ + ------ + --------- + --------- + --------\n",
      "ConvMF | 0.9806 |    0.0083 |   10.6571 |   1.0366\n",
      "\n"
     ]
    },
    {
     "name": "stderr",
     "output_type": "stream",
     "text": [
      "\n"
     ]
    }
   ],
   "source": [
    "VOCAB_SIZE = 2000  # @param\n",
    "NUM_FACTORS = 5  # @param\n",
    "HIDDEN_DIM = 50  # @param\n",
    "CNN_FILTER_SIZES = [2, 3, 4, 5]  # @param\n",
    "CNN_NUM_FILTERS = 128  # @param\n",
    "WORD_EMB_DIM = 32  # @param\n",
    "SEQ_MAX_LENGTH = 50  # @param\n",
    "DROPOUT_RATE = 0.2  # @param\n",
    "LAMBDA_U = 0.1  # @param\n",
    "LAMBDA_V = 0.1  # @param\n",
    "NUM_EPOCHS = 5  # @param\n",
    "CNN_EPOCHS = 3  # @param\n",
    "CNN_BATCH_SIZE = 256  # @param\n",
    "CNN_LEARNING_RATE = 0.001  # @param\n",
    "\n",
    "convmf = ConvMF(k=NUM_FACTORS, n_epochs=NUM_EPOCHS, cnn_epochs=CNN_EPOCHS, cnn_bs=CNN_BATCH_SIZE,\n",
    "                cnn_lr=CNN_LEARNING_RATE, emb_dim=WORD_EMB_DIM, max_len=SEQ_MAX_LENGTH,\n",
    "                filter_sizes=CNN_FILTER_SIZES, num_filters=CNN_NUM_FILTERS, hidden_dim=HIDDEN_DIM, \n",
    "                dropout_rate=DROPOUT_RATE, lambda_u=LAMBDA_U, lambda_v=LAMBDA_V,\n",
    "                seed=SEED, verbose=VERBOSE)\n",
    "\n",
    "plots, movie_ids = movielens.load_plot()\n",
    "feedback = movielens.load_feedback(variant=\"100k\", reader=Reader(item_set=movie_ids))\n",
    "item_text_modality = TextModality(\n",
    "  corpus=plots, ids=movie_ids, tokenizer=BaseTokenizer(sep=\"\\t\", stop_words=\"english\"), max_vocab=VOCAB_SIZE,\n",
    ")\n",
    "\n",
    "ratio_split = RatioSplit(\n",
    "  data=feedback, \n",
    "  test_size=0.2, \n",
    "  rating_threshold=4.0, \n",
    "  exclude_unknowns=True, \n",
    "  item_text=item_text_modality, \n",
    "  seed=SEED, \n",
    "  verbose=VERBOSE\n",
    ")\n",
    "\n",
    "rmse = cornac.metrics.RMSE()\n",
    "\n",
    "cornac.Experiment(\n",
    "  eval_method=ratio_split, models=[convmf], metrics=[rmse, rec_50], user_based=False\n",
    ").run()"
   ]
  }
 ],
 "metadata": {
  "kernelspec": {
   "display_name": "Python 3 (ipykernel)",
   "language": "python",
   "name": "python3"
  },
  "language_info": {
   "codemirror_mode": {
    "name": "ipython",
    "version": 3
   },
   "file_extension": ".py",
   "mimetype": "text/x-python",
   "name": "python",
   "nbconvert_exporter": "python",
   "pygments_lexer": "ipython3",
   "version": "3.6.4"
  }
 },
 "nbformat": 4,
 "nbformat_minor": 5
}
